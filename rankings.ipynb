{
 "cells": [
  {
   "cell_type": "code",
   "execution_count": 2,
   "metadata": {},
   "outputs": [],
   "source": [
    "import pandas as pd"
   ]
  },
  {
   "cell_type": "code",
   "execution_count": 3,
   "metadata": {},
   "outputs": [],
   "source": [
    "rankings = pd.read_csv('Prelim2019_MasseyOrdinals/Prelim2019_MasseyOrdinals.csv')\n",
    "seasons = pd.read_csv('Stage2DataFiles/Seasons.csv',parse_dates=['DayZero'],index_col='Season')"
   ]
  },
  {
   "cell_type": "code",
   "execution_count": 4,
   "metadata": {},
   "outputs": [],
   "source": [
    "rankings['Date'] = rankings.apply(lambda row: pd.to_timedelta(row['RankingDayNum'],unit='D') + \\\n",
    "                                  seasons.loc[row['Season'],'DayZero'],axis=1) "
   ]
  },
  {
   "cell_type": "code",
   "execution_count": 5,
   "metadata": {},
   "outputs": [],
   "source": [
    "## save this in a dictionary with team ID as key\n",
    "eff_rank = {t:rankings[rankings['TeamID'] == t].set_index('Date').resample('7D').mean().interpolate().\\\n",
    "            rolling(4).mean().bfill()['OrdinalRank'] \\\n",
    "               for t in rankings['TeamID'].unique()}"
   ]
  },
  {
   "cell_type": "code",
   "execution_count": 6,
   "metadata": {},
   "outputs": [],
   "source": [
    "df = pd.concat([pd.read_csv('Stage2DataFiles/RegularSeasonCompactResults.csv'),\n",
    "               pd.read_csv('Stage2DataFiles/NCAATourneyCompactResults.csv')]).reset_index(drop=True)\n",
    "df = df[df['Season'] >= 2003].reset_index(drop=True)\n",
    "df = df.sort_values(by=['Season','DayNum'])"
   ]
  },
  {
   "cell_type": "code",
   "execution_count": 7,
   "metadata": {},
   "outputs": [],
   "source": [
    "df['Date'] = df.apply(lambda row: pd.to_timedelta(row['DayNum'],unit='D') \\\n",
    "                          + seasons.loc[row['Season'],'DayZero'],axis=1)"
   ]
  },
  {
   "cell_type": "code",
   "execution_count": 8,
   "metadata": {},
   "outputs": [],
   "source": [
    "for i,game in df.iterrows():\n",
    "    Wteam_rank = eff_rank[game['WTeamID']].reset_index()\n",
    "    Widx = (Wteam_rank['Date'] - game['Date']).abs().idxmin()\n",
    "    df.at[i,'Wrank'] = Wteam_rank.loc[Widx,'OrdinalRank']\n",
    "    Lteam_rank = eff_rank[game['LTeamID']].reset_index()\n",
    "    Lidx = (Lteam_rank['Date'] - game['Date']).abs().idxmin()\n",
    "    df.at[i,'Lrank'] = Lteam_rank.loc[Lidx,'OrdinalRank']"
   ]
  },
  {
   "cell_type": "code",
   "execution_count": 9,
   "metadata": {},
   "outputs": [],
   "source": [
    "df.to_csv('rankings.csv')"
   ]
  },
  {
   "cell_type": "code",
   "execution_count": 10,
   "metadata": {},
   "outputs": [
    {
     "data": {
      "text/html": [
       "<div>\n",
       "<style scoped>\n",
       "    .dataframe tbody tr th:only-of-type {\n",
       "        vertical-align: middle;\n",
       "    }\n",
       "\n",
       "    .dataframe tbody tr th {\n",
       "        vertical-align: top;\n",
       "    }\n",
       "\n",
       "    .dataframe thead th {\n",
       "        text-align: right;\n",
       "    }\n",
       "</style>\n",
       "<table border=\"1\" class=\"dataframe\">\n",
       "  <thead>\n",
       "    <tr style=\"text-align: right;\">\n",
       "      <th></th>\n",
       "      <th>Season</th>\n",
       "      <th>DayNum</th>\n",
       "      <th>WTeamID</th>\n",
       "      <th>WScore</th>\n",
       "      <th>LTeamID</th>\n",
       "      <th>LScore</th>\n",
       "      <th>WLoc</th>\n",
       "      <th>NumOT</th>\n",
       "      <th>Date</th>\n",
       "      <th>Wrank</th>\n",
       "      <th>Lrank</th>\n",
       "    </tr>\n",
       "  </thead>\n",
       "  <tbody>\n",
       "    <tr>\n",
       "      <th>0</th>\n",
       "      <td>2003</td>\n",
       "      <td>10</td>\n",
       "      <td>1104</td>\n",
       "      <td>68</td>\n",
       "      <td>1328</td>\n",
       "      <td>62</td>\n",
       "      <td>N</td>\n",
       "      <td>0</td>\n",
       "      <td>2002-11-14</td>\n",
       "      <td>17.364450</td>\n",
       "      <td>29.844785</td>\n",
       "    </tr>\n",
       "    <tr>\n",
       "      <th>1</th>\n",
       "      <td>2003</td>\n",
       "      <td>10</td>\n",
       "      <td>1272</td>\n",
       "      <td>70</td>\n",
       "      <td>1393</td>\n",
       "      <td>63</td>\n",
       "      <td>N</td>\n",
       "      <td>0</td>\n",
       "      <td>2002-11-14</td>\n",
       "      <td>57.376375</td>\n",
       "      <td>54.096675</td>\n",
       "    </tr>\n",
       "    <tr>\n",
       "      <th>2</th>\n",
       "      <td>2003</td>\n",
       "      <td>11</td>\n",
       "      <td>1266</td>\n",
       "      <td>73</td>\n",
       "      <td>1437</td>\n",
       "      <td>61</td>\n",
       "      <td>N</td>\n",
       "      <td>0</td>\n",
       "      <td>2002-11-15</td>\n",
       "      <td>22.799617</td>\n",
       "      <td>61.893478</td>\n",
       "    </tr>\n",
       "    <tr>\n",
       "      <th>3</th>\n",
       "      <td>2003</td>\n",
       "      <td>11</td>\n",
       "      <td>1296</td>\n",
       "      <td>56</td>\n",
       "      <td>1457</td>\n",
       "      <td>50</td>\n",
       "      <td>N</td>\n",
       "      <td>0</td>\n",
       "      <td>2002-11-15</td>\n",
       "      <td>183.660838</td>\n",
       "      <td>229.757481</td>\n",
       "    </tr>\n",
       "    <tr>\n",
       "      <th>4</th>\n",
       "      <td>2003</td>\n",
       "      <td>11</td>\n",
       "      <td>1400</td>\n",
       "      <td>77</td>\n",
       "      <td>1208</td>\n",
       "      <td>71</td>\n",
       "      <td>N</td>\n",
       "      <td>0</td>\n",
       "      <td>2002-11-15</td>\n",
       "      <td>14.832990</td>\n",
       "      <td>46.966049</td>\n",
       "    </tr>\n",
       "  </tbody>\n",
       "</table>\n",
       "</div>"
      ],
      "text/plain": [
       "   Season  DayNum  WTeamID  WScore  LTeamID  LScore WLoc  NumOT       Date  \\\n",
       "0    2003      10     1104      68     1328      62    N      0 2002-11-14   \n",
       "1    2003      10     1272      70     1393      63    N      0 2002-11-14   \n",
       "2    2003      11     1266      73     1437      61    N      0 2002-11-15   \n",
       "3    2003      11     1296      56     1457      50    N      0 2002-11-15   \n",
       "4    2003      11     1400      77     1208      71    N      0 2002-11-15   \n",
       "\n",
       "        Wrank       Lrank  \n",
       "0   17.364450   29.844785  \n",
       "1   57.376375   54.096675  \n",
       "2   22.799617   61.893478  \n",
       "3  183.660838  229.757481  \n",
       "4   14.832990   46.966049  "
      ]
     },
     "execution_count": 10,
     "metadata": {},
     "output_type": "execute_result"
    }
   ],
   "source": [
    "df.head()"
   ]
  },
  {
   "cell_type": "code",
   "execution_count": null,
   "metadata": {},
   "outputs": [],
   "source": []
  }
 ],
 "metadata": {
  "kernelspec": {
   "display_name": "Python 3",
   "language": "python",
   "name": "python3"
  },
  "language_info": {
   "codemirror_mode": {
    "name": "ipython",
    "version": 3
   },
   "file_extension": ".py",
   "mimetype": "text/x-python",
   "name": "python",
   "nbconvert_exporter": "python",
   "pygments_lexer": "ipython3",
   "version": "3.6.5"
  }
 },
 "nbformat": 4,
 "nbformat_minor": 2
}
