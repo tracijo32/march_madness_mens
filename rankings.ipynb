{
 "cells": [
  {
   "cell_type": "code",
   "execution_count": 33,
   "metadata": {},
   "outputs": [],
   "source": [
    "import pandas as pd"
   ]
  },
  {
   "cell_type": "code",
   "execution_count": 34,
   "metadata": {},
   "outputs": [],
   "source": [
    "rankings = pd.read_csv('MasseyOrdinals/MasseyOrdinals.csv')\n",
    "seasons = pd.read_csv('DataFiles/Seasons.csv',parse_dates=['DayZero'],index_col='Season')"
   ]
  },
  {
   "cell_type": "code",
   "execution_count": 35,
   "metadata": {},
   "outputs": [],
   "source": [
    "rankings['Date'] = rankings.apply(lambda row: pd.to_timedelta(row['RankingDayNum'],unit='D') + \\\n",
    "                                  seasons.loc[row['Season'],'DayZero'],axis=1) "
   ]
  },
  {
   "cell_type": "code",
   "execution_count": 36,
   "metadata": {},
   "outputs": [],
   "source": [
    "## save this in a dictionary with team ID as key\n",
    "eff_rank = {t:rankings[rankings['TeamID'] == t].set_index('Date').resample('7D').mean().interpolate()['OrdinalRank'] \\\n",
    "               for t in rankings['TeamID'].unique()}"
   ]
  },
  {
   "cell_type": "code",
   "execution_count": 37,
   "metadata": {},
   "outputs": [],
   "source": [
    "df = pd.concat([pd.read_csv('DataFiles/RegularSeasonCompactResults.csv'),\n",
    "               pd.read_csv('DataFiles/NCAATourneyCompactResults.csv')]).reset_index(drop=True)\n",
    "df = df[df['Season'] >= 2003].reset_index(drop=True)\n",
    "df = df.sort_values(by=['Season','DayNum'])"
   ]
  },
  {
   "cell_type": "code",
   "execution_count": 38,
   "metadata": {},
   "outputs": [],
   "source": [
    "df['Date'] = df.apply(lambda row: pd.to_timedelta(row['DayNum'],unit='D') \\\n",
    "                          + seasons.loc[row['Season'],'DayZero'],axis=1)"
   ]
  },
  {
   "cell_type": "code",
   "execution_count": 39,
   "metadata": {},
   "outputs": [],
   "source": [
    "for i,game in df.iterrows():\n",
    "    Wteam_rank = eff_rank[game['WTeamID']].reset_index()\n",
    "    Widx = (Wteam_rank['Date'] - game['Date']).abs().idxmin()\n",
    "    df.at[i,'Wrank'] = Wteam_rank.loc[Widx,'OrdinalRank']\n",
    "    Lteam_rank = eff_rank[game['LTeamID']].reset_index()\n",
    "    Lidx = (Lteam_rank['Date'] - game['Date']).abs().idxmin()\n",
    "    df.at[i,'Lrank'] = Lteam_rank.loc[Lidx,'OrdinalRank']"
   ]
  },
  {
   "cell_type": "code",
   "execution_count": 40,
   "metadata": {},
   "outputs": [],
   "source": [
    "df.to_csv('rankings.csv')"
   ]
  },
  {
   "cell_type": "code",
   "execution_count": 41,
   "metadata": {},
   "outputs": [
    {
     "data": {
      "text/html": [
       "<div>\n",
       "<style scoped>\n",
       "    .dataframe tbody tr th:only-of-type {\n",
       "        vertical-align: middle;\n",
       "    }\n",
       "\n",
       "    .dataframe tbody tr th {\n",
       "        vertical-align: top;\n",
       "    }\n",
       "\n",
       "    .dataframe thead th {\n",
       "        text-align: right;\n",
       "    }\n",
       "</style>\n",
       "<table border=\"1\" class=\"dataframe\">\n",
       "  <thead>\n",
       "    <tr style=\"text-align: right;\">\n",
       "      <th></th>\n",
       "      <th>Season</th>\n",
       "      <th>DayNum</th>\n",
       "      <th>WTeamID</th>\n",
       "      <th>WScore</th>\n",
       "      <th>LTeamID</th>\n",
       "      <th>LScore</th>\n",
       "      <th>WLoc</th>\n",
       "      <th>NumOT</th>\n",
       "      <th>Date</th>\n",
       "      <th>Wrank</th>\n",
       "      <th>Lrank</th>\n",
       "    </tr>\n",
       "  </thead>\n",
       "  <tbody>\n",
       "    <tr>\n",
       "      <th>0</th>\n",
       "      <td>2003</td>\n",
       "      <td>10</td>\n",
       "      <td>1104</td>\n",
       "      <td>68</td>\n",
       "      <td>1328</td>\n",
       "      <td>62</td>\n",
       "      <td>N</td>\n",
       "      <td>0</td>\n",
       "      <td>2002-11-14</td>\n",
       "      <td>14.157895</td>\n",
       "      <td>22.157895</td>\n",
       "    </tr>\n",
       "    <tr>\n",
       "      <th>1</th>\n",
       "      <td>2003</td>\n",
       "      <td>10</td>\n",
       "      <td>1272</td>\n",
       "      <td>70</td>\n",
       "      <td>1393</td>\n",
       "      <td>63</td>\n",
       "      <td>N</td>\n",
       "      <td>0</td>\n",
       "      <td>2002-11-14</td>\n",
       "      <td>66.764706</td>\n",
       "      <td>76.823529</td>\n",
       "    </tr>\n",
       "    <tr>\n",
       "      <th>2</th>\n",
       "      <td>2003</td>\n",
       "      <td>11</td>\n",
       "      <td>1266</td>\n",
       "      <td>73</td>\n",
       "      <td>1437</td>\n",
       "      <td>61</td>\n",
       "      <td>N</td>\n",
       "      <td>0</td>\n",
       "      <td>2002-11-15</td>\n",
       "      <td>29.210526</td>\n",
       "      <td>42.411765</td>\n",
       "    </tr>\n",
       "    <tr>\n",
       "      <th>3</th>\n",
       "      <td>2003</td>\n",
       "      <td>11</td>\n",
       "      <td>1296</td>\n",
       "      <td>56</td>\n",
       "      <td>1457</td>\n",
       "      <td>50</td>\n",
       "      <td>N</td>\n",
       "      <td>0</td>\n",
       "      <td>2002-11-15</td>\n",
       "      <td>179.764706</td>\n",
       "      <td>231.176471</td>\n",
       "    </tr>\n",
       "    <tr>\n",
       "      <th>4</th>\n",
       "      <td>2003</td>\n",
       "      <td>11</td>\n",
       "      <td>1400</td>\n",
       "      <td>77</td>\n",
       "      <td>1208</td>\n",
       "      <td>71</td>\n",
       "      <td>N</td>\n",
       "      <td>0</td>\n",
       "      <td>2002-11-15</td>\n",
       "      <td>17.263158</td>\n",
       "      <td>63.764706</td>\n",
       "    </tr>\n",
       "  </tbody>\n",
       "</table>\n",
       "</div>"
      ],
      "text/plain": [
       "   Season  DayNum  WTeamID  WScore  LTeamID  LScore WLoc  NumOT       Date  \\\n",
       "0    2003      10     1104      68     1328      62    N      0 2002-11-14   \n",
       "1    2003      10     1272      70     1393      63    N      0 2002-11-14   \n",
       "2    2003      11     1266      73     1437      61    N      0 2002-11-15   \n",
       "3    2003      11     1296      56     1457      50    N      0 2002-11-15   \n",
       "4    2003      11     1400      77     1208      71    N      0 2002-11-15   \n",
       "\n",
       "        Wrank       Lrank  \n",
       "0   14.157895   22.157895  \n",
       "1   66.764706   76.823529  \n",
       "2   29.210526   42.411765  \n",
       "3  179.764706  231.176471  \n",
       "4   17.263158   63.764706  "
      ]
     },
     "execution_count": 41,
     "metadata": {},
     "output_type": "execute_result"
    }
   ],
   "source": [
    "df.head()"
   ]
  },
  {
   "cell_type": "code",
   "execution_count": null,
   "metadata": {},
   "outputs": [],
   "source": []
  }
 ],
 "metadata": {
  "kernelspec": {
   "display_name": "Python 3",
   "language": "python",
   "name": "python3"
  },
  "language_info": {
   "codemirror_mode": {
    "name": "ipython",
    "version": 3
   },
   "file_extension": ".py",
   "mimetype": "text/x-python",
   "name": "python",
   "nbconvert_exporter": "python",
   "pygments_lexer": "ipython3",
   "version": "3.6.5"
  }
 },
 "nbformat": 4,
 "nbformat_minor": 2
}
