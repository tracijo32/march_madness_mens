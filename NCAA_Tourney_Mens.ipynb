{
 "cells": [
  {
   "cell_type": "markdown",
   "metadata": {},
   "source": [
    "# Men's NCAA Basketball Tournament Predictions"
   ]
  },
  {
   "cell_type": "markdown",
   "metadata": {},
   "source": [
    "## Download data from Kaggle"
   ]
  },
  {
   "cell_type": "markdown",
   "metadata": {},
   "source": [
    "I used the Kaggle API to download the data. This requires an account in order to obtain an API key and to accept the terms and conditions of the [Google Cloud & Men's 2019 NCAA Tournament ML Competition](https://www.kaggle.com/c/mens-machine-learning-competition-2019/)."
   ]
  },
  {
   "cell_type": "code",
   "execution_count": 150,
   "metadata": {},
   "outputs": [
    {
     "name": "stdout",
     "output_type": "stream",
     "text": [
      "SampleSubmissionStage1.csv: Skipping, found more recently modified local copy (use --force to force download)\n",
      "Downloading MasseyOrdinals.zip to /Users/tljohn/data_science/kaggle/ncaa-mens-2019\n",
      "\n",
      "Downloading PlayByPlay_2010.zip to /Users/tljohn/data_science/kaggle/ncaa-mens-2019\n",
      "\n",
      "Downloading PlayByPlay_2011.zip to /Users/tljohn/data_science/kaggle/ncaa-mens-2019\n",
      "\n",
      "Downloading PlayByPlay_2012.zip to /Users/tljohn/data_science/kaggle/ncaa-mens-2019\n",
      "\n",
      "Downloading PlayByPlay_2013.zip to /Users/tljohn/data_science/kaggle/ncaa-mens-2019\n",
      "\n",
      "Downloading PlayByPlay_2014.zip to /Users/tljohn/data_science/kaggle/ncaa-mens-2019\n",
      "\n",
      "Downloading PlayByPlay_2015.zip to /Users/tljohn/data_science/kaggle/ncaa-mens-2019\n",
      "\n",
      "Downloading PlayByPlay_2016.zip to /Users/tljohn/data_science/kaggle/ncaa-mens-2019\n",
      "\n",
      "Downloading PlayByPlay_2017.zip to /Users/tljohn/data_science/kaggle/ncaa-mens-2019\n",
      "\n",
      "Downloading PlayByPlay_2018.zip to /Users/tljohn/data_science/kaggle/ncaa-mens-2019\n",
      "\n",
      "Downloading DataFiles.zip to /Users/tljohn/data_science/kaggle/ncaa-mens-2019\n",
      "\n"
     ]
    },
    {
     "name": "stderr",
     "output_type": "stream",
     "text": [
      "\r",
      "  0%|          | 0.00/13.7M [00:00<?, ?B/s]\r",
      "  7%|▋         | 1.00M/13.7M [00:00<00:08, 1.63MB/s]\r",
      " 15%|█▍        | 2.00M/13.7M [00:00<00:05, 2.09MB/s]\r",
      " 22%|██▏       | 3.00M/13.7M [00:01<00:04, 2.44MB/s]\r",
      " 29%|██▉       | 4.00M/13.7M [00:01<00:03, 3.02MB/s]\r",
      " 36%|███▋      | 5.00M/13.7M [00:01<00:02, 3.80MB/s]\r",
      " 44%|████▎     | 6.00M/13.7M [00:01<00:02, 4.04MB/s]\r",
      " 51%|█████     | 7.00M/13.7M [00:01<00:01, 4.12MB/s]\r",
      " 58%|█████▊    | 8.00M/13.7M [00:01<00:01, 4.49MB/s]\r",
      " 65%|██████▌   | 9.00M/13.7M [00:02<00:01, 4.78MB/s]\r",
      " 73%|███████▎  | 10.0M/13.7M [00:02<00:00, 4.91MB/s]\r",
      " 80%|████████  | 11.0M/13.7M [00:02<00:00, 5.05MB/s]\r",
      " 87%|████████▋ | 12.0M/13.7M [00:02<00:00, 5.40MB/s]\r",
      " 95%|█████████▍| 13.0M/13.7M [00:02<00:00, 5.44MB/s]\r",
      "100%|██████████| 13.7M/13.7M [00:03<00:00, 5.51MB/s]\n",
      "\r",
      "  0%|          | 0.00/19.9M [00:00<?, ?B/s]\r",
      "  5%|▌         | 1.00M/19.9M [00:00<00:03, 6.03MB/s]\r",
      " 10%|█         | 2.00M/19.9M [00:00<00:03, 6.14MB/s]\r",
      " 15%|█▌        | 3.00M/19.9M [00:00<00:02, 6.34MB/s]\r",
      " 20%|██        | 4.00M/19.9M [00:00<00:02, 6.27MB/s]\r",
      " 25%|██▌       | 5.00M/19.9M [00:00<00:02, 6.95MB/s]\r",
      " 30%|███       | 6.00M/19.9M [00:00<00:02, 6.41MB/s]\r",
      " 35%|███▌      | 7.00M/19.9M [00:01<00:02, 6.12MB/s]\r",
      " 40%|████      | 8.00M/19.9M [00:01<00:02, 5.40MB/s]\r",
      " 45%|████▌     | 9.00M/19.9M [00:01<00:02, 5.59MB/s]\r",
      " 50%|█████     | 10.0M/19.9M [00:01<00:02, 5.13MB/s]\r",
      " 55%|█████▌    | 11.0M/19.9M [00:01<00:01, 5.34MB/s]\r",
      " 60%|██████    | 12.0M/19.9M [00:02<00:01, 5.37MB/s]\r",
      " 65%|██████▌   | 13.0M/19.9M [00:02<00:01, 5.73MB/s]\r",
      " 71%|███████   | 14.0M/19.9M [00:02<00:01, 5.70MB/s]\r",
      " 76%|███████▌  | 15.0M/19.9M [00:02<00:00, 5.82MB/s]\r",
      " 81%|████████  | 16.0M/19.9M [00:02<00:00, 6.25MB/s]\r",
      " 86%|████████▌ | 17.0M/19.9M [00:02<00:00, 6.52MB/s]\r",
      " 91%|█████████ | 18.0M/19.9M [00:03<00:00, 6.02MB/s]\r",
      " 96%|█████████▌| 19.0M/19.9M [00:03<00:00, 5.83MB/s]\r",
      "100%|██████████| 19.9M/19.9M [00:03<00:00, 5.96MB/s]\n",
      "\r",
      "  0%|          | 0.00/20.0M [00:00<?, ?B/s]\r",
      "  5%|▍         | 1.00M/20.0M [00:00<00:03, 5.40MB/s]\r",
      " 10%|▉         | 2.00M/20.0M [00:00<00:03, 5.84MB/s]\r",
      " 15%|█▍        | 3.00M/20.0M [00:00<00:03, 5.75MB/s]\r",
      " 20%|█▉        | 4.00M/20.0M [00:00<00:03, 5.06MB/s]\r",
      " 25%|██▍       | 5.00M/20.0M [00:00<00:03, 5.22MB/s]\r",
      " 30%|██▉       | 6.00M/20.0M [00:01<00:02, 5.33MB/s]\r",
      " 35%|███▍      | 7.00M/20.0M [00:01<00:02, 5.61MB/s]\r",
      " 40%|███▉      | 8.00M/20.0M [00:01<00:02, 5.87MB/s]\r",
      " 45%|████▍     | 9.00M/20.0M [00:01<00:01, 6.21MB/s]\r",
      " 50%|████▉     | 10.0M/20.0M [00:01<00:01, 5.88MB/s]\r",
      " 55%|█████▍    | 11.0M/20.0M [00:02<00:01, 5.81MB/s]\r",
      " 60%|█████▉    | 12.0M/20.0M [00:02<00:01, 5.52MB/s]\r",
      " 65%|██████▍   | 13.0M/20.0M [00:02<00:01, 5.55MB/s]\r",
      " 70%|██████▉   | 14.0M/20.0M [00:02<00:01, 5.30MB/s]\r",
      " 75%|███████▍  | 15.0M/20.0M [00:03<00:01, 3.55MB/s]\r",
      " 80%|███████▉  | 16.0M/20.0M [00:03<00:01, 4.08MB/s]\r",
      " 85%|████████▍ | 17.0M/20.0M [00:03<00:00, 4.72MB/s]\r",
      " 90%|████████▉ | 18.0M/20.0M [00:03<00:00, 5.05MB/s]\r",
      " 95%|█████████▍| 19.0M/20.0M [00:03<00:00, 4.62MB/s]\r",
      "100%|█████████▉| 20.0M/20.0M [00:04<00:00, 4.72MB/s]\r",
      "100%|██████████| 20.0M/20.0M [00:04<00:00, 5.08MB/s]\n",
      "\r",
      "  0%|          | 0.00/19.9M [00:00<?, ?B/s]\r",
      "  5%|▌         | 1.00M/19.9M [00:00<00:04, 4.73MB/s]\r",
      " 10%|█         | 2.00M/19.9M [00:00<00:04, 4.66MB/s]\r",
      " 15%|█▌        | 3.00M/19.9M [00:00<00:03, 4.76MB/s]\r",
      " 20%|██        | 4.00M/19.9M [00:00<00:03, 4.85MB/s]\r",
      " 25%|██▌       | 5.00M/19.9M [00:01<00:03, 4.95MB/s]\r",
      " 30%|███       | 6.00M/19.9M [00:01<00:03, 4.74MB/s]\r",
      " 35%|███▌      | 7.00M/19.9M [00:01<00:02, 4.94MB/s]\r",
      " 40%|████      | 8.00M/19.9M [00:01<00:02, 4.83MB/s]\r",
      " 45%|████▌     | 9.00M/19.9M [00:01<00:02, 4.75MB/s]\r",
      " 50%|█████     | 10.0M/19.9M [00:02<00:02, 4.29MB/s]\r",
      " 55%|█████▌    | 11.0M/19.9M [00:02<00:02, 4.51MB/s]\r",
      " 60%|██████    | 12.0M/19.9M [00:02<00:01, 4.66MB/s]\r",
      " 65%|██████▌   | 13.0M/19.9M [00:02<00:01, 4.84MB/s]\r",
      " 70%|███████   | 14.0M/19.9M [00:03<00:01, 4.16MB/s]\r",
      " 75%|███████▌  | 15.0M/19.9M [00:03<00:01, 4.53MB/s]\r",
      " 80%|████████  | 16.0M/19.9M [00:03<00:00, 4.32MB/s]\r",
      " 85%|████████▌ | 17.0M/19.9M [00:03<00:00, 4.13MB/s]\r",
      " 90%|█████████ | 18.0M/19.9M [00:04<00:00, 4.06MB/s]\r",
      " 95%|█████████▌| 19.0M/19.9M [00:04<00:00, 4.44MB/s]\r",
      "100%|██████████| 19.9M/19.9M [00:04<00:00, 4.50MB/s]\n",
      "\r",
      "  0%|          | 0.00/20.3M [00:00<?, ?B/s]\r",
      "  5%|▍         | 1.00M/20.3M [00:00<00:04, 4.90MB/s]\r",
      " 10%|▉         | 2.00M/20.3M [00:00<00:03, 5.03MB/s]\r",
      " 15%|█▍        | 3.00M/20.3M [00:00<00:03, 4.98MB/s]\r",
      " 20%|█▉        | 4.00M/20.3M [00:00<00:03, 5.30MB/s]\r",
      " 25%|██▍       | 5.00M/20.3M [00:01<00:03, 5.21MB/s]\r",
      " 30%|██▉       | 6.00M/20.3M [00:01<00:02, 5.08MB/s]\r",
      " 34%|███▍      | 7.00M/20.3M [00:01<00:02, 5.27MB/s]\r",
      " 39%|███▉      | 8.00M/20.3M [00:01<00:02, 4.83MB/s]\r",
      " 44%|████▍     | 9.00M/20.3M [00:01<00:02, 5.14MB/s]\r",
      " 49%|████▉     | 10.0M/20.3M [00:02<00:01, 5.45MB/s]\r",
      " 54%|█████▍    | 11.0M/20.3M [00:02<00:01, 5.47MB/s]\r",
      " 59%|█████▉    | 12.0M/20.3M [00:02<00:01, 5.63MB/s]\r",
      " 64%|██████▍   | 13.0M/20.3M [00:02<00:01, 6.00MB/s]\r",
      " 69%|██████▉   | 14.0M/20.3M [00:02<00:01, 6.17MB/s]\r",
      " 74%|███████▍  | 15.0M/20.3M [00:02<00:01, 5.43MB/s]\r",
      " 79%|███████▉  | 16.0M/20.3M [00:03<00:00, 5.23MB/s]\r",
      " 84%|████████▍ | 17.0M/20.3M [00:03<00:00, 5.33MB/s]\r",
      " 89%|████████▊ | 18.0M/20.3M [00:03<00:00, 5.36MB/s]\r",
      " 94%|█████████▎| 19.0M/20.3M [00:03<00:00, 5.35MB/s]\r",
      " 99%|█████████▊| 20.0M/20.3M [00:03<00:00, 5.53MB/s]\r",
      "100%|██████████| 20.3M/20.3M [00:03<00:00, 5.38MB/s]\n",
      "\r",
      "  0%|          | 0.00/21.0M [00:00<?, ?B/s]\r",
      "  5%|▍         | 1.00M/21.0M [00:00<00:04, 4.86MB/s]\r",
      " 10%|▉         | 2.00M/21.0M [00:00<00:04, 4.92MB/s]\r",
      " 14%|█▍        | 3.00M/21.0M [00:00<00:03, 5.01MB/s]\r",
      " 19%|█▉        | 4.00M/21.0M [00:00<00:03, 5.30MB/s]\r",
      " 24%|██▍       | 5.00M/21.0M [00:00<00:03, 5.38MB/s]\r",
      " 29%|██▊       | 6.00M/21.0M [00:01<00:02, 5.42MB/s]\r",
      " 33%|███▎      | 7.00M/21.0M [00:01<00:02, 6.21MB/s]\r",
      " 38%|███▊      | 8.00M/21.0M [00:01<00:02, 5.63MB/s]\r",
      " 43%|████▎     | 9.00M/21.0M [00:01<00:02, 5.78MB/s]\r",
      " 48%|████▊     | 10.0M/21.0M [00:01<00:01, 5.80MB/s]\r",
      " 52%|█████▏    | 11.0M/21.0M [00:02<00:01, 5.60MB/s]\r",
      " 57%|█████▋    | 12.0M/21.0M [00:02<00:01, 5.68MB/s]\r",
      " 62%|██████▏   | 13.0M/21.0M [00:02<00:01, 5.68MB/s]\r",
      " 67%|██████▋   | 14.0M/21.0M [00:02<00:01, 5.74MB/s]\r",
      " 71%|███████▏  | 15.0M/21.0M [00:02<00:01, 5.47MB/s]\r",
      " 76%|███████▋  | 16.0M/21.0M [00:03<00:00, 5.43MB/s]\r",
      " 81%|████████  | 17.0M/21.0M [00:03<00:00, 5.57MB/s]\r",
      " 86%|████████▌ | 18.0M/21.0M [00:03<00:00, 5.32MB/s]\r",
      " 91%|█████████ | 19.0M/21.0M [00:03<00:00, 5.23MB/s]\r",
      " 95%|█████████▌| 20.0M/21.0M [00:03<00:00, 5.19MB/s]\r",
      "100%|██████████| 21.0M/21.0M [00:04<00:00, 5.34MB/s]\n",
      "\r",
      "  0%|          | 0.00/20.4M [00:00<?, ?B/s]\r",
      "  5%|▍         | 1.00M/20.4M [00:00<00:04, 4.93MB/s]\r",
      " 10%|▉         | 2.00M/20.4M [00:00<00:03, 5.38MB/s]\r",
      " 15%|█▍        | 3.00M/20.4M [00:00<00:03, 5.41MB/s]\r",
      " 20%|█▉        | 4.00M/20.4M [00:00<00:03, 5.57MB/s]\r",
      " 24%|██▍       | 5.00M/20.4M [00:00<00:02, 5.78MB/s]\r",
      " 29%|██▉       | 6.00M/20.4M [00:01<00:02, 5.59MB/s]\r",
      " 34%|███▍      | 7.00M/20.4M [00:01<00:02, 5.63MB/s]\r",
      " 39%|███▉      | 8.00M/20.4M [00:01<00:02, 5.02MB/s]\r",
      " 44%|████▍     | 9.00M/20.4M [00:01<00:02, 5.18MB/s]\r",
      " 49%|████▉     | 10.0M/20.4M [00:01<00:02, 5.29MB/s]\r",
      " 54%|█████▍    | 11.0M/20.4M [00:02<00:01, 5.44MB/s]\r",
      " 59%|█████▊    | 12.0M/20.4M [00:02<00:02, 3.49MB/s]\r",
      " 64%|██████▎   | 13.0M/20.4M [00:02<00:01, 3.99MB/s]\r",
      " 68%|██████▊   | 14.0M/20.4M [00:03<00:01, 4.40MB/s]\r",
      " 73%|███████▎  | 15.0M/20.4M [00:03<00:01, 4.75MB/s]\r",
      " 78%|███████▊  | 16.0M/20.4M [00:03<00:00, 5.41MB/s]\r",
      " 83%|████████▎ | 17.0M/20.4M [00:03<00:00, 5.38MB/s]\r",
      " 88%|████████▊ | 18.0M/20.4M [00:03<00:00, 5.94MB/s]\r",
      " 93%|█████████▎| 19.0M/20.4M [00:03<00:00, 5.61MB/s]\r",
      " 98%|█████████▊| 20.0M/20.4M [00:04<00:00, 5.71MB/s]\r",
      "100%|██████████| 20.4M/20.4M [00:04<00:00, 5.20MB/s]\n",
      "\r",
      "  0%|          | 0.00/21.2M [00:00<?, ?B/s]\r",
      "  5%|▍         | 1.00M/21.2M [00:00<00:03, 5.43MB/s]\r",
      "  9%|▉         | 2.00M/21.2M [00:00<00:03, 5.47MB/s]\r",
      " 14%|█▍        | 3.00M/21.2M [00:00<00:03, 5.44MB/s]\r",
      " 19%|█▉        | 4.00M/21.2M [00:00<00:03, 5.81MB/s]\r",
      " 24%|██▎       | 5.00M/21.2M [00:00<00:02, 5.74MB/s]\r",
      " 28%|██▊       | 6.00M/21.2M [00:01<00:02, 5.76MB/s]\r",
      " 33%|███▎      | 7.00M/21.2M [00:01<00:02, 5.84MB/s]\r",
      " 38%|███▊      | 8.00M/21.2M [00:01<00:02, 5.75MB/s]\r",
      " 42%|████▏     | 9.00M/21.2M [00:01<00:02, 5.83MB/s]\r",
      " 47%|████▋     | 10.0M/21.2M [00:01<00:01, 6.04MB/s]\r",
      " 52%|█████▏    | 11.0M/21.2M [00:01<00:01, 5.87MB/s]\r",
      " 57%|█████▋    | 12.0M/21.2M [00:02<00:01, 5.86MB/s]\r",
      " 61%|██████▏   | 13.0M/21.2M [00:02<00:01, 6.11MB/s]\r",
      " 66%|██████▌   | 14.0M/21.2M [00:02<00:01, 6.53MB/s]\r",
      " 71%|███████   | 15.0M/21.2M [00:02<00:01, 6.39MB/s]\r",
      " 75%|███████▌  | 16.0M/21.2M [00:02<00:00, 6.62MB/s]\r",
      " 80%|████████  | 17.0M/21.2M [00:02<00:00, 5.86MB/s]\r",
      " 85%|████████▍ | 18.0M/21.2M [00:03<00:00, 5.67MB/s]\r",
      " 90%|████████▉ | 19.0M/21.2M [00:03<00:00, 6.08MB/s]\r",
      " 94%|█████████▍| 20.0M/21.2M [00:03<00:00, 5.89MB/s]\r",
      " 99%|█████████▉| 21.0M/21.2M [00:03<00:00, 6.12MB/s]\r",
      "100%|██████████| 21.2M/21.2M [00:03<00:00, 6.00MB/s]\n",
      "\r",
      "  0%|          | 0.00/20.5M [00:00<?, ?B/s]\r",
      "  5%|▍         | 1.00M/20.5M [00:00<00:03, 5.24MB/s]\r",
      " 10%|▉         | 2.00M/20.5M [00:00<00:03, 5.28MB/s]\r",
      " 15%|█▍        | 3.00M/20.5M [00:00<00:03, 5.39MB/s]\r",
      " 20%|█▉        | 4.00M/20.5M [00:00<00:03, 5.04MB/s]\r",
      " 24%|██▍       | 5.00M/20.5M [00:01<00:03, 4.89MB/s]\r",
      " 29%|██▉       | 6.00M/20.5M [00:01<00:03, 5.05MB/s]\r",
      " 34%|███▍      | 7.00M/20.5M [00:01<00:02, 4.96MB/s]\r",
      " 39%|███▉      | 8.00M/20.5M [00:01<00:02, 4.93MB/s]\r",
      " 44%|████▍     | 9.00M/20.5M [00:01<00:02, 4.86MB/s]\r",
      " 49%|████▉     | 10.0M/20.5M [00:02<00:02, 5.07MB/s]\r",
      " 54%|█████▍    | 11.0M/20.5M [00:02<00:02, 4.48MB/s]\r",
      " 59%|█████▊    | 12.0M/20.5M [00:02<00:02, 4.35MB/s]\r",
      " 64%|██████▎   | 13.0M/20.5M [00:02<00:01, 4.76MB/s]\r",
      " 68%|██████▊   | 14.0M/20.5M [00:03<00:01, 4.60MB/s]\r",
      " 73%|███████▎  | 15.0M/20.5M [00:03<00:01, 4.53MB/s]\r",
      " 78%|███████▊  | 16.0M/20.5M [00:03<00:01, 4.67MB/s]\r",
      " 83%|████████▎ | 17.0M/20.5M [00:03<00:00, 4.71MB/s]\r",
      " 88%|████████▊ | 18.0M/20.5M [00:04<00:00, 4.39MB/s]\r",
      " 93%|█████████▎| 19.0M/20.5M [00:04<00:00, 4.59MB/s]\r",
      " 98%|█████████▊| 20.0M/20.5M [00:04<00:00, 4.39MB/s]\r",
      "100%|██████████| 20.5M/20.5M [00:04<00:00, 4.71MB/s]\n",
      "\r",
      "  0%|          | 0.00/20.6M [00:00<?, ?B/s]\r",
      "  5%|▍         | 1.00M/20.6M [00:00<00:04, 4.74MB/s]\r",
      " 10%|▉         | 2.00M/20.6M [00:00<00:04, 4.72MB/s]\r",
      " 15%|█▍        | 3.00M/20.6M [00:00<00:03, 4.89MB/s]\r",
      " 19%|█▉        | 4.00M/20.6M [00:00<00:03, 5.11MB/s]\r",
      " 24%|██▍       | 5.00M/20.6M [00:00<00:03, 5.40MB/s]\r",
      " 29%|██▉       | 6.00M/20.6M [00:01<00:02, 5.37MB/s]\r",
      " 34%|███▍      | 7.00M/20.6M [00:01<00:02, 5.35MB/s]\r",
      " 39%|███▉      | 8.00M/20.6M [00:01<00:02, 5.51MB/s]\r",
      " 44%|████▎     | 9.00M/20.6M [00:01<00:02, 5.82MB/s]\r",
      " 49%|████▊     | 10.0M/20.6M [00:01<00:01, 5.71MB/s]\r",
      " 53%|█████▎    | 11.0M/20.6M [00:02<00:01, 5.40MB/s]\r",
      " 58%|█████▊    | 12.0M/20.6M [00:02<00:01, 4.94MB/s]\r",
      " 63%|██████▎   | 13.0M/20.6M [00:02<00:01, 5.19MB/s]\r",
      " 68%|██████▊   | 14.0M/20.6M [00:02<00:01, 5.07MB/s]\r",
      " 73%|███████▎  | 15.0M/20.6M [00:02<00:01, 5.32MB/s]\r",
      " 78%|███████▊  | 16.0M/20.6M [00:03<00:00, 5.28MB/s]\r",
      " 82%|████████▏ | 17.0M/20.6M [00:03<00:00, 5.26MB/s]\r",
      " 87%|████████▋ | 18.0M/20.6M [00:03<00:00, 5.30MB/s]\r",
      " 92%|█████████▏| 19.0M/20.6M [00:03<00:00, 5.22MB/s]\r",
      " 97%|█████████▋| 20.0M/20.6M [00:03<00:00, 5.11MB/s]\r",
      "100%|██████████| 20.6M/20.6M [00:04<00:00, 4.58MB/s]\n",
      "\r",
      "  0%|          | 0.00/4.25M [00:00<?, ?B/s]\r",
      " 24%|██▎       | 1.00M/4.25M [00:00<00:00, 5.16MB/s]\r",
      " 47%|████▋     | 2.00M/4.25M [00:00<00:00, 4.67MB/s]\r",
      " 71%|███████   | 3.00M/4.25M [00:00<00:00, 4.33MB/s]\r",
      " 94%|█████████▍| 4.00M/4.25M [00:00<00:00, 4.64MB/s]\r",
      "100%|██████████| 4.25M/4.25M [00:00<00:00, 4.56MB/s]\n"
     ]
    }
   ],
   "source": [
    "import os\n",
    "os.system('kaggle competitions download -c mens-machine-learning-competition-2019 --force')"
   ]
  },
  {
   "cell_type": "markdown",
   "metadata": {},
   "source": [
    "We care mostly about the files in ```DataFiles.zip```, so we will only unzip this directory. All the others contain information about play-by-play events. It would be really cool to incorporate individual player stats into a ML algorithm, but for now, I will only use team stats for each individual game."
   ]
  },
  {
   "cell_type": "code",
   "execution_count": 1,
   "metadata": {},
   "outputs": [],
   "source": [
    "import zipfile\n",
    "zip_ref = zipfile.ZipFile('DataFiles.zip', 'r')\n",
    "zip_ref.extractall('DataFiles')\n",
    "zip_ref.close()\n",
    "\n",
    "zip_ref = zipfile.ZipFile('MasseyOrdinals.zip','r')\n",
    "zip_ref.extractall('MasseyOrdinals')\n",
    "zip_ref.close()"
   ]
  },
  {
   "cell_type": "markdown",
   "metadata": {},
   "source": [
    "I like to use Pandas to work with tabular data. There are two types of game-by-game data for the NCAA: compact results which give the simple box scores for each game (teamIDs, scores, and who was the home team or if the game was played at a neutral site) and detailed results with box scores along with all the statisics like field goal attempts/completions, etc. The former goes back all the way to 1985 and the latter only to 2003. We can use all the box scores dating back from 1985 to establish a long enough baseline to determine accurage Elo scores."
   ]
  },
  {
   "cell_type": "code",
   "execution_count": 2,
   "metadata": {},
   "outputs": [],
   "source": [
    "import pandas as pd\n",
    "import numpy as np\n",
    "df = pd.concat([pd.read_csv('DataFiles/RegularSeasonCompactResults.csv'),\n",
    "               pd.read_csv('DataFiles/NCAATourneyCompactResults.csv')]).reset_index(drop=True)\n",
    "df = df.sort_values(by=['Season','DayNum'])"
   ]
  },
  {
   "cell_type": "code",
   "execution_count": 3,
   "metadata": {},
   "outputs": [
    {
     "data": {
      "text/html": [
       "<div>\n",
       "<style scoped>\n",
       "    .dataframe tbody tr th:only-of-type {\n",
       "        vertical-align: middle;\n",
       "    }\n",
       "\n",
       "    .dataframe tbody tr th {\n",
       "        vertical-align: top;\n",
       "    }\n",
       "\n",
       "    .dataframe thead th {\n",
       "        text-align: right;\n",
       "    }\n",
       "</style>\n",
       "<table border=\"1\" class=\"dataframe\">\n",
       "  <thead>\n",
       "    <tr style=\"text-align: right;\">\n",
       "      <th></th>\n",
       "      <th>Season</th>\n",
       "      <th>DayNum</th>\n",
       "      <th>WTeamID</th>\n",
       "      <th>WScore</th>\n",
       "      <th>LTeamID</th>\n",
       "      <th>LScore</th>\n",
       "      <th>WLoc</th>\n",
       "      <th>NumOT</th>\n",
       "    </tr>\n",
       "  </thead>\n",
       "  <tbody>\n",
       "    <tr>\n",
       "      <th>0</th>\n",
       "      <td>1985</td>\n",
       "      <td>20</td>\n",
       "      <td>1228</td>\n",
       "      <td>81</td>\n",
       "      <td>1328</td>\n",
       "      <td>64</td>\n",
       "      <td>N</td>\n",
       "      <td>0</td>\n",
       "    </tr>\n",
       "    <tr>\n",
       "      <th>1</th>\n",
       "      <td>1985</td>\n",
       "      <td>25</td>\n",
       "      <td>1106</td>\n",
       "      <td>77</td>\n",
       "      <td>1354</td>\n",
       "      <td>70</td>\n",
       "      <td>H</td>\n",
       "      <td>0</td>\n",
       "    </tr>\n",
       "    <tr>\n",
       "      <th>2</th>\n",
       "      <td>1985</td>\n",
       "      <td>25</td>\n",
       "      <td>1112</td>\n",
       "      <td>63</td>\n",
       "      <td>1223</td>\n",
       "      <td>56</td>\n",
       "      <td>H</td>\n",
       "      <td>0</td>\n",
       "    </tr>\n",
       "    <tr>\n",
       "      <th>3</th>\n",
       "      <td>1985</td>\n",
       "      <td>25</td>\n",
       "      <td>1165</td>\n",
       "      <td>70</td>\n",
       "      <td>1432</td>\n",
       "      <td>54</td>\n",
       "      <td>H</td>\n",
       "      <td>0</td>\n",
       "    </tr>\n",
       "    <tr>\n",
       "      <th>4</th>\n",
       "      <td>1985</td>\n",
       "      <td>25</td>\n",
       "      <td>1192</td>\n",
       "      <td>86</td>\n",
       "      <td>1447</td>\n",
       "      <td>74</td>\n",
       "      <td>H</td>\n",
       "      <td>0</td>\n",
       "    </tr>\n",
       "  </tbody>\n",
       "</table>\n",
       "</div>"
      ],
      "text/plain": [
       "   Season  DayNum  WTeamID  WScore  LTeamID  LScore WLoc  NumOT\n",
       "0    1985      20     1228      81     1328      64    N      0\n",
       "1    1985      25     1106      77     1354      70    H      0\n",
       "2    1985      25     1112      63     1223      56    H      0\n",
       "3    1985      25     1165      70     1432      54    H      0\n",
       "4    1985      25     1192      86     1447      74    H      0"
      ]
     },
     "execution_count": 3,
     "metadata": {},
     "output_type": "execute_result"
    }
   ],
   "source": [
    "df.head()"
   ]
  },
  {
   "cell_type": "markdown",
   "metadata": {},
   "source": [
    "Elo scores were first developed for chess but have been adopted to predict outcomes of other games and sports. I have chosen to use the NBA Elo scores developed by [FiveThirtyEight](https://fivethirtyeight.com/features/how-we-calculate-nba-elo-ratings/)."
   ]
  },
  {
   "cell_type": "markdown",
   "metadata": {},
   "source": [
    "We can calculate the probability of winning based on the Elo score difference between any two teams."
   ]
  },
  {
   "cell_type": "markdown",
   "metadata": {},
   "source": [
    "Elo scores are updated after a game occurs based on how surprising the outcome is. The larger the difference in the scores, the larger the expected point spread is. If the actual point differential is larger than expected, the more the Elo scores change. Elo scores are a zero-sum game, so points are added to the team who beats the point spread while points are taken from the other team."
   ]
  },
  {
   "cell_type": "markdown",
   "metadata": {},
   "source": [
    "At the end of the season, the Elo scores revert back toward the mean of 1500."
   ]
  },
  {
   "cell_type": "markdown",
   "metadata": {},
   "source": [
    "Not all the teams have been Division 1 since 1985, so we will have to add in the new teams at the beginning of the season. For that, we will need the data file indicating their first D1 season. Every team's first D1 season (starting with 1985) will have an Elo score of 1300. The next block of code propagates the Elo scores in chronological order."
   ]
  },
  {
   "cell_type": "code",
   "execution_count": 58,
   "metadata": {},
   "outputs": [],
   "source": [
    "def forecast(df,K,HCA,R,return_prob=False):\n",
    "    start = time.time()\n",
    "    prob_all = np.zeros(len(df))\n",
    "    WElo = np.zeros(len(df))\n",
    "    LElo = np.zeros(len(df))\n",
    "    \n",
    "    team_elo = {t:1300 for t in df['WTeamID'].unique()}\n",
    "    season = 1985\n",
    "    for i,game in df.iterrows():\n",
    "        \n",
    "        if game['Season'] > season:\n",
    "            for team,elo in team_elo.items():\n",
    "                if team_elo[team] != 1300:\n",
    "                    team_elo[team] = 1505*R + elo*(1-R)\n",
    "            season = game['Season']\n",
    "        \n",
    "        locW = game['WLoc']\n",
    "        if locW == 'H':\n",
    "            value = HCA\n",
    "        elif locW == 'A':\n",
    "            value = -HCA\n",
    "        else:\n",
    "            value = 0\n",
    "        \n",
    "        elo_diff = team_elo[game['WTeamID']]-team_elo[game['LTeamID']]+value\n",
    "        probW = 1 / (10**(-elo_diff/400) + 1)  \n",
    "        \n",
    "        MOV = game['WScore']=game['LScore']\n",
    "    \n",
    "        mult = (MOV+3)**0.8 / (7.5 + 0.006*elo_diff)\n",
    "    \n",
    "        shift = K*mult*(1-probW)\n",
    "        \n",
    "        WElo[i] = team_elo[game['WTeamID']]\n",
    "        LElo[i] = team_elo[game['LTeamID']]\n",
    "        \n",
    "        team_elo[game['WTeamID']] = team_elo[game['WTeamID']] + shift\n",
    "        team_elo[game['LTeamID']] = team_elo[game['LTeamID']] - shift\n",
    "        \n",
    "        prob_all[i] = probW\n",
    "\n",
    "    score = (prob_all > 0.5).sum()/len(prob_all)\n",
    "    sumprob = prob_all.sum()/len(prob_all)\n",
    "    end = time.time()\n",
    "    \n",
    "    dt = end-start\n",
    "        \n",
    "    if return_prob:\n",
    "        return prob_all, WElo, LElo\n",
    "    else:\n",
    "        result = {'K':K,'HCA':HCA,'R':R,'score':score,'sumprob':sumprob}\n",
    "        print('K=%d,HCA=%d,R=1/%d...score=%0.3f,sumprob=%0.3f...Elapsed Time: %0.1f sec' % \\\n",
    "              (K,HCA,1/R,score,sumprob,dt))\n",
    "        return result"
   ]
  },
  {
   "cell_type": "markdown",
   "metadata": {},
   "source": [
    "The NBA Elo forecast from FiveThirtyEight used parameters K=20, HCA=100, R=1/3. The K factor determines how many elo points are transferred from the losing team to the winning team. HCA is the home court advantage, which gives extra Elo points to the home team. The R factor is how much the Elo scores revert back to the mean. For example, if a team had 1800 points at the end of the season, they would revert to 1700, subtract 1/3 of the difference from 1500.\n",
    "\n",
    "We expect the NCAA to have similar values, but to be sure, we'll run the forecast with different parameters."
   ]
  },
  {
   "cell_type": "code",
   "execution_count": 5,
   "metadata": {},
   "outputs": [
    {
     "name": "stdout",
     "output_type": "stream",
     "text": [
      "K=10,HCA=50,R=1/6...score=0.724,sumprob=0.612...Elapsed Time: 26.2 sec\n",
      "K=10,HCA=50,R=1/4...score=0.724,sumprob=0.606...Elapsed Time: 26.3 sec\n",
      "K=10,HCA=50,R=1/3...score=0.724,sumprob=0.601...Elapsed Time: 26.4 sec\n",
      "K=10,HCA=50,R=1/5...score=0.724,sumprob=0.609...Elapsed Time: 26.5 sec\n",
      "K=10,HCA=100,R=1/6...score=0.730,sumprob=0.626...Elapsed Time: 27.4 sec\n",
      "K=10,HCA=100,R=1/5...score=0.729,sumprob=0.623...Elapsed Time: 27.5 sec\n",
      "K=10,HCA=100,R=1/3...score=0.727,sumprob=0.615...Elapsed Time: 27.4 sec\n",
      "K=10,HCA=100,R=1/4...score=0.729,sumprob=0.620...Elapsed Time: 27.5 sec\n",
      "K=10,HCA=150,R=1/6...score=0.722,sumprob=0.637...Elapsed Time: 26.0 sec\n",
      "K=10,HCA=150,R=1/5...score=0.721,sumprob=0.635...Elapsed Time: 26.2 sec\n",
      "K=10,HCA=150,R=1/4...score=0.720,sumprob=0.632...Elapsed Time: 26.2 sec\n",
      "K=10,HCA=150,R=1/3...score=0.717,sumprob=0.628...Elapsed Time: 26.3 sec\n",
      "K=20,HCA=50,R=1/6...score=0.713,sumprob=0.626...Elapsed Time: 24.9 sec\n",
      "K=20,HCA=50,R=1/5...score=0.713,sumprob=0.624...Elapsed Time: 24.9 sec\n",
      "K=20,HCA=50,R=1/4...score=0.713,sumprob=0.622...Elapsed Time: 24.9 sec\n",
      "K=20,HCA=50,R=1/3...score=0.713,sumprob=0.618...Elapsed Time: 25.0 sec\n",
      "K=20,HCA=100,R=1/6...score=0.723,sumprob=0.639...Elapsed Time: 25.3 sec\n",
      "K=20,HCA=100,R=1/5...score=0.722,sumprob=0.637...Elapsed Time: 25.4 sec\n",
      "K=20,HCA=100,R=1/4...score=0.722,sumprob=0.635...Elapsed Time: 25.4 sec\n",
      "K=20,HCA=100,R=1/3...score=0.721,sumprob=0.631...Elapsed Time: 25.6 sec\n",
      "K=20,HCA=150,R=1/6...score=0.723,sumprob=0.650...Elapsed Time: 33.6 sec\n",
      "K=20,HCA=150,R=1/5...score=0.722,sumprob=0.649...Elapsed Time: 33.8 sec\n",
      "K=20,HCA=150,R=1/4...score=0.722,sumprob=0.646...Elapsed Time: 33.7 sec\n",
      "K=20,HCA=150,R=1/3...score=0.720,sumprob=0.643...Elapsed Time: 33.7 sec\n",
      "K=30,HCA=50,R=1/6...score=0.702,sumprob=0.632...Elapsed Time: 27.0 sec\n",
      "K=30,HCA=50,R=1/5...score=0.701,sumprob=0.630...Elapsed Time: 27.2 sec\n",
      "K=30,HCA=50,R=1/4...score=0.701,sumprob=0.628...Elapsed Time: 27.2 sec\n",
      "K=30,HCA=50,R=1/3...score=0.700,sumprob=0.625...Elapsed Time: 28.0 sec\n",
      "K=30,HCA=100,R=1/6...score=0.712,sumprob=0.644...Elapsed Time: 27.5 sec\n",
      "K=30,HCA=100,R=1/5...score=0.713,sumprob=0.643...Elapsed Time: 27.1 sec\n",
      "K=30,HCA=100,R=1/4...score=0.712,sumprob=0.641...Elapsed Time: 27.2 sec\n",
      "K=30,HCA=100,R=1/3...score=0.712,sumprob=0.637...Elapsed Time: 26.6 sec\n",
      "K=30,HCA=150,R=1/6...score=0.716,sumprob=0.655...Elapsed Time: 24.2 sec\n",
      "K=30,HCA=150,R=1/5...score=0.715,sumprob=0.653...Elapsed Time: 24.1 sec\n",
      "K=30,HCA=150,R=1/4...score=0.715,sumprob=0.651...Elapsed Time: 24.2 sec\n",
      "K=30,HCA=150,R=1/3...score=0.714,sumprob=0.649...Elapsed Time: 24.2 sec\n",
      "Elapsed time: 4.1 min\n"
     ]
    },
    {
     "name": "stderr",
     "output_type": "stream",
     "text": [
      "Process ForkPoolWorker-4:\n",
      "Process ForkPoolWorker-3:\n",
      "Process ForkPoolWorker-1:\n",
      "Process ForkPoolWorker-2:\n",
      "Traceback (most recent call last):\n",
      "Traceback (most recent call last):\n",
      "Traceback (most recent call last):\n",
      "Traceback (most recent call last):\n",
      "  File \"/usr/local/anaconda3/lib/python3.6/multiprocessing/process.py\", line 258, in _bootstrap\n",
      "    self.run()\n",
      "  File \"/usr/local/anaconda3/lib/python3.6/multiprocessing/process.py\", line 258, in _bootstrap\n",
      "    self.run()\n",
      "  File \"/usr/local/anaconda3/lib/python3.6/multiprocessing/process.py\", line 258, in _bootstrap\n",
      "    self.run()\n",
      "  File \"/usr/local/anaconda3/lib/python3.6/multiprocessing/process.py\", line 258, in _bootstrap\n",
      "    self.run()\n",
      "  File \"/usr/local/anaconda3/lib/python3.6/multiprocessing/process.py\", line 93, in run\n",
      "    self._target(*self._args, **self._kwargs)\n",
      "  File \"/usr/local/anaconda3/lib/python3.6/multiprocessing/process.py\", line 93, in run\n",
      "    self._target(*self._args, **self._kwargs)\n",
      "  File \"/usr/local/anaconda3/lib/python3.6/multiprocessing/process.py\", line 93, in run\n",
      "    self._target(*self._args, **self._kwargs)\n",
      "  File \"/usr/local/anaconda3/lib/python3.6/multiprocessing/process.py\", line 93, in run\n",
      "    self._target(*self._args, **self._kwargs)\n",
      "  File \"/usr/local/anaconda3/lib/python3.6/multiprocessing/pool.py\", line 108, in worker\n",
      "    task = get()\n",
      "  File \"/usr/local/anaconda3/lib/python3.6/multiprocessing/pool.py\", line 108, in worker\n",
      "    task = get()\n",
      "  File \"/usr/local/anaconda3/lib/python3.6/multiprocessing/pool.py\", line 108, in worker\n",
      "    task = get()\n",
      "  File \"/usr/local/anaconda3/lib/python3.6/multiprocessing/pool.py\", line 108, in worker\n",
      "    task = get()\n",
      "  File \"/usr/local/anaconda3/lib/python3.6/multiprocessing/queues.py\", line 334, in get\n",
      "    with self._rlock:\n",
      "  File \"/usr/local/anaconda3/lib/python3.6/multiprocessing/queues.py\", line 335, in get\n",
      "    res = self._reader.recv_bytes()\n",
      "  File \"/usr/local/anaconda3/lib/python3.6/multiprocessing/queues.py\", line 334, in get\n",
      "    with self._rlock:\n",
      "  File \"/usr/local/anaconda3/lib/python3.6/multiprocessing/queues.py\", line 334, in get\n",
      "    with self._rlock:\n",
      "  File \"/usr/local/anaconda3/lib/python3.6/multiprocessing/synchronize.py\", line 96, in __enter__\n",
      "    return self._semlock.__enter__()\n",
      "  File \"/usr/local/anaconda3/lib/python3.6/multiprocessing/connection.py\", line 216, in recv_bytes\n",
      "    buf = self._recv_bytes(maxlength)\n",
      "  File \"/usr/local/anaconda3/lib/python3.6/multiprocessing/synchronize.py\", line 96, in __enter__\n",
      "    return self._semlock.__enter__()\n",
      "  File \"/usr/local/anaconda3/lib/python3.6/multiprocessing/synchronize.py\", line 96, in __enter__\n",
      "    return self._semlock.__enter__()\n",
      "KeyboardInterrupt\n",
      "  File \"/usr/local/anaconda3/lib/python3.6/multiprocessing/connection.py\", line 407, in _recv_bytes\n",
      "    buf = self._recv(4)\n",
      "KeyboardInterrupt\n",
      "KeyboardInterrupt\n",
      "  File \"/usr/local/anaconda3/lib/python3.6/multiprocessing/connection.py\", line 379, in _recv\n",
      "    chunk = read(handle, remaining)\n",
      "KeyboardInterrupt\n"
     ]
    }
   ],
   "source": [
    "import time\n",
    "import multiprocessing as mp\n",
    "\n",
    "k = [10,20,30]\n",
    "hca=[50,100,150]\n",
    "r=[1/6,1/5,1/4,1/3]\n",
    "\n",
    "start = time.time()\n",
    "pool = mp.Pool(processes=4)\n",
    "results = [pool.apply_async(forecast, args = (df,K,HCA,R)) \\\n",
    "           for K in k for HCA in hca for R in r]\n",
    "output = [p.get() for p in results]\n",
    "\n",
    "end = time.time()\n",
    "\n",
    "t = (end-start)/60\n",
    "print('Elapsed time: %0.1f min' % t)"
   ]
  },
  {
   "cell_type": "code",
   "execution_count": 6,
   "metadata": {},
   "outputs": [],
   "source": [
    "elo_df = pd.DataFrame(output)"
   ]
  },
  {
   "cell_type": "code",
   "execution_count": 11,
   "metadata": {},
   "outputs": [],
   "source": [
    "best = elo_df.loc[elo_df['score'].idxmax()]"
   ]
  },
  {
   "cell_type": "code",
   "execution_count": 59,
   "metadata": {},
   "outputs": [],
   "source": [
    "df['Elo_Prob'], df['WElo'], df['LElo'] = forecast(df,best['K'],best['HCA'],best['R'],return_prob=True)"
   ]
  },
  {
   "cell_type": "markdown",
   "metadata": {},
   "source": [
    "## Game statistics"
   ]
  },
  {
   "cell_type": "code",
   "execution_count": 64,
   "metadata": {},
   "outputs": [],
   "source": [
    "data = pd.concat([pd.read_csv('DataFiles/RegularSeasonDetailedResults.csv'),\n",
    "               pd.read_csv('DataFiles/NCAATourneyDetailedResults.csv')]).reset_index(drop=True)\n",
    "data = data.sort_values(by=['Season','DayNum'])"
   ]
  },
  {
   "cell_type": "markdown",
   "metadata": {},
   "source": [
    "Here are the statistics for each game since 2003.\n",
    "- WFGM - field goals made (by the winning team)\n",
    "- WFGA - field goals attempted (by the winning team)\n",
    "- WFGM3 - three pointers made (by the winning team)\n",
    "- WFGA3 - three pointers attempted (by the winning team)\n",
    "- WFTM - free throws made (by the winning team)\n",
    "- WFTA - free throws attempted (by the winning team)\n",
    "- WOR - offensive rebounds (pulled by the winning team)\n",
    "- WDR - defensive rebounds (pulled by the winning team)\n",
    "- WAst - assists (by the winning team)\n",
    "- WTO - turnovers committed (by the winning team)\n",
    "- WStl - steals (accomplished by the winning team)\n",
    "- WBlk - blocks (accomplished by the winning team)\n",
    "- WPF - personal fouls committed (by the winning team)\n",
    "\n",
    "And the same for the losing teams with an \"L\" in front."
   ]
  },
  {
   "cell_type": "markdown",
   "metadata": {},
   "source": [
    "Let's append the Elo scores and probabilities to this new table."
   ]
  },
  {
   "cell_type": "code",
   "execution_count": 65,
   "metadata": {},
   "outputs": [],
   "source": [
    "df_short = df[df['Season'] >= 2003].reset_index(drop=True)\n",
    "data = pd.merge(df_short,data)"
   ]
  },
  {
   "cell_type": "markdown",
   "metadata": {},
   "source": [
    "Right now, the Elo scores are a good measure of the historical performance of a basketball program; however, game stats will help us to determine how a team has been performing as of late. We'll do this by taking a rolling average of some of the statistics over previous games. We have to be careful to not include the current game stats in this average because it will help to reveal the outcome of the game, which we are trying to predict."
   ]
  },
  {
   "cell_type": "code",
   "execution_count": 66,
   "metadata": {},
   "outputs": [],
   "source": [
    "## Here are the statistics we want to create rolling means for\n",
    "to_roll = ['FGM','FGA','FGM3','FGA3','FTM','FTA','OR','DR']\n",
    "\n",
    "## We're going to create a dictionary of dictionaries that store the rolling means for each team.\n",
    "##    The outer dictionary is for each individual team.\n",
    "##    The inner dictionaries contain each statistic's rolling mean.\n",
    "averages = dict()\n",
    "for ID in data['WTeamID'].unique():\n",
    "    averages[ID] = dict()\n",
    "    team = data[(data['WTeamID'] == ID) | (data['LTeamID'] == ID)]\n",
    "    for r in to_roll:\n",
    "        ## Here we apply a function that selects the correct statistic based on whether the team is W or L.\n",
    "        ## Method chaining: roll over last 4 games, take the mean, shift one down so that we don't include\n",
    "        ##     the statistic for the game that is being predicted, backward fill for NaN\n",
    "        averages[ID][r] = team.apply(lambda x: x['W%s' % r] if x['WTeamID'] == 1104 else x['L%s' % r],axis=1).\\\n",
    "            rolling(4).mean().shift(1).bfill()"
   ]
  },
  {
   "cell_type": "markdown",
   "metadata": {},
   "source": [
    "The predictors we use for our comprehensive algorithm will be the difference of the winning team's statistic to that the losing team."
   ]
  },
  {
   "cell_type": "code",
   "execution_count": 67,
   "metadata": {},
   "outputs": [],
   "source": [
    "for r in to_roll:\n",
    "    data['W%s_trend' % r] = data.apply(lambda row: averages[row['WTeamID']][r].loc[row.name],axis=1)\n",
    "    data['L%s_trend' % r] = data.apply(lambda row: averages[row['LTeamID']][r].loc[row.name],axis=1)"
   ]
  },
  {
   "cell_type": "code",
   "execution_count": 68,
   "metadata": {},
   "outputs": [],
   "source": [
    "for r in to_roll:\n",
    "    data[r] = data['W%s_trend' % r] - data['L%s_trend' % r]"
   ]
  },
  {
   "cell_type": "markdown",
   "metadata": {},
   "source": [
    "## Rankings"
   ]
  },
  {
   "cell_type": "markdown",
   "metadata": {},
   "source": [
    "We have a compilation of rankings for each team given provided by Kenneth Massey going back to 2003. The effective date of the ranking is chosen so that predictions made based on those rankings can be made on that day.\n",
    "\n",
    "I'll choose an approach based on how election polling reports go where we will use a rolling average in order to determine the effective rating of a team on a given day.\n",
    "\n",
    "In order to do this in Pandas, we need to convert the ```Season,DayNum``` pairs into true dates. Luckily, we have also been given a file that gives day zero for every season."
   ]
  },
  {
   "cell_type": "code",
   "execution_count": 35,
   "metadata": {},
   "outputs": [
    {
     "data": {
      "text/html": [
       "<div>\n",
       "<style scoped>\n",
       "    .dataframe tbody tr th:only-of-type {\n",
       "        vertical-align: middle;\n",
       "    }\n",
       "\n",
       "    .dataframe tbody tr th {\n",
       "        vertical-align: top;\n",
       "    }\n",
       "\n",
       "    .dataframe thead th {\n",
       "        text-align: right;\n",
       "    }\n",
       "</style>\n",
       "<table border=\"1\" class=\"dataframe\">\n",
       "  <thead>\n",
       "    <tr style=\"text-align: right;\">\n",
       "      <th></th>\n",
       "      <th>Season</th>\n",
       "      <th>RankingDayNum</th>\n",
       "      <th>SystemName</th>\n",
       "      <th>TeamID</th>\n",
       "      <th>OrdinalRank</th>\n",
       "    </tr>\n",
       "  </thead>\n",
       "  <tbody>\n",
       "    <tr>\n",
       "      <th>0</th>\n",
       "      <td>2003</td>\n",
       "      <td>35</td>\n",
       "      <td>SEL</td>\n",
       "      <td>1102</td>\n",
       "      <td>159</td>\n",
       "    </tr>\n",
       "    <tr>\n",
       "      <th>1</th>\n",
       "      <td>2003</td>\n",
       "      <td>35</td>\n",
       "      <td>SEL</td>\n",
       "      <td>1103</td>\n",
       "      <td>229</td>\n",
       "    </tr>\n",
       "    <tr>\n",
       "      <th>2</th>\n",
       "      <td>2003</td>\n",
       "      <td>35</td>\n",
       "      <td>SEL</td>\n",
       "      <td>1104</td>\n",
       "      <td>12</td>\n",
       "    </tr>\n",
       "    <tr>\n",
       "      <th>3</th>\n",
       "      <td>2003</td>\n",
       "      <td>35</td>\n",
       "      <td>SEL</td>\n",
       "      <td>1105</td>\n",
       "      <td>314</td>\n",
       "    </tr>\n",
       "    <tr>\n",
       "      <th>4</th>\n",
       "      <td>2003</td>\n",
       "      <td>35</td>\n",
       "      <td>SEL</td>\n",
       "      <td>1106</td>\n",
       "      <td>260</td>\n",
       "    </tr>\n",
       "  </tbody>\n",
       "</table>\n",
       "</div>"
      ],
      "text/plain": [
       "   Season  RankingDayNum SystemName  TeamID  OrdinalRank\n",
       "0    2003             35        SEL    1102          159\n",
       "1    2003             35        SEL    1103          229\n",
       "2    2003             35        SEL    1104           12\n",
       "3    2003             35        SEL    1105          314\n",
       "4    2003             35        SEL    1106          260"
      ]
     },
     "execution_count": 35,
     "metadata": {},
     "output_type": "execute_result"
    }
   ],
   "source": [
    "rankings = pd.read_csv('MasseyOrdinals/MasseyOrdinals.csv')\n",
    "rankings.head()"
   ]
  },
  {
   "cell_type": "code",
   "execution_count": 36,
   "metadata": {},
   "outputs": [
    {
     "data": {
      "text/html": [
       "<div>\n",
       "<style scoped>\n",
       "    .dataframe tbody tr th:only-of-type {\n",
       "        vertical-align: middle;\n",
       "    }\n",
       "\n",
       "    .dataframe tbody tr th {\n",
       "        vertical-align: top;\n",
       "    }\n",
       "\n",
       "    .dataframe thead th {\n",
       "        text-align: right;\n",
       "    }\n",
       "</style>\n",
       "<table border=\"1\" class=\"dataframe\">\n",
       "  <thead>\n",
       "    <tr style=\"text-align: right;\">\n",
       "      <th></th>\n",
       "      <th>DayZero</th>\n",
       "      <th>RegionW</th>\n",
       "      <th>RegionX</th>\n",
       "      <th>RegionY</th>\n",
       "      <th>RegionZ</th>\n",
       "    </tr>\n",
       "    <tr>\n",
       "      <th>Season</th>\n",
       "      <th></th>\n",
       "      <th></th>\n",
       "      <th></th>\n",
       "      <th></th>\n",
       "      <th></th>\n",
       "    </tr>\n",
       "  </thead>\n",
       "  <tbody>\n",
       "    <tr>\n",
       "      <th>1985</th>\n",
       "      <td>1984-10-29</td>\n",
       "      <td>East</td>\n",
       "      <td>West</td>\n",
       "      <td>Midwest</td>\n",
       "      <td>Southeast</td>\n",
       "    </tr>\n",
       "    <tr>\n",
       "      <th>1986</th>\n",
       "      <td>1985-10-28</td>\n",
       "      <td>East</td>\n",
       "      <td>Midwest</td>\n",
       "      <td>Southeast</td>\n",
       "      <td>West</td>\n",
       "    </tr>\n",
       "    <tr>\n",
       "      <th>1987</th>\n",
       "      <td>1986-10-27</td>\n",
       "      <td>East</td>\n",
       "      <td>Southeast</td>\n",
       "      <td>Midwest</td>\n",
       "      <td>West</td>\n",
       "    </tr>\n",
       "    <tr>\n",
       "      <th>1988</th>\n",
       "      <td>1987-11-02</td>\n",
       "      <td>East</td>\n",
       "      <td>Midwest</td>\n",
       "      <td>Southeast</td>\n",
       "      <td>West</td>\n",
       "    </tr>\n",
       "    <tr>\n",
       "      <th>1989</th>\n",
       "      <td>1988-10-31</td>\n",
       "      <td>East</td>\n",
       "      <td>West</td>\n",
       "      <td>Midwest</td>\n",
       "      <td>Southeast</td>\n",
       "    </tr>\n",
       "  </tbody>\n",
       "</table>\n",
       "</div>"
      ],
      "text/plain": [
       "          DayZero RegionW    RegionX    RegionY    RegionZ\n",
       "Season                                                    \n",
       "1985   1984-10-29    East       West    Midwest  Southeast\n",
       "1986   1985-10-28    East    Midwest  Southeast       West\n",
       "1987   1986-10-27    East  Southeast    Midwest       West\n",
       "1988   1987-11-02    East    Midwest  Southeast       West\n",
       "1989   1988-10-31    East       West    Midwest  Southeast"
      ]
     },
     "execution_count": 36,
     "metadata": {},
     "output_type": "execute_result"
    }
   ],
   "source": [
    "seasons = pd.read_csv('DataFiles/Seasons.csv',parse_dates=['DayZero'],index_col='Season')\n",
    "seasons.head()"
   ]
  },
  {
   "cell_type": "markdown",
   "metadata": {},
   "source": [
    "Now, let's use both data frames to add a column to rankings that is the date of the released rankings."
   ]
  },
  {
   "cell_type": "code",
   "execution_count": 37,
   "metadata": {},
   "outputs": [],
   "source": [
    "rankings['Date'] = rankings.apply(lambda row: pd.to_timedelta(row['RankingDayNum'],unit='D') + \\\n",
    "                                  seasons.loc[row['Season'],'DayZero'],axis=1)    "
   ]
  },
  {
   "cell_type": "markdown",
   "metadata": {},
   "source": [
    "Let's resample the rankings for each team by week and take a mean of the rankings. For the weeks when no rankings are available, we will interpolate the ranking value."
   ]
  },
  {
   "cell_type": "code",
   "execution_count": 38,
   "metadata": {},
   "outputs": [],
   "source": [
    "## save this in a dictionary with team ID as key\n",
    "eff_rank = {t:rankings[rankings['TeamID'] == t].set_index('Date').resample('7D').mean().interpolate()['OrdinalRank'] \\\n",
    "               for t in rankings['TeamID'].unique()}"
   ]
  },
  {
   "cell_type": "markdown",
   "metadata": {},
   "source": [
    "Now we need to match the ranks of the winning and losing teams in the main data frame."
   ]
  },
  {
   "cell_type": "code",
   "execution_count": 69,
   "metadata": {},
   "outputs": [],
   "source": [
    "data['Date'] = data.apply(lambda row: pd.to_timedelta(row['DayNum'],unit='D') \\\n",
    "                          + seasons.loc[row['Season'],'DayZero'],axis=1)"
   ]
  },
  {
   "cell_type": "code",
   "execution_count": 70,
   "metadata": {},
   "outputs": [],
   "source": [
    "for i,game in data.iterrows():\n",
    "    Wteam_rank = eff_rank[game['WTeamID']].reset_index()\n",
    "    Widx = (Wteam_rank['Date'] - game['Date']).abs().idxmin()\n",
    "    data.at[i,'Wrank'] = Wteam_rank.loc[Widx,'OrdinalRank']\n",
    "    Lteam_rank = eff_rank[game['LTeamID']].reset_index()\n",
    "    Lidx = (Lteam_rank['Date'] - game['Date']).abs().idxmin()\n",
    "    data.at[i,'Lrank'] = Lteam_rank.loc[Lidx,'OrdinalRank']"
   ]
  },
  {
   "cell_type": "code",
   "execution_count": 71,
   "metadata": {},
   "outputs": [],
   "source": [
    "data['RankDiff'] = data['Wrank'] - data['Lrank']"
   ]
  },
  {
   "cell_type": "code",
   "execution_count": 72,
   "metadata": {},
   "outputs": [
    {
     "data": {
      "text/html": [
       "<div>\n",
       "<style scoped>\n",
       "    .dataframe tbody tr th:only-of-type {\n",
       "        vertical-align: middle;\n",
       "    }\n",
       "\n",
       "    .dataframe tbody tr th {\n",
       "        vertical-align: top;\n",
       "    }\n",
       "\n",
       "    .dataframe thead th {\n",
       "        text-align: right;\n",
       "    }\n",
       "</style>\n",
       "<table border=\"1\" class=\"dataframe\">\n",
       "  <thead>\n",
       "    <tr style=\"text-align: right;\">\n",
       "      <th></th>\n",
       "      <th>Season</th>\n",
       "      <th>DayNum</th>\n",
       "      <th>WTeamID</th>\n",
       "      <th>WScore</th>\n",
       "      <th>LTeamID</th>\n",
       "      <th>LScore</th>\n",
       "      <th>WLoc</th>\n",
       "      <th>NumOT</th>\n",
       "      <th>Elo_Prob</th>\n",
       "      <th>WElo</th>\n",
       "      <th>...</th>\n",
       "      <th>FGM3</th>\n",
       "      <th>FGA3</th>\n",
       "      <th>FTM</th>\n",
       "      <th>FTA</th>\n",
       "      <th>OR</th>\n",
       "      <th>DR</th>\n",
       "      <th>Date</th>\n",
       "      <th>Wrank</th>\n",
       "      <th>Lrank</th>\n",
       "      <th>RankDiff</th>\n",
       "    </tr>\n",
       "  </thead>\n",
       "  <tbody>\n",
       "    <tr>\n",
       "      <th>0</th>\n",
       "      <td>2003</td>\n",
       "      <td>10</td>\n",
       "      <td>1104</td>\n",
       "      <td>68</td>\n",
       "      <td>1328</td>\n",
       "      <td>62</td>\n",
       "      <td>N</td>\n",
       "      <td>0</td>\n",
       "      <td>0.532471</td>\n",
       "      <td>1488.515970</td>\n",
       "      <td>...</td>\n",
       "      <td>1.0</td>\n",
       "      <td>4.75</td>\n",
       "      <td>7.25</td>\n",
       "      <td>9.00</td>\n",
       "      <td>5.00</td>\n",
       "      <td>3.75</td>\n",
       "      <td>2002-11-14</td>\n",
       "      <td>14.157895</td>\n",
       "      <td>22.157895</td>\n",
       "      <td>-8.000000</td>\n",
       "    </tr>\n",
       "    <tr>\n",
       "      <th>1</th>\n",
       "      <td>2003</td>\n",
       "      <td>10</td>\n",
       "      <td>1272</td>\n",
       "      <td>70</td>\n",
       "      <td>1393</td>\n",
       "      <td>63</td>\n",
       "      <td>N</td>\n",
       "      <td>0</td>\n",
       "      <td>0.545998</td>\n",
       "      <td>1579.975178</td>\n",
       "      <td>...</td>\n",
       "      <td>-0.5</td>\n",
       "      <td>-3.25</td>\n",
       "      <td>2.75</td>\n",
       "      <td>3.75</td>\n",
       "      <td>-2.75</td>\n",
       "      <td>0.25</td>\n",
       "      <td>2002-11-14</td>\n",
       "      <td>66.764706</td>\n",
       "      <td>76.823529</td>\n",
       "      <td>-10.058824</td>\n",
       "    </tr>\n",
       "    <tr>\n",
       "      <th>2</th>\n",
       "      <td>2003</td>\n",
       "      <td>11</td>\n",
       "      <td>1266</td>\n",
       "      <td>73</td>\n",
       "      <td>1437</td>\n",
       "      <td>61</td>\n",
       "      <td>N</td>\n",
       "      <td>0</td>\n",
       "      <td>0.312924</td>\n",
       "      <td>1438.790873</td>\n",
       "      <td>...</td>\n",
       "      <td>1.5</td>\n",
       "      <td>1.25</td>\n",
       "      <td>-6.25</td>\n",
       "      <td>-9.75</td>\n",
       "      <td>0.25</td>\n",
       "      <td>-1.25</td>\n",
       "      <td>2002-11-15</td>\n",
       "      <td>29.210526</td>\n",
       "      <td>42.411765</td>\n",
       "      <td>-13.201238</td>\n",
       "    </tr>\n",
       "    <tr>\n",
       "      <th>3</th>\n",
       "      <td>2003</td>\n",
       "      <td>11</td>\n",
       "      <td>1296</td>\n",
       "      <td>56</td>\n",
       "      <td>1457</td>\n",
       "      <td>50</td>\n",
       "      <td>N</td>\n",
       "      <td>0</td>\n",
       "      <td>0.944968</td>\n",
       "      <td>1683.740432</td>\n",
       "      <td>...</td>\n",
       "      <td>-1.5</td>\n",
       "      <td>-0.25</td>\n",
       "      <td>-4.00</td>\n",
       "      <td>-4.75</td>\n",
       "      <td>1.50</td>\n",
       "      <td>-2.75</td>\n",
       "      <td>2002-11-15</td>\n",
       "      <td>179.764706</td>\n",
       "      <td>231.176471</td>\n",
       "      <td>-51.411765</td>\n",
       "    </tr>\n",
       "    <tr>\n",
       "      <th>4</th>\n",
       "      <td>2003</td>\n",
       "      <td>11</td>\n",
       "      <td>1400</td>\n",
       "      <td>77</td>\n",
       "      <td>1208</td>\n",
       "      <td>71</td>\n",
       "      <td>N</td>\n",
       "      <td>0</td>\n",
       "      <td>0.826595</td>\n",
       "      <td>1476.718684</td>\n",
       "      <td>...</td>\n",
       "      <td>-2.0</td>\n",
       "      <td>-4.50</td>\n",
       "      <td>1.00</td>\n",
       "      <td>1.75</td>\n",
       "      <td>0.50</td>\n",
       "      <td>-2.50</td>\n",
       "      <td>2002-11-15</td>\n",
       "      <td>17.263158</td>\n",
       "      <td>63.764706</td>\n",
       "      <td>-46.501548</td>\n",
       "    </tr>\n",
       "  </tbody>\n",
       "</table>\n",
       "<p>5 rows × 65 columns</p>\n",
       "</div>"
      ],
      "text/plain": [
       "   Season  DayNum  WTeamID  WScore  LTeamID  LScore WLoc  NumOT  Elo_Prob  \\\n",
       "0    2003      10     1104      68     1328      62    N      0  0.532471   \n",
       "1    2003      10     1272      70     1393      63    N      0  0.545998   \n",
       "2    2003      11     1266      73     1437      61    N      0  0.312924   \n",
       "3    2003      11     1296      56     1457      50    N      0  0.944968   \n",
       "4    2003      11     1400      77     1208      71    N      0  0.826595   \n",
       "\n",
       "          WElo    ...      FGM3  FGA3   FTM   FTA    OR    DR       Date  \\\n",
       "0  1488.515970    ...       1.0  4.75  7.25  9.00  5.00  3.75 2002-11-14   \n",
       "1  1579.975178    ...      -0.5 -3.25  2.75  3.75 -2.75  0.25 2002-11-14   \n",
       "2  1438.790873    ...       1.5  1.25 -6.25 -9.75  0.25 -1.25 2002-11-15   \n",
       "3  1683.740432    ...      -1.5 -0.25 -4.00 -4.75  1.50 -2.75 2002-11-15   \n",
       "4  1476.718684    ...      -2.0 -4.50  1.00  1.75  0.50 -2.50 2002-11-15   \n",
       "\n",
       "        Wrank       Lrank   RankDiff  \n",
       "0   14.157895   22.157895  -8.000000  \n",
       "1   66.764706   76.823529 -10.058824  \n",
       "2   29.210526   42.411765 -13.201238  \n",
       "3  179.764706  231.176471 -51.411765  \n",
       "4   17.263158   63.764706 -46.501548  \n",
       "\n",
       "[5 rows x 65 columns]"
      ]
     },
     "execution_count": 72,
     "metadata": {},
     "output_type": "execute_result"
    }
   ],
   "source": [
    "data.head()"
   ]
  },
  {
   "cell_type": "markdown",
   "metadata": {},
   "source": [
    "## Prepping for ML"
   ]
  },
  {
   "cell_type": "markdown",
   "metadata": {},
   "source": [
    "The data came to us without a \"target\" value, as the first team listed is always the winning team, we have to create our own. One way would be to randomly split the data in two and for half the data swap the teams. If the winning team is in the first column, the target is 1, or else it is 0. Of course, in doing this, we also have to reverse the predictor values to reflect the change."
   ]
  },
  {
   "cell_type": "code",
   "execution_count": 73,
   "metadata": {},
   "outputs": [],
   "source": [
    "## shuffle the data by re-sampling all of it\n",
    "data_shuffle = data.sample(frac=1,random_state=123)\n",
    "\n",
    "## split the shuffled data in two\n",
    "orig = data_shuffle.iloc[:len(data)//2,:]\n",
    "rev = data_shuffle.iloc[len(data)//2:,:]\n",
    "\n",
    "## reverse the values in the second half of the data\n",
    "for r in to_roll:\n",
    "    temp = -rev[r]\n",
    "    rev = rev.drop(columns=r)\n",
    "    rev[r] = temp\n",
    "    \n",
    "new_prob = 1-rev['Elo_Prob']\n",
    "rev = rev.drop(columns=['Elo_Prob'])\n",
    "rev['Elo_Prob'] = new_prob\n",
    "\n",
    "new_rank = -rev['RankDiff']\n",
    "rev = rev.drop(columns=['RankDiff'])\n",
    "rev['RankDiff'] = new_rank\n",
    "\n",
    "## order columns in rev\n",
    "rev = rev[orig.columns]\n",
    "orig = orig[orig.columns]\n",
    "\n",
    "## Add columns for the target values\n",
    "orig['result'] = 1\n",
    "rev['result'] = 0\n",
    "\n",
    "## Merge the two back together\n",
    "data_target = pd.concat([orig,rev])\n",
    "data_target = data_target.sort_values(by=['Season','DayNum'])"
   ]
  },
  {
   "cell_type": "markdown",
   "metadata": {},
   "source": [
    "We will use all the values that we designed trending stats to along with the Elo probabilites and rank differentials. Then we split up the data frame of predictors ```X``` from the data frame of the target values ```y```."
   ]
  },
  {
   "cell_type": "code",
   "execution_count": 74,
   "metadata": {},
   "outputs": [],
   "source": [
    "predictors = to_roll + ['Elo_Prob','RankDiff']\n",
    "X = data_target[predictors]\n",
    "y = data_target['result']"
   ]
  },
  {
   "cell_type": "code",
   "execution_count": 45,
   "metadata": {},
   "outputs": [],
   "source": [
    "from sklearn.model_selection import train_test_split\n",
    "X_train,X_test,y_train,y_test = train_test_split(X,y,random_state=123)"
   ]
  },
  {
   "cell_type": "code",
   "execution_count": 46,
   "metadata": {},
   "outputs": [
    {
     "data": {
      "text/plain": [
       "GridSearchCV(cv=None, error_score='raise',\n",
       "       estimator=GradientBoostingClassifier(criterion='friedman_mse', init=None,\n",
       "              learning_rate=0.1, loss='deviance', max_depth=3,\n",
       "              max_features=None, max_leaf_nodes=None,\n",
       "              min_impurity_decrease=0.0, min_impurity_split=None,\n",
       "              min_samples_leaf=1, min_samples_split=2,\n",
       "              min_weight_fraction_leaf=0.0, n_estimators=100,\n",
       "              presort='auto', random_state=123, subsample=1.0, verbose=0,\n",
       "              warm_start=False),\n",
       "       fit_params=None, iid=True, n_jobs=1,\n",
       "       param_grid={'n_estimators': [100, 200, 300], 'min_samples_split': [2, 3, 4], 'max_depth': [3, 4, 5]},\n",
       "       pre_dispatch='2*n_jobs', refit=True, return_train_score='warn',\n",
       "       scoring=None, verbose=0)"
      ]
     },
     "execution_count": 46,
     "metadata": {},
     "output_type": "execute_result"
    }
   ],
   "source": [
    "from sklearn.ensemble import GradientBoostingClassifier\n",
    "from sklearn.model_selection import GridSearchCV\n",
    "\n",
    "grid = GridSearchCV(GradientBoostingClassifier(random_state=123),\n",
    "                   param_grid = {'n_estimators':[100,200,300],\n",
    "                                'min_samples_split':[2,3,4],\n",
    "                                'max_depth':[3,4,5]})\n",
    "grid.fit(X_train,y_train)"
   ]
  },
  {
   "cell_type": "code",
   "execution_count": 47,
   "metadata": {},
   "outputs": [],
   "source": [
    "clf = grid.best_estimator_"
   ]
  },
  {
   "cell_type": "code",
   "execution_count": 48,
   "metadata": {},
   "outputs": [
    {
     "name": "stdout",
     "output_type": "stream",
     "text": [
      "Train score: 0.83\n",
      "Test score:  0.82\n"
     ]
    }
   ],
   "source": [
    "print('Train score: %0.2f' % clf.score(X_train,y_train))\n",
    "print('Test score:  %0.2f' % clf.score(X_test,y_test))"
   ]
  },
  {
   "cell_type": "code",
   "execution_count": 49,
   "metadata": {},
   "outputs": [
    {
     "data": {
      "text/plain": [
       "<matplotlib.axes._subplots.AxesSubplot at 0x131f9eb70>"
      ]
     },
     "execution_count": 49,
     "metadata": {},
     "output_type": "execute_result"
    },
    {
     "data": {
      "image/png": "[encoded data removed]",
      "text/plain": [
       "<Figure size 432x288 with 1 Axes>"
      ]
     },
     "metadata": {
      "image/png": {
       "height": 250,
       "width": 400
      }
     },
     "output_type": "display_data"
    }
   ],
   "source": [
    "%matplotlib inline\n",
    "pd.DataFrame(clf.feature_importances_,index=X.columns).sort_values(by=0).plot(kind='barh',legend=False)"
   ]
  },
  {
   "cell_type": "markdown",
   "metadata": {},
   "source": [
    "## Stage 1 submission: Historical tournaments"
   ]
  },
  {
   "cell_type": "markdown",
   "metadata": {},
   "source": [
    "Kaggle requires us to predict a probability for the outcomes of every possible match up of teams for the last 4 NCAA tournaments (2014-2018). In order for us to do this, we need to grab the last row of stats for every team up until first day of the tournament. This must be submitted by March 16th, 2019, the day before Selection Sunday."
   ]
  },
  {
   "cell_type": "code",
   "execution_count": 252,
   "metadata": {},
   "outputs": [
    {
     "name": "stdout",
     "output_type": "stream",
     "text": [
      "Done with season 2014\n",
      "Done with season 2015\n",
      "Done with season 2016\n",
      "Done with season 2017\n",
      "Done with season 2018\n"
     ]
    }
   ],
   "source": [
    "submit = []\n",
    "for s in range(2014,2019):\n",
    "    stats = []\n",
    "    subset = data[(data['Season'] == s) & (data['DayNum'] <= 133)]\n",
    "    for t in seeds[seeds['Season'] == s]['TeamID']:\n",
    "        row = {'TeamID':t}\n",
    "        team_stats = subset[(subset['WTeamID'] == t) | (subset['LTeamID'] == t)]\n",
    "        team_stats = team_stats.loc[team_stats['Date'].idxmax()]\n",
    "        if team_stats['WTeamID'] == t:\n",
    "            for r in to_roll:\n",
    "                row['%s_trend' % r] = team_stats['W%s_trend' % r]\n",
    "            row['Elo'] = team_stats['WElo']\n",
    "            row['Rank'] = team_stats['Wrank']\n",
    "        else:\n",
    "            for r in to_roll:\n",
    "                row['%s_trend' % r] = team_stats['L%s_trend' % r]\n",
    "            row['Elo'] = team_stats['LElo']\n",
    "            row['Rank'] = team_stats['Lrank']\n",
    "        stats.append(row)\n",
    "    stats = pd.DataFrame(stats).sort_values('TeamID').set_index('TeamID')\n",
    "    \n",
    "    pairings = []\n",
    "    for i in range(len(stats)):\n",
    "        teamA = stats.iloc[i]\n",
    "        for j in range(i+1,len(stats)):\n",
    "            teamB = stats.iloc[j]\n",
    "            x = teamA - teamB\n",
    "            x['TeamA'] = teamA.name\n",
    "            x['TeamB'] = teamB.name\n",
    "            pairings.append(x)\n",
    "    \n",
    "    pairings = pd.DataFrame(pairings)\n",
    "    \n",
    "    pairings.columns = pairings.columns.str.replace('_trend','')\n",
    "    pairings.columns = pairings.columns.str.replace('Rank','RankDiff')\n",
    "    pairings.columns = pairings.columns.str.replace('Elo','EloDiff')\n",
    "    pairings['Elo_Prob'] = pairings['EloDiff'].apply(lambda x: 1 / (10**(-x/400) + 1))\n",
    "    \n",
    "    Z = pairings[predictors]\n",
    "    pairings['Pred'] = clf.predict_proba(Z)[:,1]\n",
    "    \n",
    "    \n",
    "    pairings['ID'] = pairings.apply(lambda row: '%d_%d_%d' % (s,row['TeamA'],row['TeamB']),axis=1)\n",
    "    \n",
    "    submit.append(pairings[['ID','Pred']])\n",
    "    print('Done with season %d' % s)\n",
    "\n",
    "submit = pd.concat(submit).set_index('ID')"
   ]
  },
  {
   "cell_type": "code",
   "execution_count": 265,
   "metadata": {},
   "outputs": [
    {
     "data": {
      "text/plain": [
       "0"
      ]
     },
     "execution_count": 265,
     "metadata": {},
     "output_type": "execute_result"
    }
   ],
   "source": [
    "stamp = pd.Timestamp.now()\n",
    "filename = 'submission_%d-%d-%d_%d:%d.csv' % (stamp.year,stamp.month,stamp.day,stamp.hour,stamp.minute)\n",
    "submit.to_csv(filename)\n",
    "\n",
    "message = 'First submission, Gradient Boosting Classifier with predictors ' + ','.join(predictors)\n",
    "\n",
    "os.system('kaggle competitions submit -c mens-machine-learning-competition-2019 -f %s -m \"%s\"' % (filename,message))\n",
    "print('Submission Complete!')"
   ]
  },
  {
   "cell_type": "code",
   "execution_count": null,
   "metadata": {},
   "outputs": [],
   "source": []
  }
 ],
 "metadata": {
  "kernelspec": {
   "display_name": "Python 3",
   "language": "python",
   "name": "python3"
  },
  "language_info": {
   "codemirror_mode": {
    "name": "ipython",
    "version": 3
   },
   "file_extension": ".py",
   "mimetype": "text/x-python",
   "name": "python",
   "nbconvert_exporter": "python",
   "pygments_lexer": "ipython3",
   "version": "3.6.5"
  }
 },
 "nbformat": 4,
 "nbformat_minor": 2
}
