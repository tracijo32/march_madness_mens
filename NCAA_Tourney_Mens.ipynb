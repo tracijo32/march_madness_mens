{
 "cells": [
  {
   "cell_type": "markdown",
   "metadata": {},
   "source": [
    "# Men's NCAA Basketball Tournament Predictions"
   ]
  },
  {
   "cell_type": "markdown",
   "metadata": {},
   "source": [
    "## Download data from Kaggle"
   ]
  },
  {
   "cell_type": "markdown",
   "metadata": {},
   "source": [
    "I used the Kaggle API to download the data. This requires an account in order to obtain an API key and to accept the terms and conditions of the [Google Cloud & Men's 2019 NCAA Tournament ML Competition](https://www.kaggle.com/c/mens-machine-learning-competition-2019/)."
   ]
  },
  {
   "cell_type": "code",
   "execution_count": 150,
   "metadata": {},
   "outputs": [
    {
     "name": "stdout",
     "output_type": "stream",
     "text": [
      "SampleSubmissionStage1.csv: Skipping, found more recently modified local copy (use --force to force download)\n",
      "Downloading MasseyOrdinals.zip to /Users/tljohn/data_science/kaggle/ncaa-mens-2019\n",
      "\n",
      "Downloading PlayByPlay_2010.zip to /Users/tljohn/data_science/kaggle/ncaa-mens-2019\n",
      "\n",
      "Downloading PlayByPlay_2011.zip to /Users/tljohn/data_science/kaggle/ncaa-mens-2019\n",
      "\n",
      "Downloading PlayByPlay_2012.zip to /Users/tljohn/data_science/kaggle/ncaa-mens-2019\n",
      "\n",
      "Downloading PlayByPlay_2013.zip to /Users/tljohn/data_science/kaggle/ncaa-mens-2019\n",
      "\n",
      "Downloading PlayByPlay_2014.zip to /Users/tljohn/data_science/kaggle/ncaa-mens-2019\n",
      "\n",
      "Downloading PlayByPlay_2015.zip to /Users/tljohn/data_science/kaggle/ncaa-mens-2019\n",
      "\n",
      "Downloading PlayByPlay_2016.zip to /Users/tljohn/data_science/kaggle/ncaa-mens-2019\n",
      "\n",
      "Downloading PlayByPlay_2017.zip to /Users/tljohn/data_science/kaggle/ncaa-mens-2019\n",
      "\n",
      "Downloading PlayByPlay_2018.zip to /Users/tljohn/data_science/kaggle/ncaa-mens-2019\n",
      "\n",
      "Downloading DataFiles.zip to /Users/tljohn/data_science/kaggle/ncaa-mens-2019\n",
      "\n"
     ]
    },
    {
     "name": "stderr",
     "output_type": "stream",
     "text": [
      "\r",
      "  0%|          | 0.00/13.7M [00:00<?, ?B/s]\r",
      "  7%|▋         | 1.00M/13.7M [00:00<00:08, 1.63MB/s]\r",
      " 15%|█▍        | 2.00M/13.7M [00:00<00:05, 2.09MB/s]\r",
      " 22%|██▏       | 3.00M/13.7M [00:01<00:04, 2.44MB/s]\r",
      " 29%|██▉       | 4.00M/13.7M [00:01<00:03, 3.02MB/s]\r",
      " 36%|███▋      | 5.00M/13.7M [00:01<00:02, 3.80MB/s]\r",
      " 44%|████▎     | 6.00M/13.7M [00:01<00:02, 4.04MB/s]\r",
      " 51%|█████     | 7.00M/13.7M [00:01<00:01, 4.12MB/s]\r",
      " 58%|█████▊    | 8.00M/13.7M [00:01<00:01, 4.49MB/s]\r",
      " 65%|██████▌   | 9.00M/13.7M [00:02<00:01, 4.78MB/s]\r",
      " 73%|███████▎  | 10.0M/13.7M [00:02<00:00, 4.91MB/s]\r",
      " 80%|████████  | 11.0M/13.7M [00:02<00:00, 5.05MB/s]\r",
      " 87%|████████▋ | 12.0M/13.7M [00:02<00:00, 5.40MB/s]\r",
      " 95%|█████████▍| 13.0M/13.7M [00:02<00:00, 5.44MB/s]\r",
      "100%|██████████| 13.7M/13.7M [00:03<00:00, 5.51MB/s]\n",
      "\r",
      "  0%|          | 0.00/19.9M [00:00<?, ?B/s]\r",
      "  5%|▌         | 1.00M/19.9M [00:00<00:03, 6.03MB/s]\r",
      " 10%|█         | 2.00M/19.9M [00:00<00:03, 6.14MB/s]\r",
      " 15%|█▌        | 3.00M/19.9M [00:00<00:02, 6.34MB/s]\r",
      " 20%|██        | 4.00M/19.9M [00:00<00:02, 6.27MB/s]\r",
      " 25%|██▌       | 5.00M/19.9M [00:00<00:02, 6.95MB/s]\r",
      " 30%|███       | 6.00M/19.9M [00:00<00:02, 6.41MB/s]\r",
      " 35%|███▌      | 7.00M/19.9M [00:01<00:02, 6.12MB/s]\r",
      " 40%|████      | 8.00M/19.9M [00:01<00:02, 5.40MB/s]\r",
      " 45%|████▌     | 9.00M/19.9M [00:01<00:02, 5.59MB/s]\r",
      " 50%|█████     | 10.0M/19.9M [00:01<00:02, 5.13MB/s]\r",
      " 55%|█████▌    | 11.0M/19.9M [00:01<00:01, 5.34MB/s]\r",
      " 60%|██████    | 12.0M/19.9M [00:02<00:01, 5.37MB/s]\r",
      " 65%|██████▌   | 13.0M/19.9M [00:02<00:01, 5.73MB/s]\r",
      " 71%|███████   | 14.0M/19.9M [00:02<00:01, 5.70MB/s]\r",
      " 76%|███████▌  | 15.0M/19.9M [00:02<00:00, 5.82MB/s]\r",
      " 81%|████████  | 16.0M/19.9M [00:02<00:00, 6.25MB/s]\r",
      " 86%|████████▌ | 17.0M/19.9M [00:02<00:00, 6.52MB/s]\r",
      " 91%|█████████ | 18.0M/19.9M [00:03<00:00, 6.02MB/s]\r",
      " 96%|█████████▌| 19.0M/19.9M [00:03<00:00, 5.83MB/s]\r",
      "100%|██████████| 19.9M/19.9M [00:03<00:00, 5.96MB/s]\n",
      "\r",
      "  0%|          | 0.00/20.0M [00:00<?, ?B/s]\r",
      "  5%|▍         | 1.00M/20.0M [00:00<00:03, 5.40MB/s]\r",
      " 10%|▉         | 2.00M/20.0M [00:00<00:03, 5.84MB/s]\r",
      " 15%|█▍        | 3.00M/20.0M [00:00<00:03, 5.75MB/s]\r",
      " 20%|█▉        | 4.00M/20.0M [00:00<00:03, 5.06MB/s]\r",
      " 25%|██▍       | 5.00M/20.0M [00:00<00:03, 5.22MB/s]\r",
      " 30%|██▉       | 6.00M/20.0M [00:01<00:02, 5.33MB/s]\r",
      " 35%|███▍      | 7.00M/20.0M [00:01<00:02, 5.61MB/s]\r",
      " 40%|███▉      | 8.00M/20.0M [00:01<00:02, 5.87MB/s]\r",
      " 45%|████▍     | 9.00M/20.0M [00:01<00:01, 6.21MB/s]\r",
      " 50%|████▉     | 10.0M/20.0M [00:01<00:01, 5.88MB/s]\r",
      " 55%|█████▍    | 11.0M/20.0M [00:02<00:01, 5.81MB/s]\r",
      " 60%|█████▉    | 12.0M/20.0M [00:02<00:01, 5.52MB/s]\r",
      " 65%|██████▍   | 13.0M/20.0M [00:02<00:01, 5.55MB/s]\r",
      " 70%|██████▉   | 14.0M/20.0M [00:02<00:01, 5.30MB/s]\r",
      " 75%|███████▍  | 15.0M/20.0M [00:03<00:01, 3.55MB/s]\r",
      " 80%|███████▉  | 16.0M/20.0M [00:03<00:01, 4.08MB/s]\r",
      " 85%|████████▍ | 17.0M/20.0M [00:03<00:00, 4.72MB/s]\r",
      " 90%|████████▉ | 18.0M/20.0M [00:03<00:00, 5.05MB/s]\r",
      " 95%|█████████▍| 19.0M/20.0M [00:03<00:00, 4.62MB/s]\r",
      "100%|█████████▉| 20.0M/20.0M [00:04<00:00, 4.72MB/s]\r",
      "100%|██████████| 20.0M/20.0M [00:04<00:00, 5.08MB/s]\n",
      "\r",
      "  0%|          | 0.00/19.9M [00:00<?, ?B/s]\r",
      "  5%|▌         | 1.00M/19.9M [00:00<00:04, 4.73MB/s]\r",
      " 10%|█         | 2.00M/19.9M [00:00<00:04, 4.66MB/s]\r",
      " 15%|█▌        | 3.00M/19.9M [00:00<00:03, 4.76MB/s]\r",
      " 20%|██        | 4.00M/19.9M [00:00<00:03, 4.85MB/s]\r",
      " 25%|██▌       | 5.00M/19.9M [00:01<00:03, 4.95MB/s]\r",
      " 30%|███       | 6.00M/19.9M [00:01<00:03, 4.74MB/s]\r",
      " 35%|███▌      | 7.00M/19.9M [00:01<00:02, 4.94MB/s]\r",
      " 40%|████      | 8.00M/19.9M [00:01<00:02, 4.83MB/s]\r",
      " 45%|████▌     | 9.00M/19.9M [00:01<00:02, 4.75MB/s]\r",
      " 50%|█████     | 10.0M/19.9M [00:02<00:02, 4.29MB/s]\r",
      " 55%|█████▌    | 11.0M/19.9M [00:02<00:02, 4.51MB/s]\r",
      " 60%|██████    | 12.0M/19.9M [00:02<00:01, 4.66MB/s]\r",
      " 65%|██████▌   | 13.0M/19.9M [00:02<00:01, 4.84MB/s]\r",
      " 70%|███████   | 14.0M/19.9M [00:03<00:01, 4.16MB/s]\r",
      " 75%|███████▌  | 15.0M/19.9M [00:03<00:01, 4.53MB/s]\r",
      " 80%|████████  | 16.0M/19.9M [00:03<00:00, 4.32MB/s]\r",
      " 85%|████████▌ | 17.0M/19.9M [00:03<00:00, 4.13MB/s]\r",
      " 90%|█████████ | 18.0M/19.9M [00:04<00:00, 4.06MB/s]\r",
      " 95%|█████████▌| 19.0M/19.9M [00:04<00:00, 4.44MB/s]\r",
      "100%|██████████| 19.9M/19.9M [00:04<00:00, 4.50MB/s]\n",
      "\r",
      "  0%|          | 0.00/20.3M [00:00<?, ?B/s]\r",
      "  5%|▍         | 1.00M/20.3M [00:00<00:04, 4.90MB/s]\r",
      " 10%|▉         | 2.00M/20.3M [00:00<00:03, 5.03MB/s]\r",
      " 15%|█▍        | 3.00M/20.3M [00:00<00:03, 4.98MB/s]\r",
      " 20%|█▉        | 4.00M/20.3M [00:00<00:03, 5.30MB/s]\r",
      " 25%|██▍       | 5.00M/20.3M [00:01<00:03, 5.21MB/s]\r",
      " 30%|██▉       | 6.00M/20.3M [00:01<00:02, 5.08MB/s]\r",
      " 34%|███▍      | 7.00M/20.3M [00:01<00:02, 5.27MB/s]\r",
      " 39%|███▉      | 8.00M/20.3M [00:01<00:02, 4.83MB/s]\r",
      " 44%|████▍     | 9.00M/20.3M [00:01<00:02, 5.14MB/s]\r",
      " 49%|████▉     | 10.0M/20.3M [00:02<00:01, 5.45MB/s]\r",
      " 54%|█████▍    | 11.0M/20.3M [00:02<00:01, 5.47MB/s]\r",
      " 59%|█████▉    | 12.0M/20.3M [00:02<00:01, 5.63MB/s]\r",
      " 64%|██████▍   | 13.0M/20.3M [00:02<00:01, 6.00MB/s]\r",
      " 69%|██████▉   | 14.0M/20.3M [00:02<00:01, 6.17MB/s]\r",
      " 74%|███████▍  | 15.0M/20.3M [00:02<00:01, 5.43MB/s]\r",
      " 79%|███████▉  | 16.0M/20.3M [00:03<00:00, 5.23MB/s]\r",
      " 84%|████████▍ | 17.0M/20.3M [00:03<00:00, 5.33MB/s]\r",
      " 89%|████████▊ | 18.0M/20.3M [00:03<00:00, 5.36MB/s]\r",
      " 94%|█████████▎| 19.0M/20.3M [00:03<00:00, 5.35MB/s]\r",
      " 99%|█████████▊| 20.0M/20.3M [00:03<00:00, 5.53MB/s]\r",
      "100%|██████████| 20.3M/20.3M [00:03<00:00, 5.38MB/s]\n",
      "\r",
      "  0%|          | 0.00/21.0M [00:00<?, ?B/s]\r",
      "  5%|▍         | 1.00M/21.0M [00:00<00:04, 4.86MB/s]\r",
      " 10%|▉         | 2.00M/21.0M [00:00<00:04, 4.92MB/s]\r",
      " 14%|█▍        | 3.00M/21.0M [00:00<00:03, 5.01MB/s]\r",
      " 19%|█▉        | 4.00M/21.0M [00:00<00:03, 5.30MB/s]\r",
      " 24%|██▍       | 5.00M/21.0M [00:00<00:03, 5.38MB/s]\r",
      " 29%|██▊       | 6.00M/21.0M [00:01<00:02, 5.42MB/s]\r",
      " 33%|███▎      | 7.00M/21.0M [00:01<00:02, 6.21MB/s]\r",
      " 38%|███▊      | 8.00M/21.0M [00:01<00:02, 5.63MB/s]\r",
      " 43%|████▎     | 9.00M/21.0M [00:01<00:02, 5.78MB/s]\r",
      " 48%|████▊     | 10.0M/21.0M [00:01<00:01, 5.80MB/s]\r",
      " 52%|█████▏    | 11.0M/21.0M [00:02<00:01, 5.60MB/s]\r",
      " 57%|█████▋    | 12.0M/21.0M [00:02<00:01, 5.68MB/s]\r",
      " 62%|██████▏   | 13.0M/21.0M [00:02<00:01, 5.68MB/s]\r",
      " 67%|██████▋   | 14.0M/21.0M [00:02<00:01, 5.74MB/s]\r",
      " 71%|███████▏  | 15.0M/21.0M [00:02<00:01, 5.47MB/s]\r",
      " 76%|███████▋  | 16.0M/21.0M [00:03<00:00, 5.43MB/s]\r",
      " 81%|████████  | 17.0M/21.0M [00:03<00:00, 5.57MB/s]\r",
      " 86%|████████▌ | 18.0M/21.0M [00:03<00:00, 5.32MB/s]\r",
      " 91%|█████████ | 19.0M/21.0M [00:03<00:00, 5.23MB/s]\r",
      " 95%|█████████▌| 20.0M/21.0M [00:03<00:00, 5.19MB/s]\r",
      "100%|██████████| 21.0M/21.0M [00:04<00:00, 5.34MB/s]\n",
      "\r",
      "  0%|          | 0.00/20.4M [00:00<?, ?B/s]\r",
      "  5%|▍         | 1.00M/20.4M [00:00<00:04, 4.93MB/s]\r",
      " 10%|▉         | 2.00M/20.4M [00:00<00:03, 5.38MB/s]\r",
      " 15%|█▍        | 3.00M/20.4M [00:00<00:03, 5.41MB/s]\r",
      " 20%|█▉        | 4.00M/20.4M [00:00<00:03, 5.57MB/s]\r",
      " 24%|██▍       | 5.00M/20.4M [00:00<00:02, 5.78MB/s]\r",
      " 29%|██▉       | 6.00M/20.4M [00:01<00:02, 5.59MB/s]\r",
      " 34%|███▍      | 7.00M/20.4M [00:01<00:02, 5.63MB/s]\r",
      " 39%|███▉      | 8.00M/20.4M [00:01<00:02, 5.02MB/s]\r",
      " 44%|████▍     | 9.00M/20.4M [00:01<00:02, 5.18MB/s]\r",
      " 49%|████▉     | 10.0M/20.4M [00:01<00:02, 5.29MB/s]\r",
      " 54%|█████▍    | 11.0M/20.4M [00:02<00:01, 5.44MB/s]\r",
      " 59%|█████▊    | 12.0M/20.4M [00:02<00:02, 3.49MB/s]\r",
      " 64%|██████▎   | 13.0M/20.4M [00:02<00:01, 3.99MB/s]\r",
      " 68%|██████▊   | 14.0M/20.4M [00:03<00:01, 4.40MB/s]\r",
      " 73%|███████▎  | 15.0M/20.4M [00:03<00:01, 4.75MB/s]\r",
      " 78%|███████▊  | 16.0M/20.4M [00:03<00:00, 5.41MB/s]\r",
      " 83%|████████▎ | 17.0M/20.4M [00:03<00:00, 5.38MB/s]\r",
      " 88%|████████▊ | 18.0M/20.4M [00:03<00:00, 5.94MB/s]\r",
      " 93%|█████████▎| 19.0M/20.4M [00:03<00:00, 5.61MB/s]\r",
      " 98%|█████████▊| 20.0M/20.4M [00:04<00:00, 5.71MB/s]\r",
      "100%|██████████| 20.4M/20.4M [00:04<00:00, 5.20MB/s]\n",
      "\r",
      "  0%|          | 0.00/21.2M [00:00<?, ?B/s]\r",
      "  5%|▍         | 1.00M/21.2M [00:00<00:03, 5.43MB/s]\r",
      "  9%|▉         | 2.00M/21.2M [00:00<00:03, 5.47MB/s]\r",
      " 14%|█▍        | 3.00M/21.2M [00:00<00:03, 5.44MB/s]\r",
      " 19%|█▉        | 4.00M/21.2M [00:00<00:03, 5.81MB/s]\r",
      " 24%|██▎       | 5.00M/21.2M [00:00<00:02, 5.74MB/s]\r",
      " 28%|██▊       | 6.00M/21.2M [00:01<00:02, 5.76MB/s]\r",
      " 33%|███▎      | 7.00M/21.2M [00:01<00:02, 5.84MB/s]\r",
      " 38%|███▊      | 8.00M/21.2M [00:01<00:02, 5.75MB/s]\r",
      " 42%|████▏     | 9.00M/21.2M [00:01<00:02, 5.83MB/s]\r",
      " 47%|████▋     | 10.0M/21.2M [00:01<00:01, 6.04MB/s]\r",
      " 52%|█████▏    | 11.0M/21.2M [00:01<00:01, 5.87MB/s]\r",
      " 57%|█████▋    | 12.0M/21.2M [00:02<00:01, 5.86MB/s]\r",
      " 61%|██████▏   | 13.0M/21.2M [00:02<00:01, 6.11MB/s]\r",
      " 66%|██████▌   | 14.0M/21.2M [00:02<00:01, 6.53MB/s]\r",
      " 71%|███████   | 15.0M/21.2M [00:02<00:01, 6.39MB/s]\r",
      " 75%|███████▌  | 16.0M/21.2M [00:02<00:00, 6.62MB/s]\r",
      " 80%|████████  | 17.0M/21.2M [00:02<00:00, 5.86MB/s]\r",
      " 85%|████████▍ | 18.0M/21.2M [00:03<00:00, 5.67MB/s]\r",
      " 90%|████████▉ | 19.0M/21.2M [00:03<00:00, 6.08MB/s]\r",
      " 94%|█████████▍| 20.0M/21.2M [00:03<00:00, 5.89MB/s]\r",
      " 99%|█████████▉| 21.0M/21.2M [00:03<00:00, 6.12MB/s]\r",
      "100%|██████████| 21.2M/21.2M [00:03<00:00, 6.00MB/s]\n",
      "\r",
      "  0%|          | 0.00/20.5M [00:00<?, ?B/s]\r",
      "  5%|▍         | 1.00M/20.5M [00:00<00:03, 5.24MB/s]\r",
      " 10%|▉         | 2.00M/20.5M [00:00<00:03, 5.28MB/s]\r",
      " 15%|█▍        | 3.00M/20.5M [00:00<00:03, 5.39MB/s]\r",
      " 20%|█▉        | 4.00M/20.5M [00:00<00:03, 5.04MB/s]\r",
      " 24%|██▍       | 5.00M/20.5M [00:01<00:03, 4.89MB/s]\r",
      " 29%|██▉       | 6.00M/20.5M [00:01<00:03, 5.05MB/s]\r",
      " 34%|███▍      | 7.00M/20.5M [00:01<00:02, 4.96MB/s]\r",
      " 39%|███▉      | 8.00M/20.5M [00:01<00:02, 4.93MB/s]\r",
      " 44%|████▍     | 9.00M/20.5M [00:01<00:02, 4.86MB/s]\r",
      " 49%|████▉     | 10.0M/20.5M [00:02<00:02, 5.07MB/s]\r",
      " 54%|█████▍    | 11.0M/20.5M [00:02<00:02, 4.48MB/s]\r",
      " 59%|█████▊    | 12.0M/20.5M [00:02<00:02, 4.35MB/s]\r",
      " 64%|██████▎   | 13.0M/20.5M [00:02<00:01, 4.76MB/s]\r",
      " 68%|██████▊   | 14.0M/20.5M [00:03<00:01, 4.60MB/s]\r",
      " 73%|███████▎  | 15.0M/20.5M [00:03<00:01, 4.53MB/s]\r",
      " 78%|███████▊  | 16.0M/20.5M [00:03<00:01, 4.67MB/s]\r",
      " 83%|████████▎ | 17.0M/20.5M [00:03<00:00, 4.71MB/s]\r",
      " 88%|████████▊ | 18.0M/20.5M [00:04<00:00, 4.39MB/s]\r",
      " 93%|█████████▎| 19.0M/20.5M [00:04<00:00, 4.59MB/s]\r",
      " 98%|█████████▊| 20.0M/20.5M [00:04<00:00, 4.39MB/s]\r",
      "100%|██████████| 20.5M/20.5M [00:04<00:00, 4.71MB/s]\n",
      "\r",
      "  0%|          | 0.00/20.6M [00:00<?, ?B/s]\r",
      "  5%|▍         | 1.00M/20.6M [00:00<00:04, 4.74MB/s]\r",
      " 10%|▉         | 2.00M/20.6M [00:00<00:04, 4.72MB/s]\r",
      " 15%|█▍        | 3.00M/20.6M [00:00<00:03, 4.89MB/s]\r",
      " 19%|█▉        | 4.00M/20.6M [00:00<00:03, 5.11MB/s]\r",
      " 24%|██▍       | 5.00M/20.6M [00:00<00:03, 5.40MB/s]\r",
      " 29%|██▉       | 6.00M/20.6M [00:01<00:02, 5.37MB/s]\r",
      " 34%|███▍      | 7.00M/20.6M [00:01<00:02, 5.35MB/s]\r",
      " 39%|███▉      | 8.00M/20.6M [00:01<00:02, 5.51MB/s]\r",
      " 44%|████▎     | 9.00M/20.6M [00:01<00:02, 5.82MB/s]\r",
      " 49%|████▊     | 10.0M/20.6M [00:01<00:01, 5.71MB/s]\r",
      " 53%|█████▎    | 11.0M/20.6M [00:02<00:01, 5.40MB/s]\r",
      " 58%|█████▊    | 12.0M/20.6M [00:02<00:01, 4.94MB/s]\r",
      " 63%|██████▎   | 13.0M/20.6M [00:02<00:01, 5.19MB/s]\r",
      " 68%|██████▊   | 14.0M/20.6M [00:02<00:01, 5.07MB/s]\r",
      " 73%|███████▎  | 15.0M/20.6M [00:02<00:01, 5.32MB/s]\r",
      " 78%|███████▊  | 16.0M/20.6M [00:03<00:00, 5.28MB/s]\r",
      " 82%|████████▏ | 17.0M/20.6M [00:03<00:00, 5.26MB/s]\r",
      " 87%|████████▋ | 18.0M/20.6M [00:03<00:00, 5.30MB/s]\r",
      " 92%|█████████▏| 19.0M/20.6M [00:03<00:00, 5.22MB/s]\r",
      " 97%|█████████▋| 20.0M/20.6M [00:03<00:00, 5.11MB/s]\r",
      "100%|██████████| 20.6M/20.6M [00:04<00:00, 4.58MB/s]\n",
      "\r",
      "  0%|          | 0.00/4.25M [00:00<?, ?B/s]\r",
      " 24%|██▎       | 1.00M/4.25M [00:00<00:00, 5.16MB/s]\r",
      " 47%|████▋     | 2.00M/4.25M [00:00<00:00, 4.67MB/s]\r",
      " 71%|███████   | 3.00M/4.25M [00:00<00:00, 4.33MB/s]\r",
      " 94%|█████████▍| 4.00M/4.25M [00:00<00:00, 4.64MB/s]\r",
      "100%|██████████| 4.25M/4.25M [00:00<00:00, 4.56MB/s]\n"
     ]
    }
   ],
   "source": [
    "%%bash\n",
    "kaggle competitions download -c mens-machine-learning-competition-2019"
   ]
  },
  {
   "cell_type": "markdown",
   "metadata": {},
   "source": [
    "We care mostly about the files in ```DataFiles.zip```, so we will only unzip this directory. All the others contain information about play-by-play events. It would be really cool to incorporate individual player stats into a ML algorithm, but for now, I will only use team stats for each individual game."
   ]
  },
  {
   "cell_type": "code",
   "execution_count": 151,
   "metadata": {},
   "outputs": [],
   "source": [
    "import zipfile\n",
    "zip_ref = zipfile.ZipFile('DataFiles.zip', 'r')\n",
    "zip_ref.extractall('DataFiles')\n",
    "zip_ref.close()"
   ]
  },
  {
   "cell_type": "markdown",
   "metadata": {},
   "source": [
    "I like to use Pandas to work with tabular data. There are two types of game-by-game data for the NCAA: compact results which give the simple box scores for each game (teamIDs, scores, and who was the home team or if the game was played at a neutral site) and detailed results with box scores along with all the statisics like field goal attempts/completions, etc. The former goes back all the way to 1985 and the latter only to 2003. We can use all the box scores dating back from 1985 to establish a long enough baseline to determine accurage Elo scores."
   ]
  },
  {
   "cell_type": "code",
   "execution_count": 601,
   "metadata": {},
   "outputs": [],
   "source": [
    "import pandas as pd\n",
    "import numpy as np\n",
    "df1 = pd.read_csv('DataFiles/RegularSeasonCompactResults.csv')\n",
    "df1['Playoff'] = 0\n",
    "df2 = pd.read_csv('DataFiles/NCAATourneyCompactResults.csv')\n",
    "df2['Playoff'] = 1\n",
    "df = pd.concat([df1,df2])"
   ]
  },
  {
   "cell_type": "code",
   "execution_count": 602,
   "metadata": {},
   "outputs": [],
   "source": [
    "df = df.sort_values(by=['Season','DayNum'])"
   ]
  },
  {
   "cell_type": "code",
   "execution_count": 603,
   "metadata": {},
   "outputs": [],
   "source": [
    "df['WProb_Elo'] = np.nan"
   ]
  },
  {
   "cell_type": "code",
   "execution_count": 604,
   "metadata": {},
   "outputs": [
    {
     "data": {
      "text/html": [
       "<div>\n",
       "<style scoped>\n",
       "    .dataframe tbody tr th:only-of-type {\n",
       "        vertical-align: middle;\n",
       "    }\n",
       "\n",
       "    .dataframe tbody tr th {\n",
       "        vertical-align: top;\n",
       "    }\n",
       "\n",
       "    .dataframe thead th {\n",
       "        text-align: right;\n",
       "    }\n",
       "</style>\n",
       "<table border=\"1\" class=\"dataframe\">\n",
       "  <thead>\n",
       "    <tr style=\"text-align: right;\">\n",
       "      <th></th>\n",
       "      <th>Season</th>\n",
       "      <th>DayNum</th>\n",
       "      <th>WTeamID</th>\n",
       "      <th>WScore</th>\n",
       "      <th>LTeamID</th>\n",
       "      <th>LScore</th>\n",
       "      <th>WLoc</th>\n",
       "      <th>NumOT</th>\n",
       "      <th>Playoff</th>\n",
       "      <th>WProb_Elo</th>\n",
       "    </tr>\n",
       "  </thead>\n",
       "  <tbody>\n",
       "    <tr>\n",
       "      <th>0</th>\n",
       "      <td>1985</td>\n",
       "      <td>20</td>\n",
       "      <td>1228</td>\n",
       "      <td>81</td>\n",
       "      <td>1328</td>\n",
       "      <td>64</td>\n",
       "      <td>N</td>\n",
       "      <td>0</td>\n",
       "      <td>0</td>\n",
       "      <td>NaN</td>\n",
       "    </tr>\n",
       "    <tr>\n",
       "      <th>1</th>\n",
       "      <td>1985</td>\n",
       "      <td>25</td>\n",
       "      <td>1106</td>\n",
       "      <td>77</td>\n",
       "      <td>1354</td>\n",
       "      <td>70</td>\n",
       "      <td>H</td>\n",
       "      <td>0</td>\n",
       "      <td>0</td>\n",
       "      <td>NaN</td>\n",
       "    </tr>\n",
       "    <tr>\n",
       "      <th>2</th>\n",
       "      <td>1985</td>\n",
       "      <td>25</td>\n",
       "      <td>1112</td>\n",
       "      <td>63</td>\n",
       "      <td>1223</td>\n",
       "      <td>56</td>\n",
       "      <td>H</td>\n",
       "      <td>0</td>\n",
       "      <td>0</td>\n",
       "      <td>NaN</td>\n",
       "    </tr>\n",
       "    <tr>\n",
       "      <th>3</th>\n",
       "      <td>1985</td>\n",
       "      <td>25</td>\n",
       "      <td>1165</td>\n",
       "      <td>70</td>\n",
       "      <td>1432</td>\n",
       "      <td>54</td>\n",
       "      <td>H</td>\n",
       "      <td>0</td>\n",
       "      <td>0</td>\n",
       "      <td>NaN</td>\n",
       "    </tr>\n",
       "    <tr>\n",
       "      <th>4</th>\n",
       "      <td>1985</td>\n",
       "      <td>25</td>\n",
       "      <td>1192</td>\n",
       "      <td>86</td>\n",
       "      <td>1447</td>\n",
       "      <td>74</td>\n",
       "      <td>H</td>\n",
       "      <td>0</td>\n",
       "      <td>0</td>\n",
       "      <td>NaN</td>\n",
       "    </tr>\n",
       "  </tbody>\n",
       "</table>\n",
       "</div>"
      ],
      "text/plain": [
       "   Season  DayNum  WTeamID  WScore  LTeamID  LScore WLoc  NumOT  Playoff  \\\n",
       "0    1985      20     1228      81     1328      64    N      0        0   \n",
       "1    1985      25     1106      77     1354      70    H      0        0   \n",
       "2    1985      25     1112      63     1223      56    H      0        0   \n",
       "3    1985      25     1165      70     1432      54    H      0        0   \n",
       "4    1985      25     1192      86     1447      74    H      0        0   \n",
       "\n",
       "   WProb_Elo  \n",
       "0        NaN  \n",
       "1        NaN  \n",
       "2        NaN  \n",
       "3        NaN  \n",
       "4        NaN  "
      ]
     },
     "execution_count": 604,
     "metadata": {},
     "output_type": "execute_result"
    }
   ],
   "source": [
    "df.head()"
   ]
  },
  {
   "cell_type": "markdown",
   "metadata": {},
   "source": [
    "Elo scores were first developed for chess but have been adopted to predict outcomes of other games and sports. I have chosen to use the NBA Elo scores developed by [FiveThirtyEight](https://fivethirtyeight.com/features/how-we-calculate-nba-elo-ratings/)."
   ]
  },
  {
   "cell_type": "markdown",
   "metadata": {},
   "source": [
    "We can calculate the probability of winning based on the Elo score difference between any two teams."
   ]
  },
  {
   "cell_type": "code",
   "execution_count": 605,
   "metadata": {},
   "outputs": [],
   "source": [
    "def elo_prob(eloW,eloL,locW):\n",
    "    if locW == 'H':\n",
    "        value = HCA\n",
    "    elif locW == 'A':\n",
    "        value = -HCA\n",
    "    else:\n",
    "        value = 0\n",
    "        \n",
    "    elo_diff = eloW-eloL+value\n",
    "        \n",
    "    probW = 1 / (10**(-elo_diff/400) + 1)\n",
    "    return probW"
   ]
  },
  {
   "cell_type": "markdown",
   "metadata": {},
   "source": [
    "Elo scores are updated after a game occurs based on how surprising the outcome is. The larger the difference in the scores, the larger the expected point spread is. If the actual point differential is larger than expected, the more the Elo scores change. Elo scores are a zero-sum game, so points are added to the team who beats the point spread while points are taken from the other team."
   ]
  },
  {
   "cell_type": "code",
   "execution_count": 606,
   "metadata": {},
   "outputs": [],
   "source": [
    "def update_elo(eloW,ptsW,eloL,ptsL,locW):\n",
    "    if locW == 'H':\n",
    "        value = HCA\n",
    "    elif locW == 'A':\n",
    "        value = -HCA\n",
    "    else:\n",
    "        value = 0\n",
    "        \n",
    "    MOV = ptsW-ptsL\n",
    "    elo_diff = eloW-eloL+value\n",
    "    \n",
    "    mult = (MOV+3)**0.8 / (7.5 + 0.006*elo_diff)\n",
    "    probW = elo_prob(eloW,eloL,locW)\n",
    "    \n",
    "    shift = K*mult*(1-probW)\n",
    "    \n",
    "    return eloW + shift, eloL - shift"
   ]
  },
  {
   "cell_type": "markdown",
   "metadata": {},
   "source": [
    "At the end of the season, the Elo scores revert back toward the mean of 1500."
   ]
  },
  {
   "cell_type": "code",
   "execution_count": 607,
   "metadata": {},
   "outputs": [],
   "source": [
    "def season_revert(team_elo):\n",
    "    for team,elo in team_elo.items():\n",
    "        team_elo[team] = 1505*R + elo*(1-R)\n",
    "    return team_elo"
   ]
  },
  {
   "cell_type": "markdown",
   "metadata": {},
   "source": [
    "Not all the teams have been Division 1 since 1985, so we will have to add in the new teams at the beginning of the season. For that, we will need the data file indicating their first D1 season. Every team's first D1 season (starting with 1985) will have an Elo score of 1300. The next block of code propagates the Elo scores in chronological order."
   ]
  },
  {
   "cell_type": "code",
   "execution_count": 612,
   "metadata": {},
   "outputs": [],
   "source": [
    "def forecast(df):\n",
    "    team_elo = {t:ELO_START for t in df['WTeamID'].unique()}\n",
    "    season = 1985\n",
    "    for i,game in df.iterrows():\n",
    "        \n",
    "        if game['Season'] > season:\n",
    "            team_elo = season_revert(team_elo)\n",
    "            season = game['Season']\n",
    "        \n",
    "        teamW = game['WTeamID']\n",
    "        ptsW = game['WScore']\n",
    "        eloW = team_elo[teamW]\n",
    "        \n",
    "        teamL = game['LTeamID']\n",
    "        ptsL = game['LScore']\n",
    "        eloL = team_elo[teamL]\n",
    "        \n",
    "        locW = game['WLoc']\n",
    "    \n",
    "        df.at[i,'WElo'] = eloW\n",
    "        df.at[i,'LElo'] = eloL\n",
    "    \n",
    "        df.at[i,'WProb_Elo'] = elo_prob(eloW,eloL,locW)\n",
    "        \n",
    "        eloW,eloL = update_elo(eloW,ptsW,eloL,ptsL,locW)\n",
    "        team_elo[teamW] = eloW\n",
    "        team_elo[teamL] = eloL\n",
    "        \n",
    "    return df"
   ]
  },
  {
   "cell_type": "markdown",
   "metadata": {},
   "source": [
    "Next: find a way to use the multiprocessing module to search the entire parameter grid for best score and sumprob."
   ]
  },
  {
   "cell_type": "code",
   "execution_count": null,
   "metadata": {},
   "outputs": [],
   "source": [
    "def grid_search_elo(df,param_grid):\n",
    "    "
   ]
  },
  {
   "cell_type": "code",
   "execution_count": 613,
   "metadata": {},
   "outputs": [
    {
     "name": "stdout",
     "output_type": "stream",
     "text": [
      "1/81...K=20,HCA=50,R=0.20: score = 0.728, sumprob = 0.608...dt=58.6s...est_remaining=78.1min\n",
      "2/81...K=20,HCA=50,R=0.20: score = 0.728, sumprob = 0.608...dt=60.6s...est_remaining=79.8min\n",
      "3/81...K=20,HCA=50,R=0.20: score = 0.728, sumprob = 0.608...dt=58.0s...est_remaining=75.4min\n",
      "4/81...K=20,HCA=50,R=0.25: score = 0.730, sumprob = 0.604...dt=63.6s...est_remaining=81.6min\n",
      "5/81...K=20,HCA=50,R=0.25: score = 0.730, sumprob = 0.604...dt=60.0s...est_remaining=76.0min\n",
      "6/81...K=20,HCA=50,R=0.25: score = 0.730, sumprob = 0.604...dt=60.1s...est_remaining=75.1min\n",
      "7/81...K=20,HCA=50,R=0.33: score = 0.732, sumprob = 0.598...dt=60.4s...est_remaining=74.5min\n",
      "8/81...K=20,HCA=50,R=0.33: score = 0.732, sumprob = 0.598...dt=60.4s...est_remaining=73.5min\n",
      "9/81...K=20,HCA=50,R=0.33: score = 0.732, sumprob = 0.598...dt=60.3s...est_remaining=72.3min\n",
      "10/81...K=20,HCA=100,R=0.20: score = 0.730, sumprob = 0.620...dt=59.9s...est_remaining=70.9min\n",
      "11/81...K=20,HCA=100,R=0.20: score = 0.730, sumprob = 0.620...dt=60.0s...est_remaining=70.0min\n",
      "12/81...K=20,HCA=100,R=0.20: score = 0.730, sumprob = 0.620...dt=60.0s...est_remaining=69.0min\n",
      "13/81...K=20,HCA=100,R=0.25: score = 0.730, sumprob = 0.616...dt=60.7s...est_remaining=68.8min\n",
      "14/81...K=20,HCA=100,R=0.25: score = 0.730, sumprob = 0.616...dt=60.2s...est_remaining=67.2min\n",
      "15/81...K=20,HCA=100,R=0.25: score = 0.730, sumprob = 0.616...dt=57.9s...est_remaining=63.7min\n",
      "16/81...K=20,HCA=100,R=0.33: score = 0.729, sumprob = 0.611...dt=3662.9s...est_remaining=3968.2min\n",
      "17/81...K=20,HCA=100,R=0.33: score = 0.729, sumprob = 0.611...dt=8711.0s...est_remaining=9291.8min\n"
     ]
    },
    {
     "ename": "KeyboardInterrupt",
     "evalue": "",
     "output_type": "error",
     "traceback": [
      "\u001b[0;31m---------------------------------------------------------------------------\u001b[0m",
      "\u001b[0;31mKeyboardInterrupt\u001b[0m                         Traceback (most recent call last)",
      "\u001b[0;32m<ipython-input-613-5861d5b4eb50>\u001b[0m in \u001b[0;36m<module>\u001b[0;34m()\u001b[0m\n\u001b[1;32m     15\u001b[0m             \u001b[0;32mfor\u001b[0m \u001b[0mELO_START\u001b[0m \u001b[0;32min\u001b[0m \u001b[0melo_start\u001b[0m\u001b[0;34m:\u001b[0m\u001b[0;34m\u001b[0m\u001b[0m\n\u001b[1;32m     16\u001b[0m                 \u001b[0mstart\u001b[0m \u001b[0;34m=\u001b[0m \u001b[0mtime\u001b[0m\u001b[0;34m.\u001b[0m\u001b[0mtime\u001b[0m\u001b[0;34m(\u001b[0m\u001b[0;34m)\u001b[0m\u001b[0;34m\u001b[0m\u001b[0m\n\u001b[0;32m---> 17\u001b[0;31m                 \u001b[0mdf_iter\u001b[0m \u001b[0;34m=\u001b[0m \u001b[0mforecast\u001b[0m\u001b[0;34m(\u001b[0m\u001b[0mdf\u001b[0m\u001b[0;34m)\u001b[0m\u001b[0;34m\u001b[0m\u001b[0m\n\u001b[0m\u001b[1;32m     18\u001b[0m                 \u001b[0mend\u001b[0m \u001b[0;34m=\u001b[0m \u001b[0mtime\u001b[0m\u001b[0;34m.\u001b[0m\u001b[0mtime\u001b[0m\u001b[0;34m(\u001b[0m\u001b[0;34m)\u001b[0m\u001b[0;34m\u001b[0m\u001b[0m\n\u001b[1;32m     19\u001b[0m                 \u001b[0mdt\u001b[0m \u001b[0;34m=\u001b[0m \u001b[0mend\u001b[0m\u001b[0;34m-\u001b[0m\u001b[0mstart\u001b[0m\u001b[0;34m\u001b[0m\u001b[0m\n",
      "\u001b[0;32m<ipython-input-612-fac6b0809e66>\u001b[0m in \u001b[0;36mforecast\u001b[0;34m(df)\u001b[0m\n\u001b[1;32m     18\u001b[0m         \u001b[0mlocW\u001b[0m \u001b[0;34m=\u001b[0m \u001b[0mgame\u001b[0m\u001b[0;34m[\u001b[0m\u001b[0;34m'WLoc'\u001b[0m\u001b[0;34m]\u001b[0m\u001b[0;34m\u001b[0m\u001b[0m\n\u001b[1;32m     19\u001b[0m \u001b[0;34m\u001b[0m\u001b[0m\n\u001b[0;32m---> 20\u001b[0;31m         \u001b[0mdf\u001b[0m\u001b[0;34m.\u001b[0m\u001b[0mat\u001b[0m\u001b[0;34m[\u001b[0m\u001b[0mi\u001b[0m\u001b[0;34m,\u001b[0m\u001b[0;34m'WElo'\u001b[0m\u001b[0;34m]\u001b[0m \u001b[0;34m=\u001b[0m \u001b[0meloW\u001b[0m\u001b[0;34m\u001b[0m\u001b[0m\n\u001b[0m\u001b[1;32m     21\u001b[0m         \u001b[0mdf\u001b[0m\u001b[0;34m.\u001b[0m\u001b[0mat\u001b[0m\u001b[0;34m[\u001b[0m\u001b[0mi\u001b[0m\u001b[0;34m,\u001b[0m\u001b[0;34m'LElo'\u001b[0m\u001b[0;34m]\u001b[0m \u001b[0;34m=\u001b[0m \u001b[0meloL\u001b[0m\u001b[0;34m\u001b[0m\u001b[0m\n\u001b[1;32m     22\u001b[0m \u001b[0;34m\u001b[0m\u001b[0m\n",
      "\u001b[0;32m/usr/local/anaconda3/lib/python3.6/site-packages/pandas/core/indexing.py\u001b[0m in \u001b[0;36m__setitem__\u001b[0;34m(self, key, value)\u001b[0m\n\u001b[1;32m   2157\u001b[0m         \u001b[0mkey\u001b[0m \u001b[0;34m=\u001b[0m \u001b[0mlist\u001b[0m\u001b[0;34m(\u001b[0m\u001b[0mself\u001b[0m\u001b[0;34m.\u001b[0m\u001b[0m_convert_key\u001b[0m\u001b[0;34m(\u001b[0m\u001b[0mkey\u001b[0m\u001b[0;34m,\u001b[0m \u001b[0mis_setter\u001b[0m\u001b[0;34m=\u001b[0m\u001b[0;32mTrue\u001b[0m\u001b[0;34m)\u001b[0m\u001b[0;34m)\u001b[0m\u001b[0;34m\u001b[0m\u001b[0m\n\u001b[1;32m   2158\u001b[0m         \u001b[0mkey\u001b[0m\u001b[0;34m.\u001b[0m\u001b[0mappend\u001b[0m\u001b[0;34m(\u001b[0m\u001b[0mvalue\u001b[0m\u001b[0;34m)\u001b[0m\u001b[0;34m\u001b[0m\u001b[0m\n\u001b[0;32m-> 2159\u001b[0;31m         \u001b[0mself\u001b[0m\u001b[0;34m.\u001b[0m\u001b[0mobj\u001b[0m\u001b[0;34m.\u001b[0m\u001b[0m_set_value\u001b[0m\u001b[0;34m(\u001b[0m\u001b[0;34m*\u001b[0m\u001b[0mkey\u001b[0m\u001b[0;34m,\u001b[0m \u001b[0mtakeable\u001b[0m\u001b[0;34m=\u001b[0m\u001b[0mself\u001b[0m\u001b[0;34m.\u001b[0m\u001b[0m_takeable\u001b[0m\u001b[0;34m)\u001b[0m\u001b[0;34m\u001b[0m\u001b[0m\n\u001b[0m\u001b[1;32m   2160\u001b[0m \u001b[0;34m\u001b[0m\u001b[0m\n\u001b[1;32m   2161\u001b[0m \u001b[0;34m\u001b[0m\u001b[0m\n",
      "\u001b[0;32m/usr/local/anaconda3/lib/python3.6/site-packages/pandas/core/frame.py\u001b[0m in \u001b[0;36m_set_value\u001b[0;34m(self, index, col, value, takeable)\u001b[0m\n\u001b[1;32m   2577\u001b[0m             \u001b[0mseries\u001b[0m \u001b[0;34m=\u001b[0m \u001b[0mself\u001b[0m\u001b[0;34m.\u001b[0m\u001b[0m_get_item_cache\u001b[0m\u001b[0;34m(\u001b[0m\u001b[0mcol\u001b[0m\u001b[0;34m)\u001b[0m\u001b[0;34m\u001b[0m\u001b[0m\n\u001b[1;32m   2578\u001b[0m             \u001b[0mengine\u001b[0m \u001b[0;34m=\u001b[0m \u001b[0mself\u001b[0m\u001b[0;34m.\u001b[0m\u001b[0mindex\u001b[0m\u001b[0;34m.\u001b[0m\u001b[0m_engine\u001b[0m\u001b[0;34m\u001b[0m\u001b[0m\n\u001b[0;32m-> 2579\u001b[0;31m             \u001b[0mengine\u001b[0m\u001b[0;34m.\u001b[0m\u001b[0mset_value\u001b[0m\u001b[0;34m(\u001b[0m\u001b[0mseries\u001b[0m\u001b[0;34m.\u001b[0m\u001b[0m_values\u001b[0m\u001b[0;34m,\u001b[0m \u001b[0mindex\u001b[0m\u001b[0;34m,\u001b[0m \u001b[0mvalue\u001b[0m\u001b[0;34m)\u001b[0m\u001b[0;34m\u001b[0m\u001b[0m\n\u001b[0m\u001b[1;32m   2580\u001b[0m             \u001b[0;32mreturn\u001b[0m \u001b[0mself\u001b[0m\u001b[0;34m\u001b[0m\u001b[0m\n\u001b[1;32m   2581\u001b[0m         \u001b[0;32mexcept\u001b[0m \u001b[0;34m(\u001b[0m\u001b[0mKeyError\u001b[0m\u001b[0;34m,\u001b[0m \u001b[0mTypeError\u001b[0m\u001b[0;34m)\u001b[0m\u001b[0;34m:\u001b[0m\u001b[0;34m\u001b[0m\u001b[0m\n",
      "\u001b[0;31mKeyboardInterrupt\u001b[0m: "
     ]
    }
   ],
   "source": [
    "import time\n",
    "\n",
    "k = [20,30,40]\n",
    "hca=[50,100,150]\n",
    "r=[1/5,1/4,1/3]\n",
    "elo_start = [1200,1300,1400]\n",
    "\n",
    "results = []\n",
    "count = 1\n",
    "total = len(k)*len(hca)*len(r)*len(elo_start)\n",
    "\n",
    "for K in k:\n",
    "    for HCA in hca:\n",
    "        for R in r:\n",
    "            for ELO_START in elo_start:\n",
    "                start = time.time()\n",
    "                df_iter = forecast(df)\n",
    "                end = time.time()\n",
    "                dt = end-start\n",
    "                est_end = (total-count)*dt/60\n",
    "                    \n",
    "                score = (df_iter['WProb_Elo'] > 0.5).sum()/len(df_iter)\n",
    "                sumprob = df_iter['WProb_Elo'].sum()/len(df_iter)\n",
    "                print('%d/%d...K=%d,HCA=%d,R=%0.2f: score = %0.3f, sumprob = %0.3f...dt=%0.1fs...est_remaining=%0.1fmin' % \\\n",
    "                      (count,total,K,HCA,R,score,sumprob,dt,est_end))\n",
    "                    \n",
    "                results.append({'K':K,'HCA':HCA,'R':R,'score':score,'sumprob':sumprob})\n",
    "                count += 1"
   ]
  },
  {
   "cell_type": "markdown",
   "metadata": {},
   "source": [
    "How well does Elo do on its own? One way to check would be to see how many times the Elo scores accurately predict a single game. We can say that if the probability that the winning team would win given the Elo scores of both teams is greater than 50%, then we would have been correct. Here's how we compute the percentage of games we got correct."
   ]
  },
  {
   "cell_type": "code",
   "execution_count": 597,
   "metadata": {},
   "outputs": [
    {
     "ename": "TypeError",
     "evalue": "%d format: a number is required, not list",
     "output_type": "error",
     "traceback": [
      "\u001b[0;31m---------------------------------------------------------------------------\u001b[0m",
      "\u001b[0;31mTypeError\u001b[0m                                 Traceback (most recent call last)",
      "\u001b[0;32m<ipython-input-597-711d2d7a0502>\u001b[0m in \u001b[0;36m<module>\u001b[0;34m()\u001b[0m\n\u001b[1;32m      1\u001b[0m \u001b[0mdt\u001b[0m \u001b[0;34m=\u001b[0m \u001b[0;36m1.000\u001b[0m\u001b[0;34m\u001b[0m\u001b[0m\n\u001b[1;32m      2\u001b[0m \u001b[0mest_end\u001b[0m \u001b[0;34m=\u001b[0m \u001b[0;36m100.00\u001b[0m\u001b[0;34m\u001b[0m\u001b[0m\n\u001b[0;32m----> 3\u001b[0;31m \u001b[0mprint\u001b[0m\u001b[0;34m(\u001b[0m\u001b[0;34m'%d/%d...K=%d,HCA=%d,R=%0.2f: score = %0.3f, sumprob = %0.3f...dt=%0.1fs...est_remaining=%0.1fmin'\u001b[0m \u001b[0;34m%\u001b[0m                       \u001b[0;34m(\u001b[0m\u001b[0mcount\u001b[0m\u001b[0;34m,\u001b[0m\u001b[0mtotal\u001b[0m\u001b[0;34m,\u001b[0m\u001b[0mK\u001b[0m\u001b[0;34m,\u001b[0m\u001b[0mHCA\u001b[0m\u001b[0;34m,\u001b[0m\u001b[0mR\u001b[0m\u001b[0;34m,\u001b[0m\u001b[0mscore\u001b[0m\u001b[0;34m,\u001b[0m\u001b[0msumprob\u001b[0m\u001b[0;34m,\u001b[0m\u001b[0mdt\u001b[0m\u001b[0;34m,\u001b[0m\u001b[0mest_end\u001b[0m\u001b[0;34m)\u001b[0m\u001b[0;34m)\u001b[0m\u001b[0;34m\u001b[0m\u001b[0m\n\u001b[0m",
      "\u001b[0;31mTypeError\u001b[0m: %d format: a number is required, not list"
     ]
    }
   ],
   "source": [
    "dt = 1.000\n",
    "est_end = 100.00\n",
    "count = 1\n",
    "total = \n",
    "print('%d/%d...K=%d,HCA=%d,R=%0.2f: score = %0.3f, sumprob = %0.3f...dt=%0.1fs...est_remaining=%0.1fmin' % \\\n",
    "                      (count,total,K,HCA,R,score,sumprob,dt,est_end))"
   ]
  },
  {
   "cell_type": "code",
   "execution_count": 395,
   "metadata": {},
   "outputs": [
    {
     "data": {
      "text/plain": [
       "0.7294168935952436"
      ]
     },
     "execution_count": 395,
     "metadata": {},
     "output_type": "execute_result"
    }
   ],
   "source": [
    "(df['WProb_Elo'] > 0.5).sum()/len(df)"
   ]
  },
  {
   "cell_type": "markdown",
   "metadata": {},
   "source": [
    "But what if we are really off in our prediction? Obviously, if we predicted 10% for the winning team to win, that would be bad. We then could add up all the probabilities and see how close we get to the total number of games."
   ]
  },
  {
   "cell_type": "code",
   "execution_count": 396,
   "metadata": {},
   "outputs": [
    {
     "data": {
      "text/plain": [
       "0.61071068694896"
      ]
     },
     "execution_count": 396,
     "metadata": {},
     "output_type": "execute_result"
    }
   ],
   "source": [
    "df['WProb_Elo'].sum()/len(df)"
   ]
  },
  {
   "cell_type": "markdown",
   "metadata": {},
   "source": [
    "## Game statistics"
   ]
  },
  {
   "cell_type": "code",
   "execution_count": 533,
   "metadata": {},
   "outputs": [],
   "source": [
    "data1 = pd.read_csv('DataFiles/RegularSeasonDetailedResults.csv')\n",
    "data1['Playoff'] = 0\n",
    "data2 = pd.read_csv('DataFiles/NCAATourneyDetailedResults.csv')\n",
    "data2['Playoff'] = 1\n",
    "data = pd.concat([data1,data2])\n",
    "data = data.sort_values(by=['Season','DayNum'])"
   ]
  },
  {
   "cell_type": "code",
   "execution_count": 534,
   "metadata": {},
   "outputs": [
    {
     "data": {
      "text/html": [
       "<div>\n",
       "<style scoped>\n",
       "    .dataframe tbody tr th:only-of-type {\n",
       "        vertical-align: middle;\n",
       "    }\n",
       "\n",
       "    .dataframe tbody tr th {\n",
       "        vertical-align: top;\n",
       "    }\n",
       "\n",
       "    .dataframe thead th {\n",
       "        text-align: right;\n",
       "    }\n",
       "</style>\n",
       "<table border=\"1\" class=\"dataframe\">\n",
       "  <thead>\n",
       "    <tr style=\"text-align: right;\">\n",
       "      <th></th>\n",
       "      <th>Season</th>\n",
       "      <th>DayNum</th>\n",
       "      <th>WTeamID</th>\n",
       "      <th>WScore</th>\n",
       "      <th>LTeamID</th>\n",
       "      <th>LScore</th>\n",
       "      <th>WLoc</th>\n",
       "      <th>NumOT</th>\n",
       "      <th>WFGM</th>\n",
       "      <th>WFGA</th>\n",
       "      <th>...</th>\n",
       "      <th>LFTM</th>\n",
       "      <th>LFTA</th>\n",
       "      <th>LOR</th>\n",
       "      <th>LDR</th>\n",
       "      <th>LAst</th>\n",
       "      <th>LTO</th>\n",
       "      <th>LStl</th>\n",
       "      <th>LBlk</th>\n",
       "      <th>LPF</th>\n",
       "      <th>Playoff</th>\n",
       "    </tr>\n",
       "  </thead>\n",
       "  <tbody>\n",
       "    <tr>\n",
       "      <th>0</th>\n",
       "      <td>2003</td>\n",
       "      <td>10</td>\n",
       "      <td>1104</td>\n",
       "      <td>68</td>\n",
       "      <td>1328</td>\n",
       "      <td>62</td>\n",
       "      <td>N</td>\n",
       "      <td>0</td>\n",
       "      <td>27</td>\n",
       "      <td>58</td>\n",
       "      <td>...</td>\n",
       "      <td>16</td>\n",
       "      <td>22</td>\n",
       "      <td>10</td>\n",
       "      <td>22</td>\n",
       "      <td>8</td>\n",
       "      <td>18</td>\n",
       "      <td>9</td>\n",
       "      <td>2</td>\n",
       "      <td>20</td>\n",
       "      <td>0</td>\n",
       "    </tr>\n",
       "    <tr>\n",
       "      <th>1</th>\n",
       "      <td>2003</td>\n",
       "      <td>10</td>\n",
       "      <td>1272</td>\n",
       "      <td>70</td>\n",
       "      <td>1393</td>\n",
       "      <td>63</td>\n",
       "      <td>N</td>\n",
       "      <td>0</td>\n",
       "      <td>26</td>\n",
       "      <td>62</td>\n",
       "      <td>...</td>\n",
       "      <td>9</td>\n",
       "      <td>20</td>\n",
       "      <td>20</td>\n",
       "      <td>25</td>\n",
       "      <td>7</td>\n",
       "      <td>12</td>\n",
       "      <td>8</td>\n",
       "      <td>6</td>\n",
       "      <td>16</td>\n",
       "      <td>0</td>\n",
       "    </tr>\n",
       "    <tr>\n",
       "      <th>2</th>\n",
       "      <td>2003</td>\n",
       "      <td>11</td>\n",
       "      <td>1266</td>\n",
       "      <td>73</td>\n",
       "      <td>1437</td>\n",
       "      <td>61</td>\n",
       "      <td>N</td>\n",
       "      <td>0</td>\n",
       "      <td>24</td>\n",
       "      <td>58</td>\n",
       "      <td>...</td>\n",
       "      <td>14</td>\n",
       "      <td>23</td>\n",
       "      <td>31</td>\n",
       "      <td>22</td>\n",
       "      <td>9</td>\n",
       "      <td>12</td>\n",
       "      <td>2</td>\n",
       "      <td>5</td>\n",
       "      <td>23</td>\n",
       "      <td>0</td>\n",
       "    </tr>\n",
       "    <tr>\n",
       "      <th>3</th>\n",
       "      <td>2003</td>\n",
       "      <td>11</td>\n",
       "      <td>1296</td>\n",
       "      <td>56</td>\n",
       "      <td>1457</td>\n",
       "      <td>50</td>\n",
       "      <td>N</td>\n",
       "      <td>0</td>\n",
       "      <td>18</td>\n",
       "      <td>38</td>\n",
       "      <td>...</td>\n",
       "      <td>8</td>\n",
       "      <td>15</td>\n",
       "      <td>17</td>\n",
       "      <td>20</td>\n",
       "      <td>9</td>\n",
       "      <td>19</td>\n",
       "      <td>4</td>\n",
       "      <td>3</td>\n",
       "      <td>23</td>\n",
       "      <td>0</td>\n",
       "    </tr>\n",
       "    <tr>\n",
       "      <th>4</th>\n",
       "      <td>2003</td>\n",
       "      <td>11</td>\n",
       "      <td>1400</td>\n",
       "      <td>77</td>\n",
       "      <td>1208</td>\n",
       "      <td>71</td>\n",
       "      <td>N</td>\n",
       "      <td>0</td>\n",
       "      <td>30</td>\n",
       "      <td>61</td>\n",
       "      <td>...</td>\n",
       "      <td>17</td>\n",
       "      <td>27</td>\n",
       "      <td>21</td>\n",
       "      <td>15</td>\n",
       "      <td>12</td>\n",
       "      <td>10</td>\n",
       "      <td>7</td>\n",
       "      <td>1</td>\n",
       "      <td>14</td>\n",
       "      <td>0</td>\n",
       "    </tr>\n",
       "    <tr>\n",
       "      <th>5</th>\n",
       "      <td>2003</td>\n",
       "      <td>11</td>\n",
       "      <td>1458</td>\n",
       "      <td>81</td>\n",
       "      <td>1186</td>\n",
       "      <td>55</td>\n",
       "      <td>H</td>\n",
       "      <td>0</td>\n",
       "      <td>26</td>\n",
       "      <td>57</td>\n",
       "      <td>...</td>\n",
       "      <td>12</td>\n",
       "      <td>17</td>\n",
       "      <td>6</td>\n",
       "      <td>22</td>\n",
       "      <td>8</td>\n",
       "      <td>19</td>\n",
       "      <td>4</td>\n",
       "      <td>3</td>\n",
       "      <td>25</td>\n",
       "      <td>0</td>\n",
       "    </tr>\n",
       "    <tr>\n",
       "      <th>6</th>\n",
       "      <td>2003</td>\n",
       "      <td>12</td>\n",
       "      <td>1161</td>\n",
       "      <td>80</td>\n",
       "      <td>1236</td>\n",
       "      <td>62</td>\n",
       "      <td>H</td>\n",
       "      <td>0</td>\n",
       "      <td>23</td>\n",
       "      <td>55</td>\n",
       "      <td>...</td>\n",
       "      <td>20</td>\n",
       "      <td>28</td>\n",
       "      <td>9</td>\n",
       "      <td>21</td>\n",
       "      <td>11</td>\n",
       "      <td>30</td>\n",
       "      <td>10</td>\n",
       "      <td>4</td>\n",
       "      <td>28</td>\n",
       "      <td>0</td>\n",
       "    </tr>\n",
       "    <tr>\n",
       "      <th>7</th>\n",
       "      <td>2003</td>\n",
       "      <td>12</td>\n",
       "      <td>1186</td>\n",
       "      <td>75</td>\n",
       "      <td>1457</td>\n",
       "      <td>61</td>\n",
       "      <td>N</td>\n",
       "      <td>0</td>\n",
       "      <td>28</td>\n",
       "      <td>62</td>\n",
       "      <td>...</td>\n",
       "      <td>17</td>\n",
       "      <td>23</td>\n",
       "      <td>8</td>\n",
       "      <td>25</td>\n",
       "      <td>10</td>\n",
       "      <td>15</td>\n",
       "      <td>14</td>\n",
       "      <td>8</td>\n",
       "      <td>18</td>\n",
       "      <td>0</td>\n",
       "    </tr>\n",
       "    <tr>\n",
       "      <th>8</th>\n",
       "      <td>2003</td>\n",
       "      <td>12</td>\n",
       "      <td>1194</td>\n",
       "      <td>71</td>\n",
       "      <td>1156</td>\n",
       "      <td>66</td>\n",
       "      <td>N</td>\n",
       "      <td>0</td>\n",
       "      <td>28</td>\n",
       "      <td>58</td>\n",
       "      <td>...</td>\n",
       "      <td>12</td>\n",
       "      <td>27</td>\n",
       "      <td>13</td>\n",
       "      <td>26</td>\n",
       "      <td>13</td>\n",
       "      <td>25</td>\n",
       "      <td>8</td>\n",
       "      <td>2</td>\n",
       "      <td>18</td>\n",
       "      <td>0</td>\n",
       "    </tr>\n",
       "    <tr>\n",
       "      <th>9</th>\n",
       "      <td>2003</td>\n",
       "      <td>12</td>\n",
       "      <td>1458</td>\n",
       "      <td>84</td>\n",
       "      <td>1296</td>\n",
       "      <td>56</td>\n",
       "      <td>H</td>\n",
       "      <td>0</td>\n",
       "      <td>32</td>\n",
       "      <td>67</td>\n",
       "      <td>...</td>\n",
       "      <td>7</td>\n",
       "      <td>12</td>\n",
       "      <td>9</td>\n",
       "      <td>23</td>\n",
       "      <td>10</td>\n",
       "      <td>18</td>\n",
       "      <td>1</td>\n",
       "      <td>3</td>\n",
       "      <td>18</td>\n",
       "      <td>0</td>\n",
       "    </tr>\n",
       "  </tbody>\n",
       "</table>\n",
       "<p>10 rows × 35 columns</p>\n",
       "</div>"
      ],
      "text/plain": [
       "   Season  DayNum  WTeamID  WScore  LTeamID  LScore WLoc  NumOT  WFGM  WFGA  \\\n",
       "0    2003      10     1104      68     1328      62    N      0    27    58   \n",
       "1    2003      10     1272      70     1393      63    N      0    26    62   \n",
       "2    2003      11     1266      73     1437      61    N      0    24    58   \n",
       "3    2003      11     1296      56     1457      50    N      0    18    38   \n",
       "4    2003      11     1400      77     1208      71    N      0    30    61   \n",
       "5    2003      11     1458      81     1186      55    H      0    26    57   \n",
       "6    2003      12     1161      80     1236      62    H      0    23    55   \n",
       "7    2003      12     1186      75     1457      61    N      0    28    62   \n",
       "8    2003      12     1194      71     1156      66    N      0    28    58   \n",
       "9    2003      12     1458      84     1296      56    H      0    32    67   \n",
       "\n",
       "    ...     LFTM  LFTA  LOR  LDR  LAst  LTO  LStl  LBlk  LPF  Playoff  \n",
       "0   ...       16    22   10   22     8   18     9     2   20        0  \n",
       "1   ...        9    20   20   25     7   12     8     6   16        0  \n",
       "2   ...       14    23   31   22     9   12     2     5   23        0  \n",
       "3   ...        8    15   17   20     9   19     4     3   23        0  \n",
       "4   ...       17    27   21   15    12   10     7     1   14        0  \n",
       "5   ...       12    17    6   22     8   19     4     3   25        0  \n",
       "6   ...       20    28    9   21    11   30    10     4   28        0  \n",
       "7   ...       17    23    8   25    10   15    14     8   18        0  \n",
       "8   ...       12    27   13   26    13   25     8     2   18        0  \n",
       "9   ...        7    12    9   23    10   18     1     3   18        0  \n",
       "\n",
       "[10 rows x 35 columns]"
      ]
     },
     "execution_count": 534,
     "metadata": {},
     "output_type": "execute_result"
    }
   ],
   "source": [
    "data.head(10)"
   ]
  },
  {
   "cell_type": "code",
   "execution_count": 520,
   "metadata": {},
   "outputs": [
    {
     "data": {
      "text/plain": [
       "Index(['Season', 'DayNum', 'WTeamID', 'WScore', 'LTeamID', 'LScore', 'WLoc',\n",
       "       'NumOT', 'WFGM', 'WFGA', 'WFGM3', 'WFGA3', 'WFTM', 'WFTA', 'WOR', 'WDR',\n",
       "       'WAst', 'WTO', 'WStl', 'WBlk', 'WPF', 'LFGM', 'LFGA', 'LFGM3', 'LFGA3',\n",
       "       'LFTM', 'LFTA', 'LOR', 'LDR', 'LAst', 'LTO', 'LStl', 'LBlk', 'LPF',\n",
       "       'Playoff'],\n",
       "      dtype='object')"
      ]
     },
     "execution_count": 520,
     "metadata": {},
     "output_type": "execute_result"
    }
   ],
   "source": [
    "data.columns"
   ]
  },
  {
   "cell_type": "markdown",
   "metadata": {},
   "source": [
    "Here are the statistics for each game since 2003.\n",
    "- WFGM - field goals made (by the winning team)\n",
    "- WFGA - field goals attempted (by the winning team)\n",
    "- WFGM3 - three pointers made (by the winning team)\n",
    "- WFGA3 - three pointers attempted (by the winning team)\n",
    "- WFTM - free throws made (by the winning team)\n",
    "- WFTA - free throws attempted (by the winning team)\n",
    "- WOR - offensive rebounds (pulled by the winning team)\n",
    "- WDR - defensive rebounds (pulled by the winning team)\n",
    "- WAst - assists (by the winning team)\n",
    "- WTO - turnovers committed (by the winning team)\n",
    "- WStl - steals (accomplished by the winning team)\n",
    "- WBlk - blocks (accomplished by the winning team)\n",
    "- WPF - personal fouls committed (by the winning team)\n",
    "\n",
    "And the same for the losing teams with an \"L\" in front."
   ]
  },
  {
   "cell_type": "markdown",
   "metadata": {},
   "source": [
    "Let's append the Elo scores and probabilities to this new table."
   ]
  },
  {
   "cell_type": "code",
   "execution_count": 552,
   "metadata": {},
   "outputs": [],
   "source": [
    "df_short = df[df['Season'] >= 2003].reset_index(drop=True)\n",
    "data = pd.merge(df_short,data)"
   ]
  },
  {
   "cell_type": "markdown",
   "metadata": {},
   "source": [
    "Right now, the Elo scores are a good measure of the historical performance of a basketball program; however, game stats will help us to determine how a team has been performing as of late. We'll do this by taking a rolling average of some of the statistics over previous games. We have to be careful to not include the current game stats in this average because it will help to reveal the outcome of the game, which we are trying to predict."
   ]
  },
  {
   "cell_type": "code",
   "execution_count": 553,
   "metadata": {},
   "outputs": [],
   "source": [
    "## Here are the statistics we want to create rolling means for\n",
    "to_roll = ['FGM','FGA','FGM3','FGA3']\n",
    "\n",
    "## We're going to create a dictionary of dictionaries that store the rolling means for each team.\n",
    "##    The outer dictionary is for each individual team.\n",
    "##    The inner dictionaries contain each statistic's rolling mean.\n",
    "averages = dict()\n",
    "for ID in data['WTeamID'].unique():\n",
    "    averages[ID] = dict()\n",
    "    team = data[(data['WTeamID'] == ID) | (data['LTeamID'] == ID)]\n",
    "    for r in to_roll:\n",
    "        ## Here we apply a function that selects the correct statistic based on whether the team is W or L.\n",
    "        ## Method chaining: roll over last 4 games, take the mean, shift one down so that we don't include\n",
    "        ##     the statistic for the game that is being predicted, backward fill for NaN\n",
    "        averages[ID][r] = team.apply(lambda x: x['W%s' % r] if x['WTeamID'] == 1104 else x['L%s' % r],axis=1).\\\n",
    "            rolling(4).mean().shift(1).bfill()"
   ]
  },
  {
   "cell_type": "markdown",
   "metadata": {},
   "source": [
    "The predictors we use for our comprehensive algorithm will be the ratio of the winning team's statistic to that the losing team."
   ]
  },
  {
   "cell_type": "code",
   "execution_count": 556,
   "metadata": {},
   "outputs": [],
   "source": [
    "for r in to_roll:\n",
    "    win = data.apply(lambda row: averages[row['WTeamID']][r].loc[row.name],axis=1)\n",
    "    los = data.apply(lambda row: averages[row['LTeamID']][r].loc[row.name],axis=1)\n",
    "    data[r] = win/los"
   ]
  },
  {
   "cell_type": "markdown",
   "metadata": {},
   "source": [
    "## Prepping for ML"
   ]
  },
  {
   "cell_type": "markdown",
   "metadata": {},
   "source": [
    "The data came to us without a \"target\" value, as the first team listed is always the winning team, we have to create our own. One way would be to randomly split the data in two and for half the data swap the teams. If the winning team is in the first column, the target is 1, or else it is 0. Of course, in doing this, we also have to reverse the predictor values to reflect the change."
   ]
  },
  {
   "cell_type": "code",
   "execution_count": 557,
   "metadata": {},
   "outputs": [],
   "source": [
    "## shuffle the data by re-sampling all of it\n",
    "data_shuffle = data.sample(frac=1,random_state=123)\n",
    "\n",
    "## split the shuffled data in two\n",
    "orig = data_shuffle.iloc[:len(data)//2,:]\n",
    "rev = data_shuffle.iloc[len(data)//2:,:]\n",
    "\n",
    "## reverse the values in the second half of the data\n",
    "for r in to_roll:\n",
    "    temp = 1/rev[r]\n",
    "    rev = rev.drop(columns=r)\n",
    "    rev[r] = temp\n",
    "new_prob = 1-rev['WProb_Elo']\n",
    "rev = rev.drop(columns=['WProb_Elo'])\n",
    "new_prob.head()\n",
    "rev['WProb_Elo'] = new_prob\n",
    "\n",
    "## order columns in rev\n",
    "rev = rev[orig.columns]\n",
    "orig = orig[orig.columns]\n",
    "\n",
    "## Add columns for the target values\n",
    "orig['result'] = 1\n",
    "rev['result'] = 0\n",
    "\n",
    "## Merge the two back together\n",
    "data_target = pd.concat([orig,rev])\n",
    "data_target.columns = data_target.columns.str.replace('WProb','Prob')\n",
    "data_target = data_target.sort_values(by=['Season','DayNum'])"
   ]
  },
  {
   "cell_type": "code",
   "execution_count": 559,
   "metadata": {},
   "outputs": [
    {
     "name": "stdout",
     "output_type": "stream",
     "text": [
      "<class 'pandas.core.frame.DataFrame'>\n",
      "Int64Index: 83089 entries, 1 to 83088\n",
      "Data columns (total 43 columns):\n",
      "Season      83089 non-null int64\n",
      "DayNum      83089 non-null int64\n",
      "WTeamID     83089 non-null int64\n",
      "WScore      83089 non-null int64\n",
      "LTeamID     83089 non-null int64\n",
      "LScore      83089 non-null int64\n",
      "WLoc        83089 non-null object\n",
      "NumOT       83089 non-null int64\n",
      "Playoff     83089 non-null int64\n",
      "Prob_Elo    83089 non-null float64\n",
      "WElo        83089 non-null float64\n",
      "LElo        83089 non-null float64\n",
      "WFGM        83089 non-null int64\n",
      "WFGA        83089 non-null int64\n",
      "WFGM3       83089 non-null int64\n",
      "WFGA3       83089 non-null int64\n",
      "WFTM        83089 non-null int64\n",
      "WFTA        83089 non-null int64\n",
      "WOR         83089 non-null int64\n",
      "WDR         83089 non-null int64\n",
      "WAst        83089 non-null int64\n",
      "WTO         83089 non-null int64\n",
      "WStl        83089 non-null int64\n",
      "WBlk        83089 non-null int64\n",
      "WPF         83089 non-null int64\n",
      "LFGM        83089 non-null int64\n",
      "LFGA        83089 non-null int64\n",
      "LFGM3       83089 non-null int64\n",
      "LFGA3       83089 non-null int64\n",
      "LFTM        83089 non-null int64\n",
      "LFTA        83089 non-null int64\n",
      "LOR         83089 non-null int64\n",
      "LDR         83089 non-null int64\n",
      "LAst        83089 non-null int64\n",
      "LTO         83089 non-null int64\n",
      "LStl        83089 non-null int64\n",
      "LBlk        83089 non-null int64\n",
      "LPF         83089 non-null int64\n",
      "FGM         83089 non-null float64\n",
      "FGA         83089 non-null float64\n",
      "FGM3        83089 non-null float64\n",
      "FGA3        83089 non-null float64\n",
      "result      83089 non-null int64\n",
      "dtypes: float64(7), int64(35), object(1)\n",
      "memory usage: 27.9+ MB\n"
     ]
    }
   ],
   "source": [
    "data_target.info()"
   ]
  },
  {
   "cell_type": "code",
   "execution_count": 560,
   "metadata": {},
   "outputs": [],
   "source": [
    "predictors = to_roll + ['Prob_Elo']"
   ]
  },
  {
   "cell_type": "code",
   "execution_count": 561,
   "metadata": {},
   "outputs": [],
   "source": [
    "X = data_target[predictors]\n",
    "y = data_target['result']"
   ]
  },
  {
   "cell_type": "code",
   "execution_count": 563,
   "metadata": {},
   "outputs": [],
   "source": [
    "from sklearn.model_selection import train_test_split\n",
    "X_train,X_test,y_train,y_test = train_test_split(X,y,random_state=123)"
   ]
  },
  {
   "cell_type": "code",
   "execution_count": 564,
   "metadata": {},
   "outputs": [
    {
     "data": {
      "text/plain": [
       "GridSearchCV(cv=None, error_score='raise',\n",
       "       estimator=GradientBoostingClassifier(criterion='friedman_mse', init=None,\n",
       "              learning_rate=0.1, loss='deviance', max_depth=3,\n",
       "              max_features=None, max_leaf_nodes=None,\n",
       "              min_impurity_decrease=0.0, min_impurity_split=None,\n",
       "              min_samples_leaf=1, min_samples_split=2,\n",
       "              min_weight_fraction_leaf=0.0, n_estimators=100,\n",
       "              presort='auto', random_state=123, subsample=1.0, verbose=0,\n",
       "              warm_start=False),\n",
       "       fit_params=None, iid=True, n_jobs=1,\n",
       "       param_grid={'n_estimators': [100, 200, 300], 'min_samples_split': [2, 3, 4], 'max_depth': [3, 4, 5]},\n",
       "       pre_dispatch='2*n_jobs', refit=True, return_train_score='warn',\n",
       "       scoring=None, verbose=0)"
      ]
     },
     "execution_count": 564,
     "metadata": {},
     "output_type": "execute_result"
    }
   ],
   "source": [
    "from sklearn.ensemble import GradientBoostingClassifier\n",
    "from sklearn.model_selection import GridSearchCV\n",
    "\n",
    "grid = GridSearchCV(GradientBoostingClassifier(random_state=123),\n",
    "                   param_grid = {'n_estimators':[100,200,300],\n",
    "                                'min_samples_split':[2,3,4],\n",
    "                                'max_depth':[3,4,5]})\n",
    "grid.fit(X_train,y_train)"
   ]
  },
  {
   "cell_type": "code",
   "execution_count": 565,
   "metadata": {},
   "outputs": [],
   "source": [
    "clf = grid.best_estimator_"
   ]
  },
  {
   "cell_type": "code",
   "execution_count": 566,
   "metadata": {},
   "outputs": [
    {
     "name": "stdout",
     "output_type": "stream",
     "text": [
      "Train score: 0.73\n",
      "Test score:  0.72\n"
     ]
    }
   ],
   "source": [
    "print('Train score: %0.2f' % clf.score(X_train,y_train))\n",
    "print('Test score:  %0.2f' % clf.score(X_test,y_test))"
   ]
  },
  {
   "cell_type": "code",
   "execution_count": 568,
   "metadata": {},
   "outputs": [
    {
     "data": {
      "text/plain": [
       "{'criterion': 'friedman_mse',\n",
       " 'init': None,\n",
       " 'learning_rate': 0.1,\n",
       " 'loss': 'deviance',\n",
       " 'max_depth': 3,\n",
       " 'max_features': None,\n",
       " 'max_leaf_nodes': None,\n",
       " 'min_impurity_decrease': 0.0,\n",
       " 'min_impurity_split': None,\n",
       " 'min_samples_leaf': 1,\n",
       " 'min_samples_split': 4,\n",
       " 'min_weight_fraction_leaf': 0.0,\n",
       " 'n_estimators': 100,\n",
       " 'presort': 'auto',\n",
       " 'random_state': 123,\n",
       " 'subsample': 1.0,\n",
       " 'verbose': 0,\n",
       " 'warm_start': False}"
      ]
     },
     "execution_count": 568,
     "metadata": {},
     "output_type": "execute_result"
    }
   ],
   "source": [
    "clf.get_params()"
   ]
  },
  {
   "cell_type": "code",
   "execution_count": 576,
   "metadata": {},
   "outputs": [
    {
     "data": {
      "text/plain": [
       "<matplotlib.axes._subplots.AxesSubplot at 0x17b40b128>"
      ]
     },
     "execution_count": 576,
     "metadata": {},
     "output_type": "execute_result"
    },
    {
     "data": {
      "image/png": "[encoded data removed]",
      "text/plain": [
       "<Figure size 432x288 with 1 Axes>"
      ]
     },
     "metadata": {
      "image/png": {
       "height": 250,
       "width": 400
      }
     },
     "output_type": "display_data"
    }
   ],
   "source": [
    "%matplotlib inline\n",
    "pd.DataFrame(clf.feature_importances_,index=X.columns).sort_values(by=0).plot(kind='barh',legend=False)"
   ]
  },
  {
   "cell_type": "code",
   "execution_count": null,
   "metadata": {},
   "outputs": [],
   "source": []
  }
 ],
 "metadata": {
  "kernelspec": {
   "display_name": "Python 3",
   "language": "python",
   "name": "python3"
  },
  "language_info": {
   "codemirror_mode": {
    "name": "ipython",
    "version": 3
   },
   "file_extension": ".py",
   "mimetype": "text/x-python",
   "name": "python",
   "nbconvert_exporter": "python",
   "pygments_lexer": "ipython3",
   "version": "3.6.5"
  }
 },
 "nbformat": 4,
 "nbformat_minor": 2
}
