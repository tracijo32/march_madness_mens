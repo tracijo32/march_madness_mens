{
 "cells": [
  {
   "cell_type": "code",
   "execution_count": 1,
   "metadata": {},
   "outputs": [],
   "source": [
    "import pandas as pd\n",
    "import numpy as np\n",
    "df = pd.concat([pd.read_csv('DataFiles/RegularSeasonCompactResults.csv'),\n",
    "               pd.read_csv('DataFiles/NCAATourneyCompactResults.csv')]).reset_index(drop=True)\n",
    "df = df.sort_values(by=['Season','DayNum'])"
   ]
  },
  {
   "cell_type": "code",
   "execution_count": 13,
   "metadata": {},
   "outputs": [],
   "source": [
    "def forecast(df,K,HCA,R,return_prob=False):\n",
    "    start = time.time()\n",
    "    prob_all = np.zeros(len(df))\n",
    "    WElo = np.zeros(len(df))\n",
    "    LElo = np.zeros(len(df))\n",
    "    \n",
    "    team_elo = {t:1300 for t in df['WTeamID'].unique()}\n",
    "    season = 1985\n",
    "    for i,game in df.iterrows():\n",
    "        \n",
    "        if game['Season'] > season:\n",
    "            for team,elo in team_elo.items():\n",
    "                if team_elo[team] != 1300:\n",
    "                    team_elo[team] = 1505*R + elo*(1-R)\n",
    "            season = game['Season']\n",
    "        \n",
    "        locW = game['WLoc']\n",
    "        if locW == 'H':\n",
    "            value = HCA\n",
    "        elif locW == 'A':\n",
    "            value = -HCA\n",
    "        else:\n",
    "            value = 0\n",
    "        \n",
    "        elo_diff = team_elo[game['WTeamID']]-team_elo[game['LTeamID']]+value\n",
    "        probW = 1 / (10**(-elo_diff/400) + 1)  \n",
    "        \n",
    "        MOV = game['WScore']=game['LScore']\n",
    "    \n",
    "        mult = (MOV+3)**0.8 / (7.5 + 0.006*elo_diff)\n",
    "    \n",
    "        shift = K*mult*(1-probW)\n",
    "        \n",
    "        WElo[i] = team_elo[game['WTeamID']]\n",
    "        LElo[i] = team_elo[game['LTeamID']]\n",
    "        \n",
    "        team_elo[game['WTeamID']] = team_elo[game['WTeamID']] + shift\n",
    "        team_elo[game['LTeamID']] = team_elo[game['LTeamID']] - shift\n",
    "        \n",
    "        prob_all[i] = probW\n",
    "        \n",
    "        \n",
    "    idx = df[df['Season'] >= 2003].iloc[0].name\n",
    "    prob_set = prob_all[idx:]\n",
    "    score = (prob_set > 0.5).sum()/len(prob_set)\n",
    "    sumprob = prob_set.sum()/len(prob_set)\n",
    "    logloss = -np.log(prob_set).mean()\n",
    "    \n",
    "    end = time.time()\n",
    "    \n",
    "    dt = end-start\n",
    "        \n",
    "    if return_prob:\n",
    "        return prob_all, WElo, LElo\n",
    "    else:\n",
    "        result = {'K':K,'HCA':HCA,'R':R,'score':score,'sumprob':sumprob,'logloss':logloss}\n",
    "        print('K=%d,HCA=%d,R=1/%d...score=%0.3f,sumprob=%0.3f...Elapsed Time: %0.1f sec' % \\\n",
    "              (K,HCA,1/R,score,sumprob,dt))\n",
    "        return result"
   ]
  },
  {
   "cell_type": "code",
   "execution_count": 14,
   "metadata": {},
   "outputs": [
    {
     "name": "stdout",
     "output_type": "stream",
     "text": [
      "K=5,HCA=50,R=1/8...score=0.722,sumprob=0.600...Elapsed Time: 50.5 sec\n",
      "K=5,HCA=50,R=1/20...score=0.720,sumprob=0.609...Elapsed Time: 50.6 sec\n",
      "K=5,HCA=50,R=1/10...score=0.722,sumprob=0.603...Elapsed Time: 50.7 sec\n",
      "K=5,HCA=50,R=1/6...score=0.723,sumprob=0.595...Elapsed Time: 50.5 sec\n",
      "K=5,HCA=100,R=1/20...score=0.722,sumprob=0.622...Elapsed Time: 33.6 sec\n",
      "K=5,HCA=100,R=1/10...score=0.722,sumprob=0.615...Elapsed Time: 33.8 sec\n",
      "K=5,HCA=100,R=1/6...score=0.720,sumprob=0.609...Elapsed Time: 33.7 sec\n",
      "K=5,HCA=100,R=1/8...score=0.721,sumprob=0.613...Elapsed Time: 34.0 sec\n",
      "K=5,HCA=150,R=1/10...score=0.710,sumprob=0.627...Elapsed Time: 27.5 sec\n",
      "K=5,HCA=150,R=1/20...score=0.714,sumprob=0.632...Elapsed Time: 27.9 sec\n",
      "K=5,HCA=150,R=1/8...score=0.709,sumprob=0.624...Elapsed Time: 27.7 sec\n",
      "K=5,HCA=150,R=1/6...score=0.707,sumprob=0.621...Elapsed Time: 27.8 sec\n",
      "K=10,HCA=50,R=1/20...score=0.722,sumprob=0.624...Elapsed Time: 27.8 sec\n",
      "K=10,HCA=50,R=1/8...score=0.723,sumprob=0.617...Elapsed Time: 27.8 sec\n",
      "K=10,HCA=50,R=1/10...score=0.723,sumprob=0.619...Elapsed Time: 28.0 sec\n",
      "K=10,HCA=50,R=1/6...score=0.723,sumprob=0.613...Elapsed Time: 27.9 sec\n",
      "K=10,HCA=100,R=1/20...score=0.729,sumprob=0.636...Elapsed Time: 30.5 sec\n",
      "K=10,HCA=100,R=1/10...score=0.729,sumprob=0.631...Elapsed Time: 30.7 sec\n",
      "K=10,HCA=100,R=1/8...score=0.728,sumprob=0.629...Elapsed Time: 30.9 sec\n",
      "K=10,HCA=100,R=1/6...score=0.728,sumprob=0.626...Elapsed Time: 30.9 sec\n",
      "K=10,HCA=150,R=1/20...score=0.723,sumprob=0.646...Elapsed Time: 28.1 sec\n",
      "K=10,HCA=150,R=1/10...score=0.721,sumprob=0.642...Elapsed Time: 27.8 sec\n",
      "K=10,HCA=150,R=1/8...score=0.720,sumprob=0.640...Elapsed Time: 28.0 sec\n",
      "K=10,HCA=150,R=1/6...score=0.720,sumprob=0.637...Elapsed Time: 28.2 sec\n",
      "K=20,HCA=50,R=1/20...score=0.713,sumprob=0.634...Elapsed Time: 36.0 sec\n",
      "K=20,HCA=50,R=1/10...score=0.713,sumprob=0.631...Elapsed Time: 36.1 sec\n",
      "K=20,HCA=50,R=1/8...score=0.713,sumprob=0.629...Elapsed Time: 36.4 sec\n",
      "K=20,HCA=50,R=1/6...score=0.712,sumprob=0.627...Elapsed Time: 36.3 sec\n",
      "K=20,HCA=100,R=1/20...score=0.721,sumprob=0.645...Elapsed Time: 29.2 sec\n",
      "K=20,HCA=100,R=1/10...score=0.720,sumprob=0.642...Elapsed Time: 29.2 sec\n",
      "K=20,HCA=100,R=1/8...score=0.721,sumprob=0.641...Elapsed Time: 29.4 sec\n",
      "K=20,HCA=100,R=1/6...score=0.720,sumprob=0.639...Elapsed Time: 29.4 sec\n",
      "K=20,HCA=150,R=1/20...score=0.721,sumprob=0.655...Elapsed Time: 28.1 sec\n",
      "K=20,HCA=150,R=1/10...score=0.720,sumprob=0.652...Elapsed Time: 28.1 sec\n",
      "K=20,HCA=150,R=1/8...score=0.720,sumprob=0.651...Elapsed Time: 28.3 sec\n",
      "K=20,HCA=150,R=1/6...score=0.719,sumprob=0.649...Elapsed Time: 28.3 sec\n",
      "K=30,HCA=50,R=1/20...score=0.701,sumprob=0.637...Elapsed Time: 27.9 sec\n",
      "K=30,HCA=50,R=1/10...score=0.700,sumprob=0.635...Elapsed Time: 28.0 sec\n",
      "K=30,HCA=50,R=1/8...score=0.700,sumprob=0.633...Elapsed Time: 28.1 sec\n",
      "K=30,HCA=50,R=1/6...score=0.700,sumprob=0.632...Elapsed Time: 28.1 sec\n",
      "K=30,HCA=100,R=1/20...score=0.710,sumprob=0.648...Elapsed Time: 27.7 sec\n",
      "K=30,HCA=100,R=1/10...score=0.710,sumprob=0.646...Elapsed Time: 27.7 sec\n",
      "K=30,HCA=100,R=1/8...score=0.710,sumprob=0.645...Elapsed Time: 27.7 sec\n",
      "K=30,HCA=100,R=1/6...score=0.709,sumprob=0.643...Elapsed Time: 27.9 sec\n",
      "K=30,HCA=150,R=1/20...score=0.712,sumprob=0.657...Elapsed Time: 27.7 sec\n",
      "K=30,HCA=150,R=1/10...score=0.713,sumprob=0.655...Elapsed Time: 27.7 sec\n",
      "K=30,HCA=150,R=1/8...score=0.713,sumprob=0.654...Elapsed Time: 27.8 sec\n",
      "K=30,HCA=150,R=1/6...score=0.712,sumprob=0.653...Elapsed Time: 27.5 sec\n",
      "Elapsed time: 6.3 min\n"
     ]
    },
    {
     "name": "stderr",
     "output_type": "stream",
     "text": [
      "Process ForkPoolWorker-8:\n",
      "Process ForkPoolWorker-7:\n",
      "Process ForkPoolWorker-5:\n",
      "Process ForkPoolWorker-6:\n",
      "Traceback (most recent call last):\n",
      "Traceback (most recent call last):\n",
      "Traceback (most recent call last):\n",
      "Traceback (most recent call last):\n",
      "  File \"/usr/local/anaconda3/lib/python3.6/multiprocessing/process.py\", line 258, in _bootstrap\n",
      "    self.run()\n",
      "  File \"/usr/local/anaconda3/lib/python3.6/multiprocessing/process.py\", line 258, in _bootstrap\n",
      "    self.run()\n",
      "  File \"/usr/local/anaconda3/lib/python3.6/multiprocessing/process.py\", line 258, in _bootstrap\n",
      "    self.run()\n",
      "  File \"/usr/local/anaconda3/lib/python3.6/multiprocessing/process.py\", line 258, in _bootstrap\n",
      "    self.run()\n",
      "  File \"/usr/local/anaconda3/lib/python3.6/multiprocessing/process.py\", line 93, in run\n",
      "    self._target(*self._args, **self._kwargs)\n",
      "  File \"/usr/local/anaconda3/lib/python3.6/multiprocessing/process.py\", line 93, in run\n",
      "    self._target(*self._args, **self._kwargs)\n",
      "  File \"/usr/local/anaconda3/lib/python3.6/multiprocessing/process.py\", line 93, in run\n",
      "    self._target(*self._args, **self._kwargs)\n",
      "  File \"/usr/local/anaconda3/lib/python3.6/multiprocessing/pool.py\", line 108, in worker\n",
      "    task = get()\n",
      "  File \"/usr/local/anaconda3/lib/python3.6/multiprocessing/process.py\", line 93, in run\n",
      "    self._target(*self._args, **self._kwargs)\n",
      "  File \"/usr/local/anaconda3/lib/python3.6/multiprocessing/pool.py\", line 108, in worker\n",
      "    task = get()\n",
      "  File \"/usr/local/anaconda3/lib/python3.6/multiprocessing/queues.py\", line 334, in get\n",
      "    with self._rlock:\n",
      "  File \"/usr/local/anaconda3/lib/python3.6/multiprocessing/pool.py\", line 108, in worker\n",
      "    task = get()\n",
      "  File \"/usr/local/anaconda3/lib/python3.6/multiprocessing/pool.py\", line 108, in worker\n",
      "    task = get()\n",
      "  File \"/usr/local/anaconda3/lib/python3.6/multiprocessing/queues.py\", line 335, in get\n",
      "    res = self._reader.recv_bytes()\n",
      "  File \"/usr/local/anaconda3/lib/python3.6/multiprocessing/synchronize.py\", line 96, in __enter__\n",
      "    return self._semlock.__enter__()\n",
      "  File \"/usr/local/anaconda3/lib/python3.6/multiprocessing/connection.py\", line 216, in recv_bytes\n",
      "    buf = self._recv_bytes(maxlength)\n",
      "  File \"/usr/local/anaconda3/lib/python3.6/multiprocessing/queues.py\", line 334, in get\n",
      "    with self._rlock:\n",
      "  File \"/usr/local/anaconda3/lib/python3.6/multiprocessing/queues.py\", line 334, in get\n",
      "    with self._rlock:\n",
      "KeyboardInterrupt\n",
      "  File \"/usr/local/anaconda3/lib/python3.6/multiprocessing/connection.py\", line 407, in _recv_bytes\n",
      "    buf = self._recv(4)\n",
      "  File \"/usr/local/anaconda3/lib/python3.6/multiprocessing/synchronize.py\", line 96, in __enter__\n",
      "    return self._semlock.__enter__()\n",
      "  File \"/usr/local/anaconda3/lib/python3.6/multiprocessing/synchronize.py\", line 96, in __enter__\n",
      "    return self._semlock.__enter__()\n",
      "  File \"/usr/local/anaconda3/lib/python3.6/multiprocessing/connection.py\", line 379, in _recv\n",
      "    chunk = read(handle, remaining)\n",
      "KeyboardInterrupt\n",
      "KeyboardInterrupt\n",
      "KeyboardInterrupt\n"
     ]
    }
   ],
   "source": [
    "import time\n",
    "import multiprocessing as mp\n",
    "\n",
    "k = [5,10,20,30]\n",
    "hca=[50,100,150]\n",
    "r=[1/20,1/10,1/8,1/6]\n",
    "\n",
    "start = time.time()\n",
    "pool = mp.Pool(processes=4)\n",
    "results = [pool.apply_async(forecast, args = (df,K,HCA,R)) \\\n",
    "           for K in k for HCA in hca for R in r]\n",
    "output = [p.get() for p in results]\n",
    "\n",
    "end = time.time()\n",
    "\n",
    "t = (end-start)/60\n",
    "print('Elapsed time: %0.1f min' % t)"
   ]
  },
  {
   "cell_type": "code",
   "execution_count": 16,
   "metadata": {},
   "outputs": [
    {
     "data": {
      "text/plain": [
       "R\n",
       "0.050000    0.550130\n",
       "0.100000    0.548794\n",
       "0.125000    0.549596\n",
       "0.166667    0.551052\n",
       "Name: logloss, dtype: float64"
      ]
     },
     "execution_count": 16,
     "metadata": {},
     "output_type": "execute_result"
    }
   ],
   "source": [
    "elo_df = pd.DataFrame(output)"
   ]
  },
  {
   "cell_type": "code",
   "execution_count": 17,
   "metadata": {},
   "outputs": [],
   "source": [
    "best = elo_df.loc[elo_df['logloss'].idxmin()]"
   ]
  },
  {
   "cell_type": "code",
   "execution_count": 18,
   "metadata": {},
   "outputs": [
    {
     "data": {
      "text/plain": [
       "HCA        100.000000\n",
       "K           10.000000\n",
       "R            0.050000\n",
       "logloss      0.531333\n",
       "score        0.728667\n",
       "Name: 16, dtype: float64"
      ]
     },
     "execution_count": 18,
     "metadata": {},
     "output_type": "execute_result"
    }
   ],
   "source": [
    "best.head()"
   ]
  },
  {
   "cell_type": "code",
   "execution_count": 19,
   "metadata": {},
   "outputs": [],
   "source": [
    "df['Elo_Prob'], df['WElo'], df['LElo'] = forecast(df,best['K'],best['HCA'],best['R'],return_prob=True)"
   ]
  },
  {
   "cell_type": "code",
   "execution_count": null,
   "metadata": {},
   "outputs": [],
   "source": []
  },
  {
   "cell_type": "code",
   "execution_count": null,
   "metadata": {},
   "outputs": [],
   "source": []
  },
  {
   "cell_type": "code",
   "execution_count": null,
   "metadata": {},
   "outputs": [],
   "source": []
  },
  {
   "cell_type": "code",
   "execution_count": 20,
   "metadata": {},
   "outputs": [],
   "source": [
    "slots = pd.read_csv('DataFiles/NCAATourneySlots.csv')\n",
    "seeds = pd.read_csv('DataFiles/NCAATourneySeeds.csv')"
   ]
  },
  {
   "cell_type": "code",
   "execution_count": 24,
   "metadata": {},
   "outputs": [
    {
     "name": "stdout",
     "output_type": "stream",
     "text": [
      "Done with season 2014\n",
      "Done with season 2015\n",
      "Done with season 2016\n",
      "Done with season 2017\n",
      "Done with season 2018\n"
     ]
    }
   ],
   "source": [
    "submit = []\n",
    "for s in range(2014,2019):\n",
    "    stats = []\n",
    "    subset = df[(df['Season'] == s) & (df['DayNum'] <= 133)]\n",
    "    for t in seeds[seeds['Season'] == s]['TeamID']:\n",
    "        row = {'TeamID':t}\n",
    "        team_stats = subset[(subset['WTeamID'] == t) | (subset['LTeamID'] == t)]\n",
    "        team_stats = team_stats.iloc[0]\n",
    "        if team_stats['WTeamID'] == t:\n",
    "            row['EloDiff'] = team_stats['WElo'] - team_stats['LElo']\n",
    "        else:\n",
    "            row['EloDiff'] = team_stats['LElo'] - team_stats['WElo']\n",
    "        stats.append(row)\n",
    "    stats = pd.DataFrame(stats).sort_values('TeamID').set_index('TeamID')\n",
    "    \n",
    "    pairings = []\n",
    "    for i in range(len(stats)):\n",
    "        teamA = stats.iloc[i]\n",
    "        for j in range(i+1,len(stats)):\n",
    "            teamB = stats.iloc[j]\n",
    "            x = teamA - teamB\n",
    "            x['TeamA'] = teamA.name\n",
    "            x['TeamB'] = teamB.name\n",
    "            pairings.append(x)\n",
    "    \n",
    "    pairings = pd.DataFrame(pairings)\n",
    "    \n",
    "    pairings['Pred'] = pairings['EloDiff'].apply(lambda x: 1 / (10**(-x/400) + 1))\n",
    "    \n",
    "    pairings['ID'] = pairings.apply(lambda row: '%d_%d_%d' % (s,row['TeamA'],row['TeamB']),axis=1)\n",
    "    \n",
    "    submit.append(pairings[['ID','Pred']])\n",
    "    print('Done with season %d' % s)\n",
    "\n",
    "submit = pd.concat(submit).set_index('ID')"
   ]
  },
  {
   "cell_type": "code",
   "execution_count": 28,
   "metadata": {},
   "outputs": [],
   "source": [
    "filename = 'submission_elo.csv'\n",
    "submit.to_csv(filename)\n",
    "\n",
    "message = 'Elo scores only, with K=%d R=1/%d HCA=%d' % (best['K'],1/best['R'],best['HCA'])"
   ]
  },
  {
   "cell_type": "code",
   "execution_count": 33,
   "metadata": {},
   "outputs": [
    {
     "name": "stdout",
     "output_type": "stream",
     "text": [
      "Submission Complete!\n"
     ]
    }
   ],
   "source": [
    "import os\n",
    "os.system('kaggle competitions submit -c mens-machine-learning-competition-2019 -f %s -m \"%s\"' % (filename,message))\n",
    "print('Submission Complete!')"
   ]
  },
  {
   "cell_type": "code",
   "execution_count": null,
   "metadata": {},
   "outputs": [],
   "source": []
  }
 ],
 "metadata": {
  "kernelspec": {
   "display_name": "Python 3",
   "language": "python",
   "name": "python3"
  },
  "language_info": {
   "codemirror_mode": {
    "name": "ipython",
    "version": 3
   },
   "file_extension": ".py",
   "mimetype": "text/x-python",
   "name": "python",
   "nbconvert_exporter": "python",
   "pygments_lexer": "ipython3",
   "version": "3.6.5"
  }
 },
 "nbformat": 4,
 "nbformat_minor": 2
}
