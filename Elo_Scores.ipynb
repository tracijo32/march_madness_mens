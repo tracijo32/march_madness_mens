{
 "cells": [
  {
   "cell_type": "markdown",
   "metadata": {},
   "source": [
    "Elo scores were first developed for chess but have been adopted to predict outcomes of other games and sports. I have chosen to use the NBA Elo scores developed by [FiveThirtyEight](https://fivethirtyeight.com/features/how-we-calculate-nba-elo-ratings/).\n",
    "\n",
    "We can calculate the probability of winning based on the Elo score difference between any two teams.\n",
    "\n",
    "Elo scores are updated after a game occurs based on how surprising the outcome is. The larger the difference in the scores, the larger the expected point spread is. If the actual point differential is larger than expected, the more the Elo scores change. Elo scores are a zero-sum game, so points are added to the team who beats the point spread while points are taken from the other team.\n",
    "\n",
    "At the end of the season, the Elo scores revert back toward the mean of 1500.\n",
    "\n",
    "Not all the teams have been Division 1 since 1985, so we will have to add in the new teams at the beginning of the season. For that, we will need the data file indicating their first D1 season. Every team's first D1 season (starting with 1985) will have an Elo score of 1300. The next block of code propagates the Elo scores in chronological order.\n",
    "\n",
    "The NBA Elo forecast from FiveThirtyEight used parameters K=20, HCA=100, R=1/3. The K factor determines how many elo points are transferred from the losing team to the winning team. HCA is the home court advantage, which gives extra Elo points to the home team. The R factor is how much the Elo scores revert back to the mean. For example, if a team had 1800 points at the end of the season, they would revert to 1700, subtract 1/3 of the difference from 1500.\n",
    "\n",
    "We expect the NCAA to have similar values, but to be sure, we'll run the forecast with different parameters."
   ]
  },
  {
   "cell_type": "code",
   "execution_count": 1,
   "metadata": {},
   "outputs": [],
   "source": [
    "import pandas as pd\n",
    "import numpy as np\n",
    "df = pd.concat([pd.read_csv('DataFiles/RegularSeasonCompactResults.csv'),\n",
    "               pd.read_csv('DataFiles/NCAATourneyCompactResults.csv')]).reset_index(drop=True)\n",
    "df = df.sort_values(by=['Season','DayNum'])"
   ]
  },
  {
   "cell_type": "code",
   "execution_count": 6,
   "metadata": {},
   "outputs": [],
   "source": [
    "def forecast(df,K,HCA,R,return_df=False):\n",
    "    start = time.time()\n",
    "    prob_all = np.zeros(len(df))\n",
    "    new_df = df.copy()\n",
    "    \n",
    "    team_elo = {t:1300 for t in df['WTeamID'].unique()}\n",
    "    season = 1985\n",
    "    for i,game in df.iterrows():\n",
    "        \n",
    "        if game['Season'] > season:\n",
    "            for team,elo in team_elo.items():\n",
    "                if team_elo[team] != 1300:\n",
    "                    team_elo[team] = 1505*R + elo*(1-R)\n",
    "            season = game['Season']\n",
    "        \n",
    "        locW = game['WLoc']\n",
    "        if locW == 'H':\n",
    "            value = HCA\n",
    "        elif locW == 'A':\n",
    "            value = -HCA\n",
    "        else:\n",
    "            value = 0\n",
    "        \n",
    "        teamW = game['WTeamID']\n",
    "        teamL = game['LTeamID']\n",
    "        \n",
    "        eloW = team_elo[teamW]\n",
    "        eloL = team_elo[teamL]\n",
    "        \n",
    "        elo_diff = eloW-eloL+value\n",
    "        probW = 1 / (10**(-elo_diff/400) + 1)  \n",
    "        \n",
    "        MOV = game['WScore']-game['LScore']\n",
    "    \n",
    "        mult = (MOV+3)**0.8 / (7.5 + 0.006*elo_diff)\n",
    "    \n",
    "        shift = K*mult*(1-probW)\n",
    "        \n",
    "        new_df.at[i,'WElo_before'] = eloW\n",
    "        new_df.at[i,'LElo_before'] = eloL\n",
    "        \n",
    "        new_eloW = eloW + shift\n",
    "        new_eloL = eloL - shift\n",
    "        \n",
    "        new_df.at[i,'WElo_after'] = new_eloW\n",
    "        new_df.at[i,'LElo_after'] = new_eloL\n",
    "        \n",
    "        new_df.at[i,'Elo_Prob'] = probW\n",
    "        \n",
    "        team_elo[teamW] = new_eloW\n",
    "        team_elo[teamL] = new_eloL\n",
    "        \n",
    "        \n",
    "    df_cut = new_df[new_df['Season'] >= 2003]\n",
    "    logloss = -np.log(df_cut['Elo_Prob']).mean()\n",
    "    \n",
    "    end = time.time()\n",
    "    \n",
    "    dt = end-start\n",
    "        \n",
    "    if return_df:\n",
    "        return new_df\n",
    "    else:\n",
    "        result = {'K':K,'HCA':HCA,'R':R,'logloss':logloss}\n",
    "        print('K=%d,HCA=%d,R=1/%d...logloss=%0.3f...Elapsed Time: %0.1f sec' % \\\n",
    "              (K,HCA,1/R,logloss,dt))\n",
    "        return result"
   ]
  },
  {
   "cell_type": "code",
   "execution_count": 7,
   "metadata": {},
   "outputs": [
    {
     "name": "stdout",
     "output_type": "stream",
     "text": [
      "K=10,HCA=100,R=1/3...logloss=0.565...Elapsed Time: 37.6 sec\n",
      "K=10,HCA=200,R=1/5...logloss=0.582...Elapsed Time: 37.9 sec\n",
      "K=10,HCA=100,R=1/4...logloss=0.559...Elapsed Time: 38.5 sec\n",
      "K=10,HCA=100,R=1/5...logloss=0.555...Elapsed Time: 39.0 sec\n",
      "K=10,HCA=200,R=1/4...logloss=0.585...Elapsed Time: 32.7 sec\n",
      "K=10,HCA=200,R=1/3...logloss=0.591...Elapsed Time: 32.9 sec\n",
      "K=10,HCA=300,R=1/5...logloss=0.652...Elapsed Time: 32.8 sec\n",
      "K=10,HCA=300,R=1/4...logloss=0.656...Elapsed Time: 33.0 sec\n",
      "K=10,HCA=300,R=1/3...logloss=0.662...Elapsed Time: 37.8 sec\n",
      "K=10,HCA=400,R=1/4...logloss=0.758...Elapsed Time: 37.8 sec\n",
      "K=10,HCA=400,R=1/5...logloss=0.754...Elapsed Time: 38.2 sec\n",
      "K=10,HCA=400,R=1/3...logloss=0.765...Elapsed Time: 37.5 sec\n",
      "K=20,HCA=100,R=1/5...logloss=0.535...Elapsed Time: 32.7 sec\n",
      "K=20,HCA=100,R=1/4...logloss=0.538...Elapsed Time: 32.7 sec\n",
      "K=20,HCA=100,R=1/3...logloss=0.542...Elapsed Time: 32.6 sec\n",
      "K=20,HCA=200,R=1/5...logloss=0.560...Elapsed Time: 32.6 sec\n",
      "K=20,HCA=200,R=1/4...logloss=0.563...Elapsed Time: 31.8 sec\n",
      "K=20,HCA=200,R=1/3...logloss=0.567...Elapsed Time: 32.0 sec\n",
      "K=20,HCA=300,R=1/4...logloss=0.630...Elapsed Time: 31.8 sec\n",
      "K=20,HCA=300,R=1/5...logloss=0.628...Elapsed Time: 32.2 sec\n",
      "K=20,HCA=300,R=1/3...logloss=0.635...Elapsed Time: 29.2 sec\n",
      "K=20,HCA=400,R=1/5...logloss=0.724...Elapsed Time: 29.3 sec\n",
      "K=20,HCA=400,R=1/4...logloss=0.727...Elapsed Time: 29.5 sec\n",
      "K=20,HCA=400,R=1/3...logloss=0.732...Elapsed Time: 29.4 sec\n",
      "K=30,HCA=100,R=1/5...logloss=0.526...Elapsed Time: 29.1 sec\n",
      "K=30,HCA=100,R=1/3...logloss=0.531...Elapsed Time: 29.1 sec\n",
      "K=30,HCA=100,R=1/4...logloss=0.528...Elapsed Time: 29.4 sec\n",
      "K=30,HCA=200,R=1/5...logloss=0.551...Elapsed Time: 29.3 sec\n",
      "K=30,HCA=200,R=1/4...logloss=0.553...Elapsed Time: 29.5 sec\n",
      "K=30,HCA=200,R=1/3...logloss=0.556...Elapsed Time: 30.0 sec\n",
      "K=30,HCA=300,R=1/5...logloss=0.617...Elapsed Time: 30.3 sec\n",
      "K=30,HCA=300,R=1/4...logloss=0.618...Elapsed Time: 30.4 sec\n",
      "K=30,HCA=300,R=1/3...logloss=0.622...Elapsed Time: 30.8 sec\n",
      "K=30,HCA=400,R=1/5...logloss=0.710...Elapsed Time: 30.7 sec\n",
      "K=30,HCA=400,R=1/4...logloss=0.712...Elapsed Time: 30.7 sec\n",
      "K=30,HCA=400,R=1/3...logloss=0.717...Elapsed Time: 30.8 sec\n",
      "K=40,HCA=100,R=1/5...logloss=0.523...Elapsed Time: 30.4 sec\n",
      "K=40,HCA=100,R=1/4...logloss=0.524...Elapsed Time: 30.6 sec\n",
      "K=40,HCA=100,R=1/3...logloss=0.526...Elapsed Time: 30.6 sec\n",
      "K=40,HCA=200,R=1/5...logloss=0.547...Elapsed Time: 30.5 sec\n",
      "K=40,HCA=200,R=1/4...logloss=0.548...Elapsed Time: 31.2 sec\n",
      "K=40,HCA=200,R=1/3...logloss=0.550...Elapsed Time: 31.4 sec\n",
      "K=40,HCA=300,R=1/5...logloss=0.612...Elapsed Time: 31.4 sec\n",
      "K=40,HCA=300,R=1/4...logloss=0.613...Elapsed Time: 31.4 sec\n",
      "K=40,HCA=300,R=1/3...logloss=0.616...Elapsed Time: 30.6 sec\n",
      "K=40,HCA=400,R=1/5...logloss=0.705...Elapsed Time: 30.2 sec\n",
      "K=40,HCA=400,R=1/4...logloss=0.706...Elapsed Time: 30.1 sec\n",
      "K=40,HCA=400,R=1/3...logloss=0.709...Elapsed Time: 29.9 sec\n",
      "Elapsed time: 6.5 min\n"
     ]
    }
   ],
   "source": [
    "import time\n",
    "import multiprocessing as mp\n",
    "\n",
    "k = [10,20,30,40]\n",
    "hca=[100,200,300,400]\n",
    "r=[1/5,1/4,1/3]\n",
    "\n",
    "start = time.time()\n",
    "pool = mp.Pool(processes=4)\n",
    "results = [pool.apply_async(forecast, args = (df,K,HCA,R)) \\\n",
    "           for K in k for HCA in hca for R in r]\n",
    "output = [p.get() for p in results]\n",
    "\n",
    "end = time.time()\n",
    "\n",
    "t = (end-start)/60\n",
    "print('Elapsed time: %0.1f min' % t)"
   ]
  },
  {
   "cell_type": "code",
   "execution_count": 8,
   "metadata": {},
   "outputs": [],
   "source": [
    "elo_df = pd.DataFrame(output)"
   ]
  },
  {
   "cell_type": "code",
   "execution_count": 9,
   "metadata": {},
   "outputs": [],
   "source": [
    "best = elo_df.loc[elo_df['logloss'].idxmin()]"
   ]
  },
  {
   "cell_type": "code",
   "execution_count": 10,
   "metadata": {},
   "outputs": [
    {
     "data": {
      "text/plain": [
       "HCA        100.000000\n",
       "K           40.000000\n",
       "R            0.200000\n",
       "logloss      0.522538\n",
       "Name: 36, dtype: float64"
      ]
     },
     "execution_count": 10,
     "metadata": {},
     "output_type": "execute_result"
    }
   ],
   "source": [
    "best.head()"
   ]
  },
  {
   "cell_type": "code",
   "execution_count": 12,
   "metadata": {},
   "outputs": [],
   "source": [
    "df = forecast(df,best['K'],best['HCA'],best['R'],return_df=True)"
   ]
  },
  {
   "cell_type": "code",
   "execution_count": null,
   "metadata": {},
   "outputs": [],
   "source": []
  },
  {
   "cell_type": "code",
   "execution_count": null,
   "metadata": {},
   "outputs": [],
   "source": []
  },
  {
   "cell_type": "code",
   "execution_count": null,
   "metadata": {},
   "outputs": [],
   "source": []
  },
  {
   "cell_type": "code",
   "execution_count": 13,
   "metadata": {},
   "outputs": [],
   "source": [
    "slots = pd.read_csv('DataFiles/NCAATourneySlots.csv')\n",
    "seeds = pd.read_csv('DataFiles/NCAATourneySeeds.csv')"
   ]
  },
  {
   "cell_type": "code",
   "execution_count": 26,
   "metadata": {},
   "outputs": [
    {
     "name": "stdout",
     "output_type": "stream",
     "text": [
      "Done with season 2014\n",
      "Done with season 2015\n",
      "Done with season 2016\n",
      "Done with season 2017\n",
      "Done with season 2018\n",
      "LogLoss = 0.5601\n"
     ]
    }
   ],
   "source": [
    "submit = []\n",
    "full = []\n",
    "for s in range(2014,2019):\n",
    "    stats = []\n",
    "    subset = df[(df['Season'] == s) & (df['DayNum'] <= 133)]\n",
    "    for t in seeds[seeds['Season'] == s]['TeamID']:\n",
    "        row = {'TeamID':t}\n",
    "        team_stats = subset[(subset['WTeamID'] == t) | (subset['LTeamID'] == t)]\n",
    "        team_stats = team_stats.loc[team_stats['DayNum'].idxmax()]\n",
    "        if team_stats['WTeamID'] == t:\n",
    "            row['Elo'] = team_stats['WElo_after']\n",
    "        else:\n",
    "            row['Elo'] = team_stats['LElo_after']\n",
    "        stats.append(row)\n",
    "    stats = pd.DataFrame(stats).sort_values('TeamID').set_index('TeamID')\n",
    "    \n",
    "    pairings = []\n",
    "    for i in range(len(stats)):\n",
    "        teamA = stats.iloc[i]\n",
    "        for j in range(i+1,len(stats)):\n",
    "            teamB = stats.iloc[j]\n",
    "            x = dict()\n",
    "            x['TeamA'] = teamA.name\n",
    "            x['TeamB'] = teamB.name\n",
    "            x['EloA'] = teamA['Elo']\n",
    "            x['EloB'] = teamB['Elo']\n",
    "            pairings.append(x)\n",
    "    \n",
    "    pairings = pd.DataFrame(pairings)\n",
    "    \n",
    "    pairings['EloDiff'] = pairings['EloA'] - pairings['EloB']\n",
    "    pairings['Pred'] = pairings['EloDiff'].apply(lambda x: 1 / (10**(-x/400) + 1))\n",
    "    \n",
    "    pairings['ID'] = pairings.apply(lambda row: '%d_%d_%d' % (s,row['TeamA'],row['TeamB']),axis=1)\n",
    "    pairings['Season'] = s\n",
    "    submit.append(pairings[['ID','Pred']])\n",
    "    \n",
    "    full.append(pairings)\n",
    "    \n",
    "    print('Done with season %d' % s)\n",
    "\n",
    "submit = pd.concat(submit).set_index('ID')\n",
    "full = pd.concat(full)\n",
    "\n",
    "## validation\n",
    "tourney = df[(df['DayNum'] > 133) & (df['Season'] >= 2014)]\n",
    "for i,game in tourney.iterrows():\n",
    "    season = game['Season']\n",
    "    teamW = game['WTeamID']\n",
    "    teamL = game['LTeamID']\n",
    "    teamA = min(teamW,teamL)\n",
    "    teamB = max(teamW,teamL)\n",
    "    p = full[(full['TeamA'] == teamA) & (full['TeamB'] == teamB) & (full['Season'] == season)]['Pred'].values[0]\n",
    "    if teamA == teamL:\n",
    "        p = 1 - p\n",
    "    tourney.at[i,'Pred'] = p\n",
    "logloss = -np.log(tourney['Pred']).mean()\n",
    "print('LogLoss = %0.4f' % logloss)"
   ]
  },
  {
   "cell_type": "code",
   "execution_count": 27,
   "metadata": {},
   "outputs": [],
   "source": [
    "stamp = pd.Timestamp.now()\n",
    "filename = 'submission_%d-%d-%d_%d:%d.csv' % (stamp.year,stamp.month,stamp.day,stamp.hour,stamp.minute)\n",
    "submit.to_csv(filename)\n",
    "\n",
    "message = 'Elo scores only, with K=%d R=1/%d HCA=%d' % (best['K'],1/best['R'],best['HCA'])\n",
    "print(message)"
   ]
  },
  {
   "cell_type": "code",
   "execution_count": 29,
   "metadata": {},
   "outputs": [
    {
     "name": "stdout",
     "output_type": "stream",
     "text": [
      "Submission Complete!\n"
     ]
    }
   ],
   "source": [
    "import os\n",
    "os.system('kaggle competitions submit -c mens-machine-learning-competition-2019 -f %s -m \"%s\"' % (filename,message))\n",
    "print('Submission Complete!')"
   ]
  },
  {
   "cell_type": "code",
   "execution_count": 31,
   "metadata": {},
   "outputs": [],
   "source": [
    "df.to_csv('elo_scores.csv')"
   ]
  },
  {
   "cell_type": "code",
   "execution_count": null,
   "metadata": {},
   "outputs": [],
   "source": []
  }
 ],
 "metadata": {
  "kernelspec": {
   "display_name": "Python 3",
   "language": "python",
   "name": "python3"
  },
  "language_info": {
   "codemirror_mode": {
    "name": "ipython",
    "version": 3
   },
   "file_extension": ".py",
   "mimetype": "text/x-python",
   "name": "python",
   "nbconvert_exporter": "python",
   "pygments_lexer": "ipython3",
   "version": "3.6.5"
  }
 },
 "nbformat": 4,
 "nbformat_minor": 2
}
